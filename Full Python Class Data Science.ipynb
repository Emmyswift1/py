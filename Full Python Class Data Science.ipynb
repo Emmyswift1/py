{
 "cells": [
  {
   "cell_type": "code",
   "execution_count": 5,
   "id": "6c0562cd",
   "metadata": {},
   "outputs": [
    {
     "name": "stdout",
     "output_type": "stream",
     "text": [
      "Hello World\n"
     ]
    }
   ],
   "source": [
    "print (\"Hello World\")"
   ]
  },
  {
   "cell_type": "code",
   "execution_count": 4,
   "id": "2354defc",
   "metadata": {},
   "outputs": [
    {
     "data": {
      "text/plain": [
       "str"
      ]
     },
     "execution_count": 4,
     "metadata": {},
     "output_type": "execute_result"
    }
   ],
   "source": [
    "type (\"Hello World\")"
   ]
  },
  {
   "cell_type": "code",
   "execution_count": 5,
   "id": "8dd5c227",
   "metadata": {},
   "outputs": [
    {
     "data": {
      "text/plain": [
       "int"
      ]
     },
     "execution_count": 5,
     "metadata": {},
     "output_type": "execute_result"
    }
   ],
   "source": [
    "type (20)"
   ]
  },
  {
   "cell_type": "code",
   "execution_count": 6,
   "id": "9a786ae0",
   "metadata": {},
   "outputs": [
    {
     "data": {
      "text/plain": [
       "float"
      ]
     },
     "execution_count": 6,
     "metadata": {},
     "output_type": "execute_result"
    }
   ],
   "source": [
    "type (2.0)"
   ]
  },
  {
   "cell_type": "code",
   "execution_count": 13,
   "id": "10dd3956",
   "metadata": {},
   "outputs": [
    {
     "data": {
      "text/plain": [
       "NoneType"
      ]
     },
     "execution_count": 13,
     "metadata": {},
     "output_type": "execute_result"
    }
   ],
   "source": [
    "type (None)"
   ]
  },
  {
   "cell_type": "code",
   "execution_count": 9,
   "id": "68e2e073",
   "metadata": {},
   "outputs": [],
   "source": [
    "x = 200"
   ]
  },
  {
   "cell_type": "code",
   "execution_count": 10,
   "id": "d6b76ad8",
   "metadata": {},
   "outputs": [
    {
     "data": {
      "text/plain": [
       "200"
      ]
     },
     "execution_count": 10,
     "metadata": {},
     "output_type": "execute_result"
    }
   ],
   "source": [
    "x"
   ]
  },
  {
   "cell_type": "code",
   "execution_count": 28,
   "id": "7923d620",
   "metadata": {},
   "outputs": [
    {
     "ename": "SyntaxError",
     "evalue": "invalid syntax (3063142398.py, line 1)",
     "output_type": "error",
     "traceback": [
      "\u001b[1;36m  Input \u001b[1;32mIn [28]\u001b[1;36m\u001b[0m\n\u001b[1;33m    type yes\u001b[0m\n\u001b[1;37m         ^\u001b[0m\n\u001b[1;31mSyntaxError\u001b[0m\u001b[1;31m:\u001b[0m invalid syntax\n"
     ]
    }
   ],
   "source": [
    "type yes"
   ]
  },
  {
   "cell_type": "code",
   "execution_count": 8,
   "id": "5f33859d",
   "metadata": {},
   "outputs": [
    {
     "data": {
      "text/plain": [
       "'Jesus loves you'"
      ]
     },
     "execution_count": 8,
     "metadata": {},
     "output_type": "execute_result"
    }
   ],
   "source": [
    "y = \"Jesus loves you\"\n",
    "y"
   ]
  },
  {
   "cell_type": "code",
   "execution_count": 9,
   "id": "91120475",
   "metadata": {},
   "outputs": [
    {
     "data": {
      "text/plain": [
       "'Jesus loves you'"
      ]
     },
     "execution_count": 9,
     "metadata": {},
     "output_type": "execute_result"
    }
   ],
   "source": [
    "y"
   ]
  },
  {
   "cell_type": "code",
   "execution_count": 11,
   "id": "80639955",
   "metadata": {},
   "outputs": [
    {
     "data": {
      "text/plain": [
       "(10, 50, 'Jesus loves')"
      ]
     },
     "execution_count": 11,
     "metadata": {},
     "output_type": "execute_result"
    }
   ],
   "source": [
    "x = 10\n",
    "y = 50\n",
    "z = \"Jesus loves\"\n",
    "x, y ,z"
   ]
  },
  {
   "cell_type": "code",
   "execution_count": 11,
   "id": "578c8a63",
   "metadata": {},
   "outputs": [
    {
     "name": "stdout",
     "output_type": "stream",
     "text": [
      "10\n",
      "50\n",
      "Jesus loves\n"
     ]
    }
   ],
   "source": [
    "x = 10\n",
    "y = 50\n",
    "z = \"Jesus loves\" #we use quotation because of string \n",
    "print (x)\n",
    "print (y) \n",
    "print (z)"
   ]
  },
  {
   "cell_type": "markdown",
   "id": "8e5e2de3",
   "metadata": {},
   "source": [
    "## Data Operations  "
   ]
  },
  {
   "cell_type": "markdown",
   "id": "66d09497",
   "metadata": {},
   "source": [
    "y"
   ]
  },
  {
   "cell_type": "code",
   "execution_count": 322,
   "id": "5da7a6fb",
   "metadata": {},
   "outputs": [
    {
     "data": {
      "text/plain": [
       "(20, 10, 11)"
      ]
     },
     "execution_count": 322,
     "metadata": {},
     "output_type": "execute_result"
    }
   ],
   "source": [
    "t = (20, 10, 11)\n",
    "t"
   ]
  },
  {
   "cell_type": "code",
   "execution_count": 323,
   "id": "5973fadd",
   "metadata": {},
   "outputs": [
    {
     "data": {
      "text/plain": [
       "(5, 14, 13)"
      ]
     },
     "execution_count": 323,
     "metadata": {},
     "output_type": "execute_result"
    }
   ],
   "source": [
    "s = (5, 14, 13)\n",
    "s"
   ]
  },
  {
   "cell_type": "code",
   "execution_count": 324,
   "id": "27b47bf9",
   "metadata": {},
   "outputs": [
    {
     "name": "stdout",
     "output_type": "stream",
     "text": [
      "(20, 10, 11, 5, 14, 13)\n"
     ]
    }
   ],
   "source": [
    "print (t + s)"
   ]
  },
  {
   "cell_type": "code",
   "execution_count": 20,
   "id": "209d1b13",
   "metadata": {},
   "outputs": [
    {
     "name": "stdout",
     "output_type": "stream",
     "text": [
      "100\n"
     ]
    }
   ],
   "source": [
    "print (t * s)"
   ]
  },
  {
   "cell_type": "code",
   "execution_count": 21,
   "id": "e54a999c",
   "metadata": {},
   "outputs": [
    {
     "name": "stdout",
     "output_type": "stream",
     "text": [
      "4.0\n"
     ]
    }
   ],
   "source": [
    "print (t / s)"
   ]
  },
  {
   "cell_type": "code",
   "execution_count": 22,
   "id": "acfbb882",
   "metadata": {},
   "outputs": [
    {
     "name": "stdout",
     "output_type": "stream",
     "text": [
      "25\n"
     ]
    }
   ],
   "source": [
    "print (t + s)"
   ]
  },
  {
   "cell_type": "code",
   "execution_count": 23,
   "id": "575820ec",
   "metadata": {},
   "outputs": [
    {
     "data": {
      "text/plain": [
       "4.0"
      ]
     },
     "execution_count": 23,
     "metadata": {},
     "output_type": "execute_result"
    }
   ],
   "source": [
    "t / s"
   ]
  },
  {
   "cell_type": "code",
   "execution_count": 24,
   "id": "962aa470",
   "metadata": {},
   "outputs": [
    {
     "name": "stdout",
     "output_type": "stream",
     "text": [
      "100\n",
      "4.0\n",
      "25\n"
     ]
    }
   ],
   "source": [
    "print (t * s)\n",
    "print (t / s)\n",
    "print (t + s)"
   ]
  },
  {
   "cell_type": "markdown",
   "id": "52d3786c",
   "metadata": {},
   "source": [
    "## The python programming FUNCTION ##"
   ]
  },
  {
   "cell_type": "code",
   "execution_count": 18,
   "id": "82485d5c",
   "metadata": {},
   "outputs": [],
   "source": [
    "def add (z, t):\n",
    "    return (z + t)"
   ]
  },
  {
   "cell_type": "code",
   "execution_count": 19,
   "id": "52b4b21d",
   "metadata": {},
   "outputs": [
    {
     "data": {
      "text/plain": [
       "11"
      ]
     },
     "execution_count": 19,
     "metadata": {},
     "output_type": "execute_result"
    }
   ],
   "source": [
    "add (5, 6)"
   ]
  },
  {
   "cell_type": "code",
   "execution_count": 20,
   "id": "5a02a078",
   "metadata": {},
   "outputs": [],
   "source": [
    "def me (d, f):\n",
    "    return (d - f)"
   ]
  },
  {
   "cell_type": "code",
   "execution_count": 21,
   "id": "d1ef81a0",
   "metadata": {},
   "outputs": [
    {
     "data": {
      "text/plain": [
       "40"
      ]
     },
     "execution_count": 21,
     "metadata": {},
     "output_type": "execute_result"
    }
   ],
   "source": [
    "me (90, 50)"
   ]
  },
  {
   "cell_type": "code",
   "execution_count": 22,
   "id": "937d4733",
   "metadata": {},
   "outputs": [],
   "source": [
    "def x (t , s):\n",
    "    a=t+s \n",
    "    b=t*s\n",
    "    c=t-s\n",
    "    d=t/s\n",
    "    return (a,b,c,d)"
   ]
  },
  {
   "cell_type": "code",
   "execution_count": 23,
   "id": "3b57ac1e",
   "metadata": {},
   "outputs": [
    {
     "data": {
      "text/plain": [
       "(520, 10000, 480, 25.0)"
      ]
     },
     "execution_count": 23,
     "metadata": {},
     "output_type": "execute_result"
    }
   ],
   "source": [
    "x (500, 20)"
   ]
  },
  {
   "cell_type": "code",
   "execution_count": 49,
   "id": "1d0e5523",
   "metadata": {},
   "outputs": [
    {
     "data": {
      "text/plain": [
       "(85, 400, 75)"
      ]
     },
     "execution_count": 49,
     "metadata": {},
     "output_type": "execute_result"
    }
   ],
   "source": [
    "x (80, 5)"
   ]
  },
  {
   "cell_type": "markdown",
   "id": "efe9bc13",
   "metadata": {},
   "source": [
    "IF STATEMENT"
   ]
  },
  {
   "cell_type": "code",
   "execution_count": 24,
   "id": "756ff084",
   "metadata": {},
   "outputs": [
    {
     "name": "stdout",
     "output_type": "stream",
     "text": [
      "g is greater than 50\n"
     ]
    }
   ],
   "source": [
    "g = 100\n",
    "if (g > 50):\n",
    "    print (\"g is greater than 50\")\n",
    "else:\n",
    "    print (\"g is less than 50\")"
   ]
  },
  {
   "cell_type": "markdown",
   "id": "6c922cb4",
   "metadata": {},
   "source": [
    "Data Collection in Python\n",
    "\n",
    "Tuple"
   ]
  },
  {
   "cell_type": "code",
   "execution_count": 25,
   "id": "c83e6cbc",
   "metadata": {},
   "outputs": [
    {
     "data": {
      "text/plain": [
       "(30, 2.0, 50, 32, 56, 81, 100)"
      ]
     },
     "execution_count": 25,
     "metadata": {},
     "output_type": "execute_result"
    }
   ],
   "source": [
    "c = (30, 2.0, 50, 32, 56, 81, 100)\n",
    "c"
   ]
  },
  {
   "cell_type": "code",
   "execution_count": 26,
   "id": "88befdba",
   "metadata": {},
   "outputs": [
    {
     "name": "stdout",
     "output_type": "stream",
     "text": [
      "30\n",
      "2.0\n",
      "50\n",
      "32\n",
      "56\n",
      "81\n",
      "100\n"
     ]
    }
   ],
   "source": [
    "for go in c:\n",
    "    print (go)"
   ]
  },
  {
   "cell_type": "markdown",
   "id": "73279ca2",
   "metadata": {},
   "source": [
    "Slicing in Tuple"
   ]
  },
  {
   "cell_type": "code",
   "execution_count": 27,
   "id": "18c6cb33",
   "metadata": {},
   "outputs": [
    {
     "name": "stdout",
     "output_type": "stream",
     "text": [
      "30\n",
      "2.0\n",
      "50\n",
      "50\n",
      "100\n"
     ]
    }
   ],
   "source": [
    "print (c[0])\n",
    "print (c[1])\n",
    "print (c[2])\n",
    "print (c[-5])\n",
    "print (c[-1])"
   ]
  },
  {
   "cell_type": "markdown",
   "id": "f24408cb",
   "metadata": {},
   "source": [
    "LIST"
   ]
  },
  {
   "cell_type": "code",
   "execution_count": 29,
   "id": "7b3f7acc",
   "metadata": {},
   "outputs": [
    {
     "data": {
      "text/plain": [
       "['a', 2.5, 70, 100]"
      ]
     },
     "execution_count": 29,
     "metadata": {},
     "output_type": "execute_result"
    }
   ],
   "source": [
    "k = [\"a\", 2.5, 70, 100]\n",
    "k"
   ]
  },
  {
   "cell_type": "code",
   "execution_count": 32,
   "id": "7771ddb1",
   "metadata": {},
   "outputs": [],
   "source": [
    "k.append (50)"
   ]
  },
  {
   "cell_type": "code",
   "execution_count": 89,
   "id": "9ffa45ca",
   "metadata": {},
   "outputs": [
    {
     "data": {
      "text/plain": [
       "['a', 2.5, 70, 100, 50]"
      ]
     },
     "execution_count": 89,
     "metadata": {},
     "output_type": "execute_result"
    }
   ],
   "source": [
    "k"
   ]
  },
  {
   "cell_type": "code",
   "execution_count": 92,
   "id": "bc3536c3",
   "metadata": {},
   "outputs": [
    {
     "name": "stdout",
     "output_type": "stream",
     "text": [
      "a\n",
      "2.5\n",
      "70\n",
      "100\n",
      "50\n"
     ]
    }
   ],
   "source": [
    "print (k[0])\n",
    "print (k[1])\n",
    "print (k[2])\n",
    "print (k[-3])\n",
    "print (k[-1])"
   ]
  },
  {
   "cell_type": "markdown",
   "id": "49dab6af",
   "metadata": {},
   "source": [
    "For Loop"
   ]
  },
  {
   "cell_type": "code",
   "execution_count": 95,
   "id": "7699b0e1",
   "metadata": {},
   "outputs": [
    {
     "name": "stdout",
     "output_type": "stream",
     "text": [
      "a\n",
      "2.5\n",
      "70\n",
      "100\n",
      "50\n",
      "50\n"
     ]
    }
   ],
   "source": [
    "for item in k:\n",
    "    print (item)"
   ]
  },
  {
   "cell_type": "markdown",
   "id": "a23a95c8",
   "metadata": {},
   "source": [
    "Operation on List"
   ]
  },
  {
   "cell_type": "code",
   "execution_count": 98,
   "id": "11efe543",
   "metadata": {},
   "outputs": [
    {
     "data": {
      "text/plain": [
       "[1, 5, 6, 2, 8, 9]"
      ]
     },
     "execution_count": 98,
     "metadata": {},
     "output_type": "execute_result"
    }
   ],
   "source": [
    "[1, 5, 6] + [2, 8, 9]"
   ]
  },
  {
   "cell_type": "code",
   "execution_count": 34,
   "id": "aae22252",
   "metadata": {},
   "outputs": [
    {
     "data": {
      "text/plain": [
       "[1, 1, 1, 1, 1, 1, 1, 1, 1, 1]"
      ]
     },
     "execution_count": 34,
     "metadata": {},
     "output_type": "execute_result"
    }
   ],
   "source": [
    "[1]*10"
   ]
  },
  {
   "cell_type": "code",
   "execution_count": 103,
   "id": "7d5f1faf",
   "metadata": {},
   "outputs": [
    {
     "data": {
      "text/plain": [
       "'Jesus loves you all expecially me'"
      ]
     },
     "execution_count": 103,
     "metadata": {},
     "output_type": "execute_result"
    }
   ],
   "source": [
    "h = (\"Jesus loves you all expecially me\")\n",
    "h"
   ]
  },
  {
   "cell_type": "code",
   "execution_count": 106,
   "id": "f771301a",
   "metadata": {},
   "outputs": [
    {
     "name": "stdout",
     "output_type": "stream",
     "text": [
      "e\n"
     ]
    }
   ],
   "source": [
    "print (h[-13])"
   ]
  },
  {
   "cell_type": "markdown",
   "id": "f833e512",
   "metadata": {},
   "source": [
    "Concatenating two strings"
   ]
  },
  {
   "cell_type": "code",
   "execution_count": 35,
   "id": "542d3b1f",
   "metadata": {},
   "outputs": [],
   "source": [
    "Firstname = \"Temilayo\"\n",
    "Lastname = \"Onayemi\"\n",
    "Country = \"United State\""
   ]
  },
  {
   "cell_type": "code",
   "execution_count": 36,
   "id": "0c354445",
   "metadata": {},
   "outputs": [
    {
     "data": {
      "text/plain": [
       "'Temilayo Onayemi United State'"
      ]
     },
     "execution_count": 36,
     "metadata": {},
     "output_type": "execute_result"
    }
   ],
   "source": [
    "Firstname + \" \" + Lastname + \" \" + Country"
   ]
  },
  {
   "cell_type": "code",
   "execution_count": 4,
   "id": "a40cf128",
   "metadata": {},
   "outputs": [
    {
     "data": {
      "text/plain": [
       "'2'"
      ]
     },
     "execution_count": 4,
     "metadata": {},
     "output_type": "execute_result"
    }
   ],
   "source": [
    "Z = str(2)\n",
    "Z"
   ]
  },
  {
   "cell_type": "code",
   "execution_count": 7,
   "id": "b4648a30",
   "metadata": {},
   "outputs": [
    {
     "data": {
      "text/plain": [
       "str"
      ]
     },
     "execution_count": 7,
     "metadata": {},
     "output_type": "execute_result"
    }
   ],
   "source": [
    "type (Z)"
   ]
  },
  {
   "cell_type": "code",
   "execution_count": 11,
   "id": "b170df37",
   "metadata": {},
   "outputs": [
    {
     "data": {
      "text/plain": [
       "'Dolapo 2.4'"
      ]
     },
     "execution_count": 11,
     "metadata": {},
     "output_type": "execute_result"
    }
   ],
   "source": [
    "\"Dolapo\" + \" \" + str(2.4)"
   ]
  },
  {
   "cell_type": "markdown",
   "id": "b7dd85db",
   "metadata": {},
   "source": [
    ".split function"
   ]
  },
  {
   "cell_type": "code",
   "execution_count": 17,
   "id": "80ce0982",
   "metadata": {},
   "outputs": [
    {
     "data": {
      "text/plain": [
       "'Yusuf Ayodele Emmanuel Nigeria'"
      ]
     },
     "execution_count": 17,
     "metadata": {},
     "output_type": "execute_result"
    }
   ],
   "source": [
    "name = \"Yusuf Ayodele Emmanuel Nigeria\"\n",
    "name"
   ]
  },
  {
   "cell_type": "code",
   "execution_count": 18,
   "id": "c36629d2",
   "metadata": {},
   "outputs": [
    {
     "data": {
      "text/plain": [
       "['Yusuf', 'Ayodele', 'Emmanuel', 'Nigeria']"
      ]
     },
     "execution_count": 18,
     "metadata": {},
     "output_type": "execute_result"
    }
   ],
   "source": [
    "name.split(\" \")"
   ]
  },
  {
   "cell_type": "code",
   "execution_count": 26,
   "id": "b5b2bf1f",
   "metadata": {},
   "outputs": [
    {
     "name": "stdout",
     "output_type": "stream",
     "text": [
      "Yusuf\n",
      "Ayodele\n",
      "Emmanuel\n",
      "Nigeria\n"
     ]
    }
   ],
   "source": [
    "Firstname = name.split(\" \")[0]\n",
    "Middlename = name.split(\" \")[1]\n",
    "Lastname = name.split(\" \")[2]\n",
    "Country = name.split(\" \")[3]\n",
    "\n",
    "print (Firstname)\n",
    "print (Middlename)\n",
    "print (Lastname)\n",
    "print (Country)"
   ]
  },
  {
   "cell_type": "code",
   "execution_count": 27,
   "id": "4459d369",
   "metadata": {},
   "outputs": [
    {
     "data": {
      "text/plain": [
       "'Rice Beans Eba Yam'"
      ]
     },
     "execution_count": 27,
     "metadata": {},
     "output_type": "execute_result"
    }
   ],
   "source": [
    "Food = \"Rice Beans Eba Yam\"\n",
    "Food"
   ]
  },
  {
   "cell_type": "code",
   "execution_count": 28,
   "id": "9df63ec4",
   "metadata": {},
   "outputs": [
    {
     "data": {
      "text/plain": [
       "['Rice', 'Beans', 'Eba', 'Yam']"
      ]
     },
     "execution_count": 28,
     "metadata": {},
     "output_type": "execute_result"
    }
   ],
   "source": [
    "Food.split (\" \")"
   ]
  },
  {
   "cell_type": "code",
   "execution_count": 31,
   "id": "1e9f341d",
   "metadata": {},
   "outputs": [
    {
     "name": "stdout",
     "output_type": "stream",
     "text": [
      "Rice\n",
      "Beans\n",
      "Eba\n",
      "Yam\n"
     ]
    }
   ],
   "source": [
    "Breakfast = Food.split(\" \")[0]\n",
    "Brunch = Food.split(\" \")[1]\n",
    "Lunch = Food.split(\" \")[2]\n",
    "Dinner = Food.split(\" \")[3]\n",
    "\n",
    "print (Breakfast)\n",
    "print (Brunch)\n",
    "print (Lunch)\n",
    "print (Dinner)\n"
   ]
  },
  {
   "cell_type": "markdown",
   "id": "c6c58c63",
   "metadata": {},
   "source": [
    "## Dictionary"
   ]
  },
  {
   "cell_type": "code",
   "execution_count": 45,
   "id": "75f2555b",
   "metadata": {},
   "outputs": [
    {
     "data": {
      "text/plain": [
       "{'name': 'Yusuf', 'password': 'Swiftss', 'Country': 'China'}"
      ]
     },
     "execution_count": 45,
     "metadata": {},
     "output_type": "execute_result"
    }
   ],
   "source": [
    "userDetails = {\"name\" : \"Yusuf\", \"password\" : \"Swiftss\", \"Country\" : \"China\"}\n",
    "userDetails"
   ]
  },
  {
   "cell_type": "code",
   "execution_count": 46,
   "id": "1b69db87",
   "metadata": {},
   "outputs": [
    {
     "data": {
      "text/plain": [
       "dict_keys(['name', 'password', 'Country'])"
      ]
     },
     "execution_count": 46,
     "metadata": {},
     "output_type": "execute_result"
    }
   ],
   "source": [
    "userDetails.keys ( )"
   ]
  },
  {
   "cell_type": "code",
   "execution_count": 47,
   "id": "a6e585c6",
   "metadata": {},
   "outputs": [
    {
     "data": {
      "text/plain": [
       "dict_values(['Yusuf', 'Swiftss', 'China'])"
      ]
     },
     "execution_count": 47,
     "metadata": {},
     "output_type": "execute_result"
    }
   ],
   "source": [
    "userDetails.values ( )"
   ]
  },
  {
   "cell_type": "code",
   "execution_count": 51,
   "id": "50c3959e",
   "metadata": {},
   "outputs": [
    {
     "data": {
      "text/plain": [
       "dict_items([('name', 'Yusuf'), ('password', 'Swiftss'), ('Country', 'China')])"
      ]
     },
     "execution_count": 51,
     "metadata": {},
     "output_type": "execute_result"
    }
   ],
   "source": [
    "userDetails.items ( )"
   ]
  },
  {
   "cell_type": "code",
   "execution_count": 37,
   "id": "b0f274ad",
   "metadata": {},
   "outputs": [
    {
     "data": {
      "text/plain": [
       "'Yusuf'"
      ]
     },
     "execution_count": 37,
     "metadata": {},
     "output_type": "execute_result"
    }
   ],
   "source": [
    "userDetails [\"name\"]"
   ]
  },
  {
   "cell_type": "code",
   "execution_count": 38,
   "id": "33f43a2b",
   "metadata": {},
   "outputs": [
    {
     "data": {
      "text/plain": [
       "'Swiftss'"
      ]
     },
     "execution_count": 38,
     "metadata": {},
     "output_type": "execute_result"
    }
   ],
   "source": [
    "userDetails [\"password\"]"
   ]
  },
  {
   "cell_type": "markdown",
   "id": "18f05db0",
   "metadata": {},
   "source": [
    "Iterating over all of the values"
   ]
  },
  {
   "cell_type": "code",
   "execution_count": 56,
   "id": "e0313f55",
   "metadata": {},
   "outputs": [
    {
     "name": "stdout",
     "output_type": "stream",
     "text": [
      "Yusuf\n",
      "Swiftss\n",
      "China\n"
     ]
    }
   ],
   "source": [
    "for i in userDetails.values():\n",
    "    print(i)"
   ]
  },
  {
   "cell_type": "code",
   "execution_count": 57,
   "id": "eadea814",
   "metadata": {},
   "outputs": [
    {
     "name": "stdout",
     "output_type": "stream",
     "text": [
      "name\n",
      "password\n",
      "Country\n"
     ]
    }
   ],
   "source": [
    "for me in userDetails.keys():\n",
    "    print(me)"
   ]
  },
  {
   "cell_type": "markdown",
   "id": "f6acb982",
   "metadata": {},
   "source": [
    "Iterate over both keys and values"
   ]
  },
  {
   "cell_type": "code",
   "execution_count": 75,
   "id": "b61a4a56",
   "metadata": {},
   "outputs": [
    {
     "name": "stdout",
     "output_type": "stream",
     "text": [
      "name\n",
      "Yusuf\n",
      "password\n",
      "Swiftss\n",
      "Country\n",
      "China\n"
     ]
    }
   ],
   "source": [
    "for n, p in userDetails.items():\n",
    "    print (n)\n",
    "    print (p)\n",
    "    \n",
    "    "
   ]
  },
  {
   "cell_type": "code",
   "execution_count": 78,
   "id": "c9afa81c",
   "metadata": {},
   "outputs": [
    {
     "data": {
      "text/plain": [
       "[0,\n",
       " 50,\n",
       " 100,\n",
       " 150,\n",
       " 200,\n",
       " 250,\n",
       " 300,\n",
       " 350,\n",
       " 400,\n",
       " 450,\n",
       " 500,\n",
       " 550,\n",
       " 600,\n",
       " 650,\n",
       " 700,\n",
       " 750,\n",
       " 800,\n",
       " 850,\n",
       " 900,\n",
       " 950,\n",
       " 1000,\n",
       " 1050,\n",
       " 1100,\n",
       " 1150,\n",
       " 1200,\n",
       " 1250,\n",
       " 1300,\n",
       " 1350,\n",
       " 1400,\n",
       " 1450,\n",
       " 1500,\n",
       " 1550,\n",
       " 1600,\n",
       " 1650,\n",
       " 1700,\n",
       " 1750,\n",
       " 1800,\n",
       " 1850,\n",
       " 1900,\n",
       " 1950,\n",
       " 2000,\n",
       " 2050,\n",
       " 2100,\n",
       " 2150,\n",
       " 2200,\n",
       " 2250,\n",
       " 2300,\n",
       " 2350,\n",
       " 2400,\n",
       " 2450,\n",
       " 2500,\n",
       " 2550,\n",
       " 2600,\n",
       " 2650,\n",
       " 2700,\n",
       " 2750,\n",
       " 2800,\n",
       " 2850,\n",
       " 2900,\n",
       " 2950,\n",
       " 3000,\n",
       " 3050,\n",
       " 3100,\n",
       " 3150,\n",
       " 3200,\n",
       " 3250,\n",
       " 3300,\n",
       " 3350,\n",
       " 3400,\n",
       " 3450,\n",
       " 3500,\n",
       " 3550,\n",
       " 3600,\n",
       " 3650,\n",
       " 3700,\n",
       " 3750,\n",
       " 3800,\n",
       " 3850,\n",
       " 3900,\n",
       " 3950,\n",
       " 4000,\n",
       " 4050,\n",
       " 4100,\n",
       " 4150,\n",
       " 4200,\n",
       " 4250,\n",
       " 4300,\n",
       " 4350,\n",
       " 4400,\n",
       " 4450,\n",
       " 4500,\n",
       " 4550,\n",
       " 4600,\n",
       " 4650,\n",
       " 4700,\n",
       " 4750,\n",
       " 4800,\n",
       " 4850,\n",
       " 4900,\n",
       " 4950,\n",
       " 5000,\n",
       " 5050,\n",
       " 5100,\n",
       " 5150,\n",
       " 5200,\n",
       " 5250,\n",
       " 5300,\n",
       " 5350,\n",
       " 5400,\n",
       " 5450,\n",
       " 5500,\n",
       " 5550,\n",
       " 5600,\n",
       " 5650,\n",
       " 5700,\n",
       " 5750,\n",
       " 5800,\n",
       " 5850,\n",
       " 5900,\n",
       " 5950,\n",
       " 6000,\n",
       " 6050,\n",
       " 6100,\n",
       " 6150,\n",
       " 6200,\n",
       " 6250,\n",
       " 6300,\n",
       " 6350,\n",
       " 6400,\n",
       " 6450,\n",
       " 6500,\n",
       " 6550,\n",
       " 6600,\n",
       " 6650,\n",
       " 6700,\n",
       " 6750,\n",
       " 6800,\n",
       " 6850,\n",
       " 6900,\n",
       " 6950,\n",
       " 7000,\n",
       " 7050,\n",
       " 7100,\n",
       " 7150,\n",
       " 7200,\n",
       " 7250,\n",
       " 7300,\n",
       " 7350,\n",
       " 7400,\n",
       " 7450,\n",
       " 7500,\n",
       " 7550,\n",
       " 7600,\n",
       " 7650,\n",
       " 7700,\n",
       " 7750,\n",
       " 7800,\n",
       " 7850,\n",
       " 7900,\n",
       " 7950,\n",
       " 8000,\n",
       " 8050,\n",
       " 8100,\n",
       " 8150,\n",
       " 8200,\n",
       " 8250,\n",
       " 8300,\n",
       " 8350,\n",
       " 8400,\n",
       " 8450,\n",
       " 8500,\n",
       " 8550,\n",
       " 8600,\n",
       " 8650,\n",
       " 8700,\n",
       " 8750,\n",
       " 8800,\n",
       " 8850,\n",
       " 8900,\n",
       " 8950,\n",
       " 9000,\n",
       " 9050,\n",
       " 9100,\n",
       " 9150,\n",
       " 9200,\n",
       " 9250,\n",
       " 9300,\n",
       " 9350,\n",
       " 9400,\n",
       " 9450,\n",
       " 9500,\n",
       " 9550,\n",
       " 9600,\n",
       " 9650,\n",
       " 9700,\n",
       " 9750,\n",
       " 9800,\n",
       " 9850,\n",
       " 9900,\n",
       " 9950]"
      ]
     },
     "execution_count": 78,
     "metadata": {},
     "output_type": "execute_result"
    }
   ],
   "source": [
    "my_list = [ ]\n",
    "for number in range (0, 10000):\n",
    "    if number %50 == 0:\n",
    "        my_list.append(number)\n",
    "my_list"
   ]
  },
  {
   "cell_type": "code",
   "execution_count": 79,
   "id": "fc09d005",
   "metadata": {},
   "outputs": [
    {
     "data": {
      "text/plain": [
       "[0,\n",
       " 5,\n",
       " 10,\n",
       " 15,\n",
       " 20,\n",
       " 25,\n",
       " 30,\n",
       " 35,\n",
       " 40,\n",
       " 45,\n",
       " 50,\n",
       " 55,\n",
       " 60,\n",
       " 65,\n",
       " 70,\n",
       " 75,\n",
       " 80,\n",
       " 85,\n",
       " 90,\n",
       " 95,\n",
       " 100,\n",
       " 105,\n",
       " 110,\n",
       " 115,\n",
       " 120,\n",
       " 125,\n",
       " 130,\n",
       " 135,\n",
       " 140,\n",
       " 145,\n",
       " 150,\n",
       " 155,\n",
       " 160,\n",
       " 165,\n",
       " 170,\n",
       " 175,\n",
       " 180,\n",
       " 185,\n",
       " 190,\n",
       " 195,\n",
       " 200,\n",
       " 205,\n",
       " 210,\n",
       " 215,\n",
       " 220,\n",
       " 225,\n",
       " 230,\n",
       " 235,\n",
       " 240,\n",
       " 245,\n",
       " 250,\n",
       " 255,\n",
       " 260,\n",
       " 265,\n",
       " 270,\n",
       " 275,\n",
       " 280,\n",
       " 285,\n",
       " 290,\n",
       " 295,\n",
       " 300,\n",
       " 305,\n",
       " 310,\n",
       " 315,\n",
       " 320,\n",
       " 325,\n",
       " 330,\n",
       " 335,\n",
       " 340,\n",
       " 345,\n",
       " 350,\n",
       " 355,\n",
       " 360,\n",
       " 365,\n",
       " 370,\n",
       " 375,\n",
       " 380,\n",
       " 385,\n",
       " 390,\n",
       " 395,\n",
       " 400,\n",
       " 405,\n",
       " 410,\n",
       " 415,\n",
       " 420,\n",
       " 425,\n",
       " 430,\n",
       " 435,\n",
       " 440,\n",
       " 445,\n",
       " 450,\n",
       " 455,\n",
       " 460,\n",
       " 465,\n",
       " 470,\n",
       " 475,\n",
       " 480,\n",
       " 485,\n",
       " 490,\n",
       " 495,\n",
       " 500,\n",
       " 505,\n",
       " 510,\n",
       " 515,\n",
       " 520,\n",
       " 525,\n",
       " 530,\n",
       " 535,\n",
       " 540,\n",
       " 545,\n",
       " 550,\n",
       " 555,\n",
       " 560,\n",
       " 565,\n",
       " 570,\n",
       " 575,\n",
       " 580,\n",
       " 585,\n",
       " 590,\n",
       " 595,\n",
       " 600,\n",
       " 605,\n",
       " 610,\n",
       " 615,\n",
       " 620,\n",
       " 625,\n",
       " 630,\n",
       " 635,\n",
       " 640,\n",
       " 645,\n",
       " 650,\n",
       " 655,\n",
       " 660,\n",
       " 665,\n",
       " 670,\n",
       " 675,\n",
       " 680,\n",
       " 685,\n",
       " 690,\n",
       " 695,\n",
       " 700,\n",
       " 705,\n",
       " 710,\n",
       " 715,\n",
       " 720,\n",
       " 725,\n",
       " 730,\n",
       " 735,\n",
       " 740,\n",
       " 745,\n",
       " 750,\n",
       " 755,\n",
       " 760,\n",
       " 765,\n",
       " 770,\n",
       " 775,\n",
       " 780,\n",
       " 785,\n",
       " 790,\n",
       " 795,\n",
       " 800,\n",
       " 805,\n",
       " 810,\n",
       " 815,\n",
       " 820,\n",
       " 825,\n",
       " 830,\n",
       " 835,\n",
       " 840,\n",
       " 845,\n",
       " 850,\n",
       " 855,\n",
       " 860,\n",
       " 865,\n",
       " 870,\n",
       " 875,\n",
       " 880,\n",
       " 885,\n",
       " 890,\n",
       " 895,\n",
       " 900,\n",
       " 905,\n",
       " 910,\n",
       " 915,\n",
       " 920,\n",
       " 925,\n",
       " 930,\n",
       " 935,\n",
       " 940,\n",
       " 945,\n",
       " 950,\n",
       " 955,\n",
       " 960,\n",
       " 965,\n",
       " 970,\n",
       " 975,\n",
       " 980,\n",
       " 985,\n",
       " 990,\n",
       " 995,\n",
       " 1000,\n",
       " 1005,\n",
       " 1010,\n",
       " 1015,\n",
       " 1020,\n",
       " 1025,\n",
       " 1030,\n",
       " 1035,\n",
       " 1040,\n",
       " 1045,\n",
       " 1050,\n",
       " 1055,\n",
       " 1060,\n",
       " 1065,\n",
       " 1070,\n",
       " 1075,\n",
       " 1080,\n",
       " 1085,\n",
       " 1090,\n",
       " 1095,\n",
       " 1100,\n",
       " 1105,\n",
       " 1110,\n",
       " 1115,\n",
       " 1120,\n",
       " 1125,\n",
       " 1130,\n",
       " 1135,\n",
       " 1140,\n",
       " 1145,\n",
       " 1150,\n",
       " 1155,\n",
       " 1160,\n",
       " 1165,\n",
       " 1170,\n",
       " 1175,\n",
       " 1180,\n",
       " 1185,\n",
       " 1190,\n",
       " 1195,\n",
       " 1200,\n",
       " 1205,\n",
       " 1210,\n",
       " 1215,\n",
       " 1220,\n",
       " 1225,\n",
       " 1230,\n",
       " 1235,\n",
       " 1240,\n",
       " 1245,\n",
       " 1250,\n",
       " 1255,\n",
       " 1260,\n",
       " 1265,\n",
       " 1270,\n",
       " 1275,\n",
       " 1280,\n",
       " 1285,\n",
       " 1290,\n",
       " 1295,\n",
       " 1300,\n",
       " 1305,\n",
       " 1310,\n",
       " 1315,\n",
       " 1320,\n",
       " 1325,\n",
       " 1330,\n",
       " 1335,\n",
       " 1340,\n",
       " 1345,\n",
       " 1350,\n",
       " 1355,\n",
       " 1360,\n",
       " 1365,\n",
       " 1370,\n",
       " 1375,\n",
       " 1380,\n",
       " 1385,\n",
       " 1390,\n",
       " 1395,\n",
       " 1400,\n",
       " 1405,\n",
       " 1410,\n",
       " 1415,\n",
       " 1420,\n",
       " 1425,\n",
       " 1430,\n",
       " 1435,\n",
       " 1440,\n",
       " 1445,\n",
       " 1450,\n",
       " 1455,\n",
       " 1460,\n",
       " 1465,\n",
       " 1470,\n",
       " 1475,\n",
       " 1480,\n",
       " 1485,\n",
       " 1490,\n",
       " 1495,\n",
       " 1500,\n",
       " 1505,\n",
       " 1510,\n",
       " 1515,\n",
       " 1520,\n",
       " 1525,\n",
       " 1530,\n",
       " 1535,\n",
       " 1540,\n",
       " 1545,\n",
       " 1550,\n",
       " 1555,\n",
       " 1560,\n",
       " 1565,\n",
       " 1570,\n",
       " 1575,\n",
       " 1580,\n",
       " 1585,\n",
       " 1590,\n",
       " 1595,\n",
       " 1600,\n",
       " 1605,\n",
       " 1610,\n",
       " 1615,\n",
       " 1620,\n",
       " 1625,\n",
       " 1630,\n",
       " 1635,\n",
       " 1640,\n",
       " 1645,\n",
       " 1650,\n",
       " 1655,\n",
       " 1660,\n",
       " 1665,\n",
       " 1670,\n",
       " 1675,\n",
       " 1680,\n",
       " 1685,\n",
       " 1690,\n",
       " 1695,\n",
       " 1700,\n",
       " 1705,\n",
       " 1710,\n",
       " 1715,\n",
       " 1720,\n",
       " 1725,\n",
       " 1730,\n",
       " 1735,\n",
       " 1740,\n",
       " 1745,\n",
       " 1750,\n",
       " 1755,\n",
       " 1760,\n",
       " 1765,\n",
       " 1770,\n",
       " 1775,\n",
       " 1780,\n",
       " 1785,\n",
       " 1790,\n",
       " 1795,\n",
       " 1800,\n",
       " 1805,\n",
       " 1810,\n",
       " 1815,\n",
       " 1820,\n",
       " 1825,\n",
       " 1830,\n",
       " 1835,\n",
       " 1840,\n",
       " 1845,\n",
       " 1850,\n",
       " 1855,\n",
       " 1860,\n",
       " 1865,\n",
       " 1870,\n",
       " 1875,\n",
       " 1880,\n",
       " 1885,\n",
       " 1890,\n",
       " 1895,\n",
       " 1900,\n",
       " 1905,\n",
       " 1910,\n",
       " 1915,\n",
       " 1920,\n",
       " 1925,\n",
       " 1930,\n",
       " 1935,\n",
       " 1940,\n",
       " 1945,\n",
       " 1950,\n",
       " 1955,\n",
       " 1960,\n",
       " 1965,\n",
       " 1970,\n",
       " 1975,\n",
       " 1980,\n",
       " 1985,\n",
       " 1990,\n",
       " 1995,\n",
       " 2000,\n",
       " 2005,\n",
       " 2010,\n",
       " 2015,\n",
       " 2020,\n",
       " 2025,\n",
       " 2030,\n",
       " 2035,\n",
       " 2040,\n",
       " 2045,\n",
       " 2050,\n",
       " 2055,\n",
       " 2060,\n",
       " 2065,\n",
       " 2070,\n",
       " 2075,\n",
       " 2080,\n",
       " 2085,\n",
       " 2090,\n",
       " 2095,\n",
       " 2100,\n",
       " 2105,\n",
       " 2110,\n",
       " 2115,\n",
       " 2120,\n",
       " 2125,\n",
       " 2130,\n",
       " 2135,\n",
       " 2140,\n",
       " 2145,\n",
       " 2150,\n",
       " 2155,\n",
       " 2160,\n",
       " 2165,\n",
       " 2170,\n",
       " 2175,\n",
       " 2180,\n",
       " 2185,\n",
       " 2190,\n",
       " 2195,\n",
       " 2200,\n",
       " 2205,\n",
       " 2210,\n",
       " 2215,\n",
       " 2220,\n",
       " 2225,\n",
       " 2230,\n",
       " 2235,\n",
       " 2240,\n",
       " 2245,\n",
       " 2250,\n",
       " 2255,\n",
       " 2260,\n",
       " 2265,\n",
       " 2270,\n",
       " 2275,\n",
       " 2280,\n",
       " 2285,\n",
       " 2290,\n",
       " 2295,\n",
       " 2300,\n",
       " 2305,\n",
       " 2310,\n",
       " 2315,\n",
       " 2320,\n",
       " 2325,\n",
       " 2330,\n",
       " 2335,\n",
       " 2340,\n",
       " 2345,\n",
       " 2350,\n",
       " 2355,\n",
       " 2360,\n",
       " 2365,\n",
       " 2370,\n",
       " 2375,\n",
       " 2380,\n",
       " 2385,\n",
       " 2390,\n",
       " 2395,\n",
       " 2400,\n",
       " 2405,\n",
       " 2410,\n",
       " 2415,\n",
       " 2420,\n",
       " 2425,\n",
       " 2430,\n",
       " 2435,\n",
       " 2440,\n",
       " 2445,\n",
       " 2450,\n",
       " 2455,\n",
       " 2460,\n",
       " 2465,\n",
       " 2470,\n",
       " 2475,\n",
       " 2480,\n",
       " 2485,\n",
       " 2490,\n",
       " 2495,\n",
       " 2500,\n",
       " 2505,\n",
       " 2510,\n",
       " 2515,\n",
       " 2520,\n",
       " 2525,\n",
       " 2530,\n",
       " 2535,\n",
       " 2540,\n",
       " 2545,\n",
       " 2550,\n",
       " 2555,\n",
       " 2560,\n",
       " 2565,\n",
       " 2570,\n",
       " 2575,\n",
       " 2580,\n",
       " 2585,\n",
       " 2590,\n",
       " 2595,\n",
       " 2600,\n",
       " 2605,\n",
       " 2610,\n",
       " 2615,\n",
       " 2620,\n",
       " 2625,\n",
       " 2630,\n",
       " 2635,\n",
       " 2640,\n",
       " 2645,\n",
       " 2650,\n",
       " 2655,\n",
       " 2660,\n",
       " 2665,\n",
       " 2670,\n",
       " 2675,\n",
       " 2680,\n",
       " 2685,\n",
       " 2690,\n",
       " 2695,\n",
       " 2700,\n",
       " 2705,\n",
       " 2710,\n",
       " 2715,\n",
       " 2720,\n",
       " 2725,\n",
       " 2730,\n",
       " 2735,\n",
       " 2740,\n",
       " 2745,\n",
       " 2750,\n",
       " 2755,\n",
       " 2760,\n",
       " 2765,\n",
       " 2770,\n",
       " 2775,\n",
       " 2780,\n",
       " 2785,\n",
       " 2790,\n",
       " 2795,\n",
       " 2800,\n",
       " 2805,\n",
       " 2810,\n",
       " 2815,\n",
       " 2820,\n",
       " 2825,\n",
       " 2830,\n",
       " 2835,\n",
       " 2840,\n",
       " 2845,\n",
       " 2850,\n",
       " 2855,\n",
       " 2860,\n",
       " 2865,\n",
       " 2870,\n",
       " 2875,\n",
       " 2880,\n",
       " 2885,\n",
       " 2890,\n",
       " 2895,\n",
       " 2900,\n",
       " 2905,\n",
       " 2910,\n",
       " 2915,\n",
       " 2920,\n",
       " 2925,\n",
       " 2930,\n",
       " 2935,\n",
       " 2940,\n",
       " 2945,\n",
       " 2950,\n",
       " 2955,\n",
       " 2960,\n",
       " 2965,\n",
       " 2970,\n",
       " 2975,\n",
       " 2980,\n",
       " 2985,\n",
       " 2990,\n",
       " 2995,\n",
       " 3000,\n",
       " 3005,\n",
       " 3010,\n",
       " 3015,\n",
       " 3020,\n",
       " 3025,\n",
       " 3030,\n",
       " 3035,\n",
       " 3040,\n",
       " 3045,\n",
       " 3050,\n",
       " 3055,\n",
       " 3060,\n",
       " 3065,\n",
       " 3070,\n",
       " 3075,\n",
       " 3080,\n",
       " 3085,\n",
       " 3090,\n",
       " 3095,\n",
       " 3100,\n",
       " 3105,\n",
       " 3110,\n",
       " 3115,\n",
       " 3120,\n",
       " 3125,\n",
       " 3130,\n",
       " 3135,\n",
       " 3140,\n",
       " 3145,\n",
       " 3150,\n",
       " 3155,\n",
       " 3160,\n",
       " 3165,\n",
       " 3170,\n",
       " 3175,\n",
       " 3180,\n",
       " 3185,\n",
       " 3190,\n",
       " 3195,\n",
       " 3200,\n",
       " 3205,\n",
       " 3210,\n",
       " 3215,\n",
       " 3220,\n",
       " 3225,\n",
       " 3230,\n",
       " 3235,\n",
       " 3240,\n",
       " 3245,\n",
       " 3250,\n",
       " 3255,\n",
       " 3260,\n",
       " 3265,\n",
       " 3270,\n",
       " 3275,\n",
       " 3280,\n",
       " 3285,\n",
       " 3290,\n",
       " 3295,\n",
       " 3300,\n",
       " 3305,\n",
       " 3310,\n",
       " 3315,\n",
       " 3320,\n",
       " 3325,\n",
       " 3330,\n",
       " 3335,\n",
       " 3340,\n",
       " 3345,\n",
       " 3350,\n",
       " 3355,\n",
       " 3360,\n",
       " 3365,\n",
       " 3370,\n",
       " 3375,\n",
       " 3380,\n",
       " 3385,\n",
       " 3390,\n",
       " 3395,\n",
       " 3400,\n",
       " 3405,\n",
       " 3410,\n",
       " 3415,\n",
       " 3420,\n",
       " 3425,\n",
       " 3430,\n",
       " 3435,\n",
       " 3440,\n",
       " 3445,\n",
       " 3450,\n",
       " 3455,\n",
       " 3460,\n",
       " 3465,\n",
       " 3470,\n",
       " 3475,\n",
       " 3480,\n",
       " 3485,\n",
       " 3490,\n",
       " 3495,\n",
       " 3500,\n",
       " 3505,\n",
       " 3510,\n",
       " 3515,\n",
       " 3520,\n",
       " 3525,\n",
       " 3530,\n",
       " 3535,\n",
       " 3540,\n",
       " 3545,\n",
       " 3550,\n",
       " 3555,\n",
       " 3560,\n",
       " 3565,\n",
       " 3570,\n",
       " 3575,\n",
       " 3580,\n",
       " 3585,\n",
       " 3590,\n",
       " 3595,\n",
       " 3600,\n",
       " 3605,\n",
       " 3610,\n",
       " 3615,\n",
       " 3620,\n",
       " 3625,\n",
       " 3630,\n",
       " 3635,\n",
       " 3640,\n",
       " 3645,\n",
       " 3650,\n",
       " 3655,\n",
       " 3660,\n",
       " 3665,\n",
       " 3670,\n",
       " 3675,\n",
       " 3680,\n",
       " 3685,\n",
       " 3690,\n",
       " 3695,\n",
       " 3700,\n",
       " 3705,\n",
       " 3710,\n",
       " 3715,\n",
       " 3720,\n",
       " 3725,\n",
       " 3730,\n",
       " 3735,\n",
       " 3740,\n",
       " 3745,\n",
       " 3750,\n",
       " 3755,\n",
       " 3760,\n",
       " 3765,\n",
       " 3770,\n",
       " 3775,\n",
       " 3780,\n",
       " 3785,\n",
       " 3790,\n",
       " 3795,\n",
       " 3800,\n",
       " 3805,\n",
       " 3810,\n",
       " 3815,\n",
       " 3820,\n",
       " 3825,\n",
       " 3830,\n",
       " 3835,\n",
       " 3840,\n",
       " 3845,\n",
       " 3850,\n",
       " 3855,\n",
       " 3860,\n",
       " 3865,\n",
       " 3870,\n",
       " 3875,\n",
       " 3880,\n",
       " 3885,\n",
       " 3890,\n",
       " 3895,\n",
       " 3900,\n",
       " 3905,\n",
       " 3910,\n",
       " 3915,\n",
       " 3920,\n",
       " 3925,\n",
       " 3930,\n",
       " 3935,\n",
       " 3940,\n",
       " 3945,\n",
       " 3950,\n",
       " 3955,\n",
       " 3960,\n",
       " 3965,\n",
       " 3970,\n",
       " 3975,\n",
       " 3980,\n",
       " 3985,\n",
       " 3990,\n",
       " 3995,\n",
       " 4000,\n",
       " 4005,\n",
       " 4010,\n",
       " 4015,\n",
       " 4020,\n",
       " 4025,\n",
       " 4030,\n",
       " 4035,\n",
       " 4040,\n",
       " 4045,\n",
       " 4050,\n",
       " 4055,\n",
       " 4060,\n",
       " 4065,\n",
       " 4070,\n",
       " 4075,\n",
       " 4080,\n",
       " 4085,\n",
       " 4090,\n",
       " 4095,\n",
       " 4100,\n",
       " 4105,\n",
       " 4110,\n",
       " 4115,\n",
       " 4120,\n",
       " 4125,\n",
       " 4130,\n",
       " 4135,\n",
       " 4140,\n",
       " 4145,\n",
       " 4150,\n",
       " 4155,\n",
       " 4160,\n",
       " 4165,\n",
       " 4170,\n",
       " 4175,\n",
       " 4180,\n",
       " 4185,\n",
       " 4190,\n",
       " 4195,\n",
       " 4200,\n",
       " 4205,\n",
       " 4210,\n",
       " 4215,\n",
       " 4220,\n",
       " 4225,\n",
       " 4230,\n",
       " 4235,\n",
       " 4240,\n",
       " 4245,\n",
       " 4250,\n",
       " 4255,\n",
       " 4260,\n",
       " 4265,\n",
       " 4270,\n",
       " 4275,\n",
       " 4280,\n",
       " 4285,\n",
       " 4290,\n",
       " 4295,\n",
       " 4300,\n",
       " 4305,\n",
       " 4310,\n",
       " 4315,\n",
       " 4320,\n",
       " 4325,\n",
       " 4330,\n",
       " 4335,\n",
       " 4340,\n",
       " 4345,\n",
       " 4350,\n",
       " 4355,\n",
       " 4360,\n",
       " 4365,\n",
       " 4370,\n",
       " 4375,\n",
       " 4380,\n",
       " 4385,\n",
       " 4390,\n",
       " 4395,\n",
       " 4400,\n",
       " 4405,\n",
       " 4410,\n",
       " 4415,\n",
       " 4420,\n",
       " 4425,\n",
       " 4430,\n",
       " 4435,\n",
       " 4440,\n",
       " 4445,\n",
       " 4450,\n",
       " 4455,\n",
       " 4460,\n",
       " 4465,\n",
       " 4470,\n",
       " 4475,\n",
       " 4480,\n",
       " 4485,\n",
       " 4490,\n",
       " 4495,\n",
       " 4500,\n",
       " 4505,\n",
       " 4510,\n",
       " 4515,\n",
       " 4520,\n",
       " 4525,\n",
       " 4530,\n",
       " 4535,\n",
       " 4540,\n",
       " 4545,\n",
       " 4550,\n",
       " 4555,\n",
       " 4560,\n",
       " 4565,\n",
       " 4570,\n",
       " 4575,\n",
       " 4580,\n",
       " 4585,\n",
       " 4590,\n",
       " 4595,\n",
       " 4600,\n",
       " 4605,\n",
       " 4610,\n",
       " 4615,\n",
       " 4620,\n",
       " 4625,\n",
       " 4630,\n",
       " 4635,\n",
       " 4640,\n",
       " 4645,\n",
       " 4650,\n",
       " 4655,\n",
       " 4660,\n",
       " 4665,\n",
       " 4670,\n",
       " 4675,\n",
       " 4680,\n",
       " 4685,\n",
       " 4690,\n",
       " 4695,\n",
       " 4700,\n",
       " 4705,\n",
       " 4710,\n",
       " 4715,\n",
       " 4720,\n",
       " 4725,\n",
       " 4730,\n",
       " 4735,\n",
       " 4740,\n",
       " 4745,\n",
       " 4750,\n",
       " 4755,\n",
       " 4760,\n",
       " 4765,\n",
       " 4770,\n",
       " 4775,\n",
       " 4780,\n",
       " 4785,\n",
       " 4790,\n",
       " 4795,\n",
       " 4800,\n",
       " 4805,\n",
       " 4810,\n",
       " 4815,\n",
       " 4820,\n",
       " 4825,\n",
       " 4830,\n",
       " 4835,\n",
       " 4840,\n",
       " 4845,\n",
       " 4850,\n",
       " 4855,\n",
       " 4860,\n",
       " 4865,\n",
       " 4870,\n",
       " 4875,\n",
       " 4880,\n",
       " 4885,\n",
       " 4890,\n",
       " 4895,\n",
       " 4900,\n",
       " 4905,\n",
       " 4910,\n",
       " 4915,\n",
       " 4920,\n",
       " 4925,\n",
       " 4930,\n",
       " 4935,\n",
       " 4940,\n",
       " 4945,\n",
       " 4950,\n",
       " 4955,\n",
       " 4960,\n",
       " 4965,\n",
       " 4970,\n",
       " 4975,\n",
       " 4980,\n",
       " 4985,\n",
       " 4990,\n",
       " 4995,\n",
       " ...]"
      ]
     },
     "execution_count": 79,
     "metadata": {},
     "output_type": "execute_result"
    }
   ],
   "source": [
    "my_list = [number for number in range (0, 10000) if number %5 == 0]\n",
    "my_list"
   ]
  },
  {
   "cell_type": "code",
   "execution_count": 316,
   "id": "0a262753",
   "metadata": {},
   "outputs": [],
   "source": [
    "import numpy as np"
   ]
  },
  {
   "cell_type": "markdown",
   "id": "4dcba33a",
   "metadata": {},
   "source": [
    "Creating an array"
   ]
  },
  {
   "cell_type": "code",
   "execution_count": 81,
   "id": "db95eeb1",
   "metadata": {},
   "outputs": [
    {
     "data": {
      "text/plain": [
       "array([4, 5, 6])"
      ]
     },
     "execution_count": 81,
     "metadata": {},
     "output_type": "execute_result"
    }
   ],
   "source": [
    "h = np.array ([4, 5, 6])\n",
    "h"
   ]
  },
  {
   "cell_type": "code",
   "execution_count": 82,
   "id": "20750bf4",
   "metadata": {},
   "outputs": [
    {
     "data": {
      "text/plain": [
       "array([6, 7, 9])"
      ]
     },
     "execution_count": 82,
     "metadata": {},
     "output_type": "execute_result"
    }
   ],
   "source": [
    "z_list = [6, 7, 9]\n",
    "z = np.array (z_list)\n",
    "z"
   ]
  },
  {
   "cell_type": "markdown",
   "id": "4c397b8e",
   "metadata": {},
   "source": [
    "Multi-dimentional Array"
   ]
  },
  {
   "cell_type": "code",
   "execution_count": 85,
   "id": "e9a29726",
   "metadata": {},
   "outputs": [
    {
     "data": {
      "text/plain": [
       "array([[ 3,  5,  7,  9],\n",
       "       [ 4,  7, 10, 12],\n",
       "       [ 5,  8, 12, 20]])"
      ]
     },
     "execution_count": 85,
     "metadata": {},
     "output_type": "execute_result"
    }
   ],
   "source": [
    "j = np.array ([[3, 5, 7, 9], [4, 7, 10, 12], [5, 8, 12, 20]])   #multi_dimentional array\n",
    "j"
   ]
  },
  {
   "cell_type": "markdown",
   "id": "9dd858f9",
   "metadata": {},
   "source": [
    "Array Dimension"
   ]
  },
  {
   "cell_type": "code",
   "execution_count": 88,
   "id": "c5a47ad5",
   "metadata": {},
   "outputs": [
    {
     "data": {
      "text/plain": [
       "(3, 4)"
      ]
     },
     "execution_count": 88,
     "metadata": {},
     "output_type": "execute_result"
    }
   ],
   "source": [
    "np.shape (j)"
   ]
  },
  {
   "cell_type": "code",
   "execution_count": 99,
   "id": "dce42ffc",
   "metadata": {},
   "outputs": [
    {
     "data": {
      "text/plain": [
       "array([ 0,  2,  4,  6,  8, 10, 12, 14, 16, 18, 20, 22, 24, 26, 28])"
      ]
     },
     "execution_count": 99,
     "metadata": {},
     "output_type": "execute_result"
    }
   ],
   "source": [
    "n = np.arange  (0, 30, 2)\n",
    "n"
   ]
  },
  {
   "cell_type": "markdown",
   "id": "38f546f6",
   "metadata": {},
   "source": [
    ".reshape"
   ]
  },
  {
   "cell_type": "code",
   "execution_count": 93,
   "id": "39e7016d",
   "metadata": {},
   "outputs": [
    {
     "data": {
      "text/plain": [
       "array([[  2,   3,   4,   5,   7],\n",
       "       [  3,   2,  60,  70,  40],\n",
       "       [ 11,  23,  44,  10,  55],\n",
       "       [  2,  45,  21,  45,  20],\n",
       "       [ 21,  46,  71,  25, 100]])"
      ]
     },
     "execution_count": 93,
     "metadata": {},
     "output_type": "execute_result"
    }
   ],
   "source": [
    "d = np.array ([[2, 3, 4, 5, 7], [3, 2, 60, 70, 40], [11, 23, 44, 10, 55], [2, 45, 21, 45, 20], [21, 46, 71, 25, 100]])\n",
    "d"
   ]
  },
  {
   "cell_type": "code",
   "execution_count": 94,
   "id": "d264eb08",
   "metadata": {},
   "outputs": [
    {
     "data": {
      "text/plain": [
       "(5, 5)"
      ]
     },
     "execution_count": 94,
     "metadata": {},
     "output_type": "execute_result"
    }
   ],
   "source": [
    "np.shape (d)"
   ]
  },
  {
   "cell_type": "code",
   "execution_count": 101,
   "id": "95d09c6c",
   "metadata": {},
   "outputs": [
    {
     "data": {
      "text/plain": [
       "array([[ 0,  2,  4],\n",
       "       [ 6,  8, 10],\n",
       "       [12, 14, 16],\n",
       "       [18, 20, 22],\n",
       "       [24, 26, 28]])"
      ]
     },
     "execution_count": 101,
     "metadata": {},
     "output_type": "execute_result"
    }
   ],
   "source": [
    "n.reshape (5, 3)"
   ]
  },
  {
   "cell_type": "code",
   "execution_count": 102,
   "id": "845276a2",
   "metadata": {},
   "outputs": [
    {
     "data": {
      "text/plain": [
       "array([  2,   3,   4,   5,   7,   3,   2,  60,  70,  40,  11,  23,  44,\n",
       "        10,  55,   2,  45,  21,  45,  20,  21,  46,  71,  25, 100])"
      ]
     },
     "execution_count": 102,
     "metadata": {},
     "output_type": "execute_result"
    }
   ],
   "source": [
    "d.reshape (25)"
   ]
  },
  {
   "cell_type": "markdown",
   "id": "689531be",
   "metadata": {},
   "source": [
    ".ones"
   ]
  },
  {
   "cell_type": "code",
   "execution_count": 104,
   "id": "9346cafd",
   "metadata": {},
   "outputs": [
    {
     "data": {
      "text/plain": [
       "array([[1., 1., 1.],\n",
       "       [1., 1., 1.],\n",
       "       [1., 1., 1.],\n",
       "       [1., 1., 1.],\n",
       "       [1., 1., 1.]])"
      ]
     },
     "execution_count": 104,
     "metadata": {},
     "output_type": "execute_result"
    }
   ],
   "source": [
    "np.ones ([5, 3])"
   ]
  },
  {
   "cell_type": "markdown",
   "id": "b60c4cd7",
   "metadata": {},
   "source": [
    ".zeros"
   ]
  },
  {
   "cell_type": "code",
   "execution_count": 105,
   "id": "219aab63",
   "metadata": {},
   "outputs": [
    {
     "data": {
      "text/plain": [
       "array([[0., 0.],\n",
       "       [0., 0.],\n",
       "       [0., 0.],\n",
       "       [0., 0.]])"
      ]
     },
     "execution_count": 105,
     "metadata": {},
     "output_type": "execute_result"
    }
   ],
   "source": [
    "np.zeros ([4, 2])"
   ]
  },
  {
   "cell_type": "markdown",
   "id": "a43c318c",
   "metadata": {},
   "source": [
    ".eye"
   ]
  },
  {
   "cell_type": "code",
   "execution_count": 319,
   "id": "50494012",
   "metadata": {},
   "outputs": [
    {
     "data": {
      "text/plain": [
       "array([[1., 0., 0., 0., 0.],\n",
       "       [0., 1., 0., 0., 0.],\n",
       "       [0., 0., 1., 0., 0.],\n",
       "       [0., 0., 0., 1., 0.],\n",
       "       [0., 0., 0., 0., 1.]])"
      ]
     },
     "execution_count": 319,
     "metadata": {},
     "output_type": "execute_result"
    }
   ],
   "source": [
    "np.eye (5)"
   ]
  },
  {
   "cell_type": "markdown",
   "id": "b3e8902b",
   "metadata": {},
   "source": [
    "#### Operations in Numpy"
   ]
  },
  {
   "cell_type": "code",
   "execution_count": 318,
   "id": "3b32411f",
   "metadata": {},
   "outputs": [
    {
     "data": {
      "text/plain": [
       "array([2, 4, 6])"
      ]
     },
     "execution_count": 318,
     "metadata": {},
     "output_type": "execute_result"
    }
   ],
   "source": [
    "f = np.array([2, 4, 6])\n",
    "f"
   ]
  },
  {
   "cell_type": "code",
   "execution_count": 327,
   "id": "03be72a2",
   "metadata": {},
   "outputs": [
    {
     "data": {
      "text/plain": [
       "array([ 5, 10, 15])"
      ]
     },
     "execution_count": 327,
     "metadata": {},
     "output_type": "execute_result"
    }
   ],
   "source": [
    "g = np.array([5, 10, 15])\n",
    "g"
   ]
  },
  {
   "cell_type": "code",
   "execution_count": 328,
   "id": "dd4e3968",
   "metadata": {},
   "outputs": [
    {
     "name": "stdout",
     "output_type": "stream",
     "text": [
      "[ 7 14 21]\n"
     ]
    }
   ],
   "source": [
    "print (f + g)"
   ]
  },
  {
   "cell_type": "code",
   "execution_count": 329,
   "id": "4de92023",
   "metadata": {},
   "outputs": [
    {
     "name": "stdout",
     "output_type": "stream",
     "text": [
      "[-3 -6 -9]\n"
     ]
    }
   ],
   "source": [
    "print (f - g)"
   ]
  },
  {
   "cell_type": "code",
   "execution_count": 331,
   "id": "91b2a4b2",
   "metadata": {},
   "outputs": [
    {
     "name": "stdout",
     "output_type": "stream",
     "text": [
      "[10 40 90]\n"
     ]
    }
   ],
   "source": [
    "print (f * g)"
   ]
  },
  {
   "cell_type": "code",
   "execution_count": 332,
   "id": "0ae3b9d5",
   "metadata": {},
   "outputs": [
    {
     "name": "stdout",
     "output_type": "stream",
     "text": [
      "[0.4 0.4 0.4]\n"
     ]
    }
   ],
   "source": [
    "print (f / g)"
   ]
  },
  {
   "cell_type": "code",
   "execution_count": 334,
   "id": "e3862822",
   "metadata": {},
   "outputs": [
    {
     "data": {
      "text/plain": [
       "array([ 0,  2,  4,  6,  8, 10, 12, 14, 16, 18])"
      ]
     },
     "execution_count": 334,
     "metadata": {},
     "output_type": "execute_result"
    }
   ],
   "source": [
    "n = np.arange  (0, 20, 2)\n",
    "n"
   ]
  },
  {
   "cell_type": "code",
   "execution_count": 339,
   "id": "6d7c0a84",
   "metadata": {},
   "outputs": [
    {
     "data": {
      "text/plain": [
       "array([[ 0,  2],\n",
       "       [ 4,  6],\n",
       "       [ 8, 10],\n",
       "       [12, 14],\n",
       "       [16, 18]])"
      ]
     },
     "execution_count": 339,
     "metadata": {},
     "output_type": "execute_result"
    }
   ],
   "source": [
    "j= n.reshape(5, 2)\n",
    "j"
   ]
  },
  {
   "cell_type": "code",
   "execution_count": 340,
   "id": "c7070224",
   "metadata": {},
   "outputs": [
    {
     "data": {
      "text/plain": [
       "array([[ 0,  4,  8, 12, 16],\n",
       "       [ 2,  6, 10, 14, 18]])"
      ]
     },
     "execution_count": 340,
     "metadata": {},
     "output_type": "execute_result"
    }
   ],
   "source": [
    "j.T"
   ]
  },
  {
   "cell_type": "code",
   "execution_count": 341,
   "id": "4f7beda8",
   "metadata": {},
   "outputs": [
    {
     "data": {
      "text/plain": [
       "array([ 5, 10, 15,  6,  9, 13, 14, 16])"
      ]
     },
     "execution_count": 341,
     "metadata": {},
     "output_type": "execute_result"
    }
   ],
   "source": [
    "t = np.array ([5, 10, 15, 6, 9, 13, 14, 16])\n",
    "t"
   ]
  },
  {
   "cell_type": "code",
   "execution_count": 342,
   "id": "eef5d4d8",
   "metadata": {},
   "outputs": [
    {
     "data": {
      "text/plain": [
       "88"
      ]
     },
     "execution_count": 342,
     "metadata": {},
     "output_type": "execute_result"
    }
   ],
   "source": [
    "t.sum()"
   ]
  },
  {
   "cell_type": "code",
   "execution_count": 343,
   "id": "6a06afaa",
   "metadata": {},
   "outputs": [
    {
     "data": {
      "text/plain": [
       "16"
      ]
     },
     "execution_count": 343,
     "metadata": {},
     "output_type": "execute_result"
    }
   ],
   "source": [
    "t.max()"
   ]
  },
  {
   "cell_type": "code",
   "execution_count": 344,
   "id": "2edecf68",
   "metadata": {},
   "outputs": [
    {
     "data": {
      "text/plain": [
       "5"
      ]
     },
     "execution_count": 344,
     "metadata": {},
     "output_type": "execute_result"
    }
   ],
   "source": [
    "t.min()"
   ]
  },
  {
   "cell_type": "code",
   "execution_count": 345,
   "id": "49516084",
   "metadata": {},
   "outputs": [
    {
     "data": {
      "text/plain": [
       "11.0"
      ]
     },
     "execution_count": 345,
     "metadata": {},
     "output_type": "execute_result"
    }
   ],
   "source": [
    "t.mean()"
   ]
  },
  {
   "cell_type": "code",
   "execution_count": 346,
   "id": "49cb4be5",
   "metadata": {},
   "outputs": [
    {
     "data": {
      "text/plain": [
       "3.872983346207417"
      ]
     },
     "execution_count": 346,
     "metadata": {},
     "output_type": "execute_result"
    }
   ],
   "source": [
    "t.std()"
   ]
  },
  {
   "cell_type": "code",
   "execution_count": 347,
   "id": "f2779675",
   "metadata": {},
   "outputs": [
    {
     "data": {
      "text/plain": [
       "7"
      ]
     },
     "execution_count": 347,
     "metadata": {},
     "output_type": "execute_result"
    }
   ],
   "source": [
    "t.argmax()"
   ]
  },
  {
   "cell_type": "code",
   "execution_count": 348,
   "id": "6a87f907",
   "metadata": {},
   "outputs": [
    {
     "data": {
      "text/plain": [
       "0"
      ]
     },
     "execution_count": 348,
     "metadata": {},
     "output_type": "execute_result"
    }
   ],
   "source": [
    "t.argmin()"
   ]
  },
  {
   "cell_type": "code",
   "execution_count": 349,
   "id": "64ea57de",
   "metadata": {},
   "outputs": [
    {
     "data": {
      "text/plain": [
       "array([  0,   1,   4,   9,  16,  25,  36,  49,  64,  81, 100, 121, 144],\n",
       "      dtype=int32)"
      ]
     },
     "execution_count": 349,
     "metadata": {},
     "output_type": "execute_result"
    }
   ],
   "source": [
    "s=np.arange(0, 13,1)**2\n",
    "s"
   ]
  },
  {
   "cell_type": "code",
   "execution_count": 350,
   "id": "0efe6994",
   "metadata": {},
   "outputs": [
    {
     "data": {
      "text/plain": [
       "(0, 25, 49)"
      ]
     },
     "execution_count": 350,
     "metadata": {},
     "output_type": "execute_result"
    }
   ],
   "source": [
    "s[0],s[5], s[7]"
   ]
  },
  {
   "cell_type": "code",
   "execution_count": 352,
   "id": "338e550a",
   "metadata": {},
   "outputs": [
    {
     "data": {
      "text/plain": [
       "array([ 4,  9, 16, 25, 36], dtype=int32)"
      ]
     },
     "execution_count": 352,
     "metadata": {},
     "output_type": "execute_result"
    }
   ],
   "source": [
    "s[2:7]"
   ]
  },
  {
   "cell_type": "code",
   "execution_count": 353,
   "id": "5c128219",
   "metadata": {},
   "outputs": [
    {
     "data": {
      "text/plain": [
       "array([[ 0,  1,  2,  3,  4,  5],\n",
       "       [ 6,  7,  8,  9, 10, 11],\n",
       "       [12, 13, 14, 15, 16, 17],\n",
       "       [18, 19, 20, 21, 22, 23],\n",
       "       [24, 25, 26, 27, 28, 29],\n",
       "       [30, 31, 32, 33, 34, 35]])"
      ]
     },
     "execution_count": 353,
     "metadata": {},
     "output_type": "execute_result"
    }
   ],
   "source": [
    "z = np.arange(36)\n",
    "z.resize((6, 6))\n",
    "z"
   ]
  },
  {
   "cell_type": "code",
   "execution_count": 354,
   "id": "fba06284",
   "metadata": {},
   "outputs": [
    {
     "data": {
      "text/plain": [
       "22"
      ]
     },
     "execution_count": 354,
     "metadata": {},
     "output_type": "execute_result"
    }
   ],
   "source": [
    "z[3,4]"
   ]
  },
  {
   "cell_type": "code",
   "execution_count": 355,
   "id": "d8234207",
   "metadata": {},
   "outputs": [
    {
     "data": {
      "text/plain": [
       "33"
      ]
     },
     "execution_count": 355,
     "metadata": {},
     "output_type": "execute_result"
    }
   ],
   "source": [
    "z[5,3]"
   ]
  },
  {
   "cell_type": "code",
   "execution_count": 356,
   "id": "e5804072",
   "metadata": {},
   "outputs": [
    {
     "data": {
      "text/plain": [
       "array([21, 22, 23])"
      ]
     },
     "execution_count": 356,
     "metadata": {},
     "output_type": "execute_result"
    }
   ],
   "source": [
    "z[3, 3:7]"
   ]
  },
  {
   "cell_type": "code",
   "execution_count": 358,
   "id": "640d9193",
   "metadata": {},
   "outputs": [
    {
     "data": {
      "text/plain": [
       "array([26, 27, 28, 29, 30, 31, 32, 33, 34, 35])"
      ]
     },
     "execution_count": 358,
     "metadata": {},
     "output_type": "execute_result"
    }
   ],
   "source": [
    "h= z[z>25]\n",
    "h"
   ]
  },
  {
   "cell_type": "code",
   "execution_count": 360,
   "id": "da2c33a3",
   "metadata": {},
   "outputs": [
    {
     "data": {
      "text/plain": [
       "array([[ 456976,  531441],\n",
       "       [ 614656,  707281],\n",
       "       [ 810000,  923521],\n",
       "       [1048576, 1185921],\n",
       "       [1336336, 1500625]], dtype=int32)"
      ]
     },
     "execution_count": 360,
     "metadata": {},
     "output_type": "execute_result"
    }
   ],
   "source": [
    "h.reshape(5,2)**4"
   ]
  },
  {
   "cell_type": "code",
   "execution_count": 333,
   "id": "f462e8e1",
   "metadata": {},
   "outputs": [
    {
     "name": "stdout",
     "output_type": "stream",
     "text": [
      "[  8  64 216]\n"
     ]
    }
   ],
   "source": [
    "print (f**3)"
   ]
  },
  {
   "cell_type": "code",
   "execution_count": 313,
   "id": "8e3c7968",
   "metadata": {},
   "outputs": [],
   "source": [
    "#### Continution using your note"
   ]
  },
  {
   "cell_type": "code",
   "execution_count": 362,
   "id": "da258443",
   "metadata": {},
   "outputs": [],
   "source": [
    "import pandas as pd"
   ]
  },
  {
   "cell_type": "code",
   "execution_count": 364,
   "id": "5dbd9e96",
   "metadata": {},
   "outputs": [
    {
     "data": {
      "text/plain": [
       "0         Fola\n",
       "1      Omolara\n",
       "2    Christine\n",
       "dtype: object"
      ]
     },
     "execution_count": 364,
     "metadata": {},
     "output_type": "execute_result"
    }
   ],
   "source": [
    "attd =['Fola', 'Omolara', 'Christine']\n",
    "pd.Series (attd)"
   ]
  },
  {
   "cell_type": "code",
   "execution_count": 365,
   "id": "b55fe81f",
   "metadata": {},
   "outputs": [
    {
     "data": {
      "text/plain": [
       "0         Fola\n",
       "1      Omolara\n",
       "2    Christine\n",
       "dtype: object"
      ]
     },
     "execution_count": 365,
     "metadata": {},
     "output_type": "execute_result"
    }
   ],
   "source": [
    "attd= pd.Series (['Fola', 'Omolara', 'Christine'])\n",
    "attd"
   ]
  },
  {
   "cell_type": "markdown",
   "id": "ab7bc489",
   "metadata": {},
   "source": [
    "#### Creating pandas using dictionary"
   ]
  },
  {
   "cell_type": "code",
   "execution_count": 366,
   "id": "5b179949",
   "metadata": {},
   "outputs": [
    {
     "data": {
      "text/plain": [
       "Archery           Bhutan\n",
       "Golf            Scotland\n",
       "Sumo               Japan\n",
       "Takwuando    South Korea\n",
       "dtype: object"
      ]
     },
     "execution_count": 366,
     "metadata": {},
     "output_type": "execute_result"
    }
   ],
   "source": [
    "sports = {'Archery': 'Bhutan',\n",
    "          'Golf': 'Scotland',\n",
    "          'Sumo': 'Japan',\n",
    "          'Takwuando': 'South Korea'}\n",
    "s= pd.Series(sports)\n",
    "s"
   ]
  },
  {
   "cell_type": "code",
   "execution_count": 367,
   "id": "39191fee",
   "metadata": {},
   "outputs": [
    {
     "data": {
      "text/plain": [
       "Index(['Archery', 'Golf', 'Sumo', 'Takwuando'], dtype='object')"
      ]
     },
     "execution_count": 367,
     "metadata": {},
     "output_type": "execute_result"
    }
   ],
   "source": [
    "s.index"
   ]
  },
  {
   "cell_type": "code",
   "execution_count": 368,
   "id": "ca9138bf",
   "metadata": {},
   "outputs": [
    {
     "data": {
      "text/plain": [
       "India      Tiger\n",
       "America     Bear\n",
       "Canada     Moose\n",
       "dtype: object"
      ]
     },
     "execution_count": 368,
     "metadata": {},
     "output_type": "execute_result"
    }
   ],
   "source": [
    "l = pd.Series(['Tiger', 'Bear', 'Moose'],\n",
    "    index= ['India', 'America', 'Canada'])\n",
    "l"
   ]
  },
  {
   "cell_type": "code",
   "execution_count": 369,
   "id": "daa6b47b",
   "metadata": {},
   "outputs": [
    {
     "data": {
      "text/plain": [
       "'Moose'"
      ]
     },
     "execution_count": 369,
     "metadata": {},
     "output_type": "execute_result"
    }
   ],
   "source": [
    "l.iloc[2]"
   ]
  },
  {
   "cell_type": "code",
   "execution_count": 373,
   "id": "9ae6fd60",
   "metadata": {},
   "outputs": [
    {
     "data": {
      "text/plain": [
       "'Tiger'"
      ]
     },
     "execution_count": 373,
     "metadata": {},
     "output_type": "execute_result"
    }
   ],
   "source": [
    "l.loc['India']"
   ]
  },
  {
   "cell_type": "code",
   "execution_count": 3,
   "id": "f4883e59",
   "metadata": {},
   "outputs": [],
   "source": [
    "import pandas as pd"
   ]
  },
  {
   "cell_type": "code",
   "execution_count": 34,
   "id": "afa5d309",
   "metadata": {},
   "outputs": [],
   "source": [
    "df = pd.read_csv('olympics.csv')"
   ]
  },
  {
   "cell_type": "code",
   "execution_count": 374,
   "id": "fa70a8f0",
   "metadata": {},
   "outputs": [
    {
     "data": {
      "text/plain": [
       "India      Tiger\n",
       "America     Bear\n",
       "Canada     Moose\n",
       "Nigeria      Cat\n",
       "dtype: object"
      ]
     },
     "execution_count": 374,
     "metadata": {},
     "output_type": "execute_result"
    }
   ],
   "source": [
    "l.loc['Nigeria'] = 'Cat'\n",
    "l"
   ]
  },
  {
   "cell_type": "code",
   "execution_count": null,
   "id": "c8d119d5",
   "metadata": {},
   "outputs": [],
   "source": []
  },
  {
   "cell_type": "code",
   "execution_count": 7,
   "id": "c0b0265c",
   "metadata": {},
   "outputs": [
    {
     "data": {
      "text/html": [
       "<div>\n",
       "<style scoped>\n",
       "    .dataframe tbody tr th:only-of-type {\n",
       "        vertical-align: middle;\n",
       "    }\n",
       "\n",
       "    .dataframe tbody tr th {\n",
       "        vertical-align: top;\n",
       "    }\n",
       "\n",
       "    .dataframe thead th {\n",
       "        text-align: right;\n",
       "    }\n",
       "</style>\n",
       "<table border=\"1\" class=\"dataframe\">\n",
       "  <thead>\n",
       "    <tr style=\"text-align: right;\">\n",
       "      <th></th>\n",
       "      <th>0</th>\n",
       "      <th>1</th>\n",
       "      <th>2</th>\n",
       "      <th>3</th>\n",
       "      <th>4</th>\n",
       "      <th>5</th>\n",
       "      <th>6</th>\n",
       "      <th>7</th>\n",
       "      <th>8</th>\n",
       "      <th>9</th>\n",
       "      <th>10</th>\n",
       "      <th>11</th>\n",
       "      <th>12</th>\n",
       "      <th>13</th>\n",
       "      <th>14</th>\n",
       "      <th>15</th>\n",
       "    </tr>\n",
       "  </thead>\n",
       "  <tbody>\n",
       "    <tr>\n",
       "      <th>0</th>\n",
       "      <td>NaN</td>\n",
       "      <td>№ Summer</td>\n",
       "      <td>01 !</td>\n",
       "      <td>02 !</td>\n",
       "      <td>03 !</td>\n",
       "      <td>Total</td>\n",
       "      <td>№ Winter</td>\n",
       "      <td>01 !</td>\n",
       "      <td>02 !</td>\n",
       "      <td>03 !</td>\n",
       "      <td>Total</td>\n",
       "      <td>№ Games</td>\n",
       "      <td>01 !</td>\n",
       "      <td>02 !</td>\n",
       "      <td>03 !</td>\n",
       "      <td>Combined total</td>\n",
       "    </tr>\n",
       "    <tr>\n",
       "      <th>1</th>\n",
       "      <td>Afghanistan (AFG)</td>\n",
       "      <td>13</td>\n",
       "      <td>0</td>\n",
       "      <td>0</td>\n",
       "      <td>2</td>\n",
       "      <td>2</td>\n",
       "      <td>0</td>\n",
       "      <td>0</td>\n",
       "      <td>0</td>\n",
       "      <td>0</td>\n",
       "      <td>0</td>\n",
       "      <td>13</td>\n",
       "      <td>0</td>\n",
       "      <td>0</td>\n",
       "      <td>2</td>\n",
       "      <td>2</td>\n",
       "    </tr>\n",
       "    <tr>\n",
       "      <th>2</th>\n",
       "      <td>Algeria (ALG)</td>\n",
       "      <td>12</td>\n",
       "      <td>5</td>\n",
       "      <td>2</td>\n",
       "      <td>8</td>\n",
       "      <td>15</td>\n",
       "      <td>3</td>\n",
       "      <td>0</td>\n",
       "      <td>0</td>\n",
       "      <td>0</td>\n",
       "      <td>0</td>\n",
       "      <td>15</td>\n",
       "      <td>5</td>\n",
       "      <td>2</td>\n",
       "      <td>8</td>\n",
       "      <td>15</td>\n",
       "    </tr>\n",
       "    <tr>\n",
       "      <th>3</th>\n",
       "      <td>Argentina (ARG)</td>\n",
       "      <td>23</td>\n",
       "      <td>18</td>\n",
       "      <td>24</td>\n",
       "      <td>28</td>\n",
       "      <td>70</td>\n",
       "      <td>18</td>\n",
       "      <td>0</td>\n",
       "      <td>0</td>\n",
       "      <td>0</td>\n",
       "      <td>0</td>\n",
       "      <td>41</td>\n",
       "      <td>18</td>\n",
       "      <td>24</td>\n",
       "      <td>28</td>\n",
       "      <td>70</td>\n",
       "    </tr>\n",
       "    <tr>\n",
       "      <th>4</th>\n",
       "      <td>Armenia (ARM)</td>\n",
       "      <td>5</td>\n",
       "      <td>1</td>\n",
       "      <td>2</td>\n",
       "      <td>9</td>\n",
       "      <td>12</td>\n",
       "      <td>6</td>\n",
       "      <td>0</td>\n",
       "      <td>0</td>\n",
       "      <td>0</td>\n",
       "      <td>0</td>\n",
       "      <td>11</td>\n",
       "      <td>1</td>\n",
       "      <td>2</td>\n",
       "      <td>9</td>\n",
       "      <td>12</td>\n",
       "    </tr>\n",
       "  </tbody>\n",
       "</table>\n",
       "</div>"
      ],
      "text/plain": [
       "                   0         1     2     3     4      5         6     7     8  \\\n",
       "0                NaN  № Summer  01 !  02 !  03 !  Total  № Winter  01 !  02 !   \n",
       "1  Afghanistan (AFG)        13     0     0     2      2         0     0     0   \n",
       "2      Algeria (ALG)        12     5     2     8     15         3     0     0   \n",
       "3    Argentina (ARG)        23    18    24    28     70        18     0     0   \n",
       "4      Armenia (ARM)         5     1     2     9     12         6     0     0   \n",
       "\n",
       "      9     10       11    12    13    14              15  \n",
       "0  03 !  Total  № Games  01 !  02 !  03 !  Combined total  \n",
       "1     0      0       13     0     0     2               2  \n",
       "2     0      0       15     5     2     8              15  \n",
       "3     0      0       41    18    24    28              70  \n",
       "4     0      0       11     1     2     9              12  "
      ]
     },
     "execution_count": 7,
     "metadata": {},
     "output_type": "execute_result"
    }
   ],
   "source": [
    "df.head() #Print only the first 5 rows of our data set"
   ]
  },
  {
   "cell_type": "code",
   "execution_count": 7,
   "id": "6c664e95",
   "metadata": {},
   "outputs": [
    {
     "data": {
      "text/plain": [
       "148"
      ]
     },
     "execution_count": 7,
     "metadata": {},
     "output_type": "execute_result"
    }
   ],
   "source": [
    "len(df)"
   ]
  },
  {
   "cell_type": "code",
   "execution_count": 36,
   "id": "a8a9ec29",
   "metadata": {},
   "outputs": [],
   "source": [
    "df = pd.read_csv('olympics.csv', index_col = 0, skiprows=1)"
   ]
  },
  {
   "cell_type": "code",
   "execution_count": 40,
   "id": "88f7adc9",
   "metadata": {},
   "outputs": [
    {
     "data": {
      "text/html": [
       "<div>\n",
       "<style scoped>\n",
       "    .dataframe tbody tr th:only-of-type {\n",
       "        vertical-align: middle;\n",
       "    }\n",
       "\n",
       "    .dataframe tbody tr th {\n",
       "        vertical-align: top;\n",
       "    }\n",
       "\n",
       "    .dataframe thead th {\n",
       "        text-align: right;\n",
       "    }\n",
       "</style>\n",
       "<table border=\"1\" class=\"dataframe\">\n",
       "  <thead>\n",
       "    <tr style=\"text-align: right;\">\n",
       "      <th></th>\n",
       "      <th>№ Summer</th>\n",
       "      <th>01 !</th>\n",
       "      <th>02 !</th>\n",
       "      <th>03 !</th>\n",
       "      <th>Total</th>\n",
       "      <th>№ Winter</th>\n",
       "      <th>01 !.1</th>\n",
       "      <th>02 !.1</th>\n",
       "      <th>03 !.1</th>\n",
       "      <th>Total.1</th>\n",
       "      <th>№ Games</th>\n",
       "      <th>01 !.2</th>\n",
       "      <th>02 !.2</th>\n",
       "      <th>03 !.2</th>\n",
       "      <th>Combined total</th>\n",
       "    </tr>\n",
       "  </thead>\n",
       "  <tbody>\n",
       "    <tr>\n",
       "      <th>Afghanistan (AFG)</th>\n",
       "      <td>13</td>\n",
       "      <td>0</td>\n",
       "      <td>0</td>\n",
       "      <td>2</td>\n",
       "      <td>2</td>\n",
       "      <td>0</td>\n",
       "      <td>0</td>\n",
       "      <td>0</td>\n",
       "      <td>0</td>\n",
       "      <td>0</td>\n",
       "      <td>13</td>\n",
       "      <td>0</td>\n",
       "      <td>0</td>\n",
       "      <td>2</td>\n",
       "      <td>2</td>\n",
       "    </tr>\n",
       "    <tr>\n",
       "      <th>Algeria (ALG)</th>\n",
       "      <td>12</td>\n",
       "      <td>5</td>\n",
       "      <td>2</td>\n",
       "      <td>8</td>\n",
       "      <td>15</td>\n",
       "      <td>3</td>\n",
       "      <td>0</td>\n",
       "      <td>0</td>\n",
       "      <td>0</td>\n",
       "      <td>0</td>\n",
       "      <td>15</td>\n",
       "      <td>5</td>\n",
       "      <td>2</td>\n",
       "      <td>8</td>\n",
       "      <td>15</td>\n",
       "    </tr>\n",
       "    <tr>\n",
       "      <th>Argentina (ARG)</th>\n",
       "      <td>23</td>\n",
       "      <td>18</td>\n",
       "      <td>24</td>\n",
       "      <td>28</td>\n",
       "      <td>70</td>\n",
       "      <td>18</td>\n",
       "      <td>0</td>\n",
       "      <td>0</td>\n",
       "      <td>0</td>\n",
       "      <td>0</td>\n",
       "      <td>41</td>\n",
       "      <td>18</td>\n",
       "      <td>24</td>\n",
       "      <td>28</td>\n",
       "      <td>70</td>\n",
       "    </tr>\n",
       "    <tr>\n",
       "      <th>Armenia (ARM)</th>\n",
       "      <td>5</td>\n",
       "      <td>1</td>\n",
       "      <td>2</td>\n",
       "      <td>9</td>\n",
       "      <td>12</td>\n",
       "      <td>6</td>\n",
       "      <td>0</td>\n",
       "      <td>0</td>\n",
       "      <td>0</td>\n",
       "      <td>0</td>\n",
       "      <td>11</td>\n",
       "      <td>1</td>\n",
       "      <td>2</td>\n",
       "      <td>9</td>\n",
       "      <td>12</td>\n",
       "    </tr>\n",
       "    <tr>\n",
       "      <th>Australasia (ANZ) [ANZ]</th>\n",
       "      <td>2</td>\n",
       "      <td>3</td>\n",
       "      <td>4</td>\n",
       "      <td>5</td>\n",
       "      <td>12</td>\n",
       "      <td>0</td>\n",
       "      <td>0</td>\n",
       "      <td>0</td>\n",
       "      <td>0</td>\n",
       "      <td>0</td>\n",
       "      <td>2</td>\n",
       "      <td>3</td>\n",
       "      <td>4</td>\n",
       "      <td>5</td>\n",
       "      <td>12</td>\n",
       "    </tr>\n",
       "    <tr>\n",
       "      <th>Australia (AUS) [AUS] [Z]</th>\n",
       "      <td>25</td>\n",
       "      <td>139</td>\n",
       "      <td>152</td>\n",
       "      <td>177</td>\n",
       "      <td>468</td>\n",
       "      <td>18</td>\n",
       "      <td>5</td>\n",
       "      <td>3</td>\n",
       "      <td>4</td>\n",
       "      <td>12</td>\n",
       "      <td>43</td>\n",
       "      <td>144</td>\n",
       "      <td>155</td>\n",
       "      <td>181</td>\n",
       "      <td>480</td>\n",
       "    </tr>\n",
       "    <tr>\n",
       "      <th>Austria (AUT)</th>\n",
       "      <td>26</td>\n",
       "      <td>18</td>\n",
       "      <td>33</td>\n",
       "      <td>35</td>\n",
       "      <td>86</td>\n",
       "      <td>22</td>\n",
       "      <td>59</td>\n",
       "      <td>78</td>\n",
       "      <td>81</td>\n",
       "      <td>218</td>\n",
       "      <td>48</td>\n",
       "      <td>77</td>\n",
       "      <td>111</td>\n",
       "      <td>116</td>\n",
       "      <td>304</td>\n",
       "    </tr>\n",
       "    <tr>\n",
       "      <th>Azerbaijan (AZE)</th>\n",
       "      <td>5</td>\n",
       "      <td>6</td>\n",
       "      <td>5</td>\n",
       "      <td>15</td>\n",
       "      <td>26</td>\n",
       "      <td>5</td>\n",
       "      <td>0</td>\n",
       "      <td>0</td>\n",
       "      <td>0</td>\n",
       "      <td>0</td>\n",
       "      <td>10</td>\n",
       "      <td>6</td>\n",
       "      <td>5</td>\n",
       "      <td>15</td>\n",
       "      <td>26</td>\n",
       "    </tr>\n",
       "    <tr>\n",
       "      <th>Bahamas (BAH)</th>\n",
       "      <td>15</td>\n",
       "      <td>5</td>\n",
       "      <td>2</td>\n",
       "      <td>5</td>\n",
       "      <td>12</td>\n",
       "      <td>0</td>\n",
       "      <td>0</td>\n",
       "      <td>0</td>\n",
       "      <td>0</td>\n",
       "      <td>0</td>\n",
       "      <td>15</td>\n",
       "      <td>5</td>\n",
       "      <td>2</td>\n",
       "      <td>5</td>\n",
       "      <td>12</td>\n",
       "    </tr>\n",
       "    <tr>\n",
       "      <th>Bahrain (BRN)</th>\n",
       "      <td>8</td>\n",
       "      <td>0</td>\n",
       "      <td>0</td>\n",
       "      <td>1</td>\n",
       "      <td>1</td>\n",
       "      <td>0</td>\n",
       "      <td>0</td>\n",
       "      <td>0</td>\n",
       "      <td>0</td>\n",
       "      <td>0</td>\n",
       "      <td>8</td>\n",
       "      <td>0</td>\n",
       "      <td>0</td>\n",
       "      <td>1</td>\n",
       "      <td>1</td>\n",
       "    </tr>\n",
       "  </tbody>\n",
       "</table>\n",
       "</div>"
      ],
      "text/plain": [
       "                           № Summer  01 !  02 !  03 !  Total  № Winter  \\\n",
       "Afghanistan (AFG)                13     0     0     2      2         0   \n",
       "Algeria (ALG)                    12     5     2     8     15         3   \n",
       "Argentina (ARG)                  23    18    24    28     70        18   \n",
       "Armenia (ARM)                     5     1     2     9     12         6   \n",
       "Australasia (ANZ) [ANZ]           2     3     4     5     12         0   \n",
       "Australia (AUS) [AUS] [Z]        25   139   152   177    468        18   \n",
       "Austria (AUT)                    26    18    33    35     86        22   \n",
       "Azerbaijan (AZE)                  5     6     5    15     26         5   \n",
       "Bahamas (BAH)                    15     5     2     5     12         0   \n",
       "Bahrain (BRN)                     8     0     0     1      1         0   \n",
       "\n",
       "                           01 !.1  02 !.1  03 !.1  Total.1  № Games  01 !.2  \\\n",
       "Afghanistan (AFG)               0       0       0        0       13       0   \n",
       "Algeria (ALG)                   0       0       0        0       15       5   \n",
       "Argentina (ARG)                 0       0       0        0       41      18   \n",
       "Armenia (ARM)                   0       0       0        0       11       1   \n",
       "Australasia (ANZ) [ANZ]         0       0       0        0        2       3   \n",
       "Australia (AUS) [AUS] [Z]       5       3       4       12       43     144   \n",
       "Austria (AUT)                  59      78      81      218       48      77   \n",
       "Azerbaijan (AZE)                0       0       0        0       10       6   \n",
       "Bahamas (BAH)                   0       0       0        0       15       5   \n",
       "Bahrain (BRN)                   0       0       0        0        8       0   \n",
       "\n",
       "                           02 !.2  03 !.2  Combined total  \n",
       "Afghanistan (AFG)               0       2               2  \n",
       "Algeria (ALG)                   2       8              15  \n",
       "Argentina (ARG)                24      28              70  \n",
       "Armenia (ARM)                   2       9              12  \n",
       "Australasia (ANZ) [ANZ]         4       5              12  \n",
       "Australia (AUS) [AUS] [Z]     155     181             480  \n",
       "Austria (AUT)                 111     116             304  \n",
       "Azerbaijan (AZE)                5      15              26  \n",
       "Bahamas (BAH)                   2       5              12  \n",
       "Bahrain (BRN)                   0       1               1  "
      ]
     },
     "execution_count": 40,
     "metadata": {},
     "output_type": "execute_result"
    }
   ],
   "source": [
    "df.head(10)"
   ]
  },
  {
   "cell_type": "code",
   "execution_count": 42,
   "id": "ede70e6a",
   "metadata": {},
   "outputs": [
    {
     "data": {
      "text/plain": [
       "Index(['№ Summer', '01 !', '02 !', '03 !', 'Total', '№ Winter', '01 !.1',\n",
       "       '02 !.1', '03 !.1', 'Total.1', '№ Games', '01 !.2', '02 !.2', '03 !.2',\n",
       "       'Combined total'],\n",
       "      dtype='object')"
      ]
     },
     "execution_count": 42,
     "metadata": {},
     "output_type": "execute_result"
    }
   ],
   "source": [
    "df.columns"
   ]
  },
  {
   "cell_type": "code",
   "execution_count": 45,
   "id": "2248a044",
   "metadata": {},
   "outputs": [
    {
     "data": {
      "text/html": [
       "<div>\n",
       "<style scoped>\n",
       "    .dataframe tbody tr th:only-of-type {\n",
       "        vertical-align: middle;\n",
       "    }\n",
       "\n",
       "    .dataframe tbody tr th {\n",
       "        vertical-align: top;\n",
       "    }\n",
       "\n",
       "    .dataframe thead th {\n",
       "        text-align: right;\n",
       "    }\n",
       "</style>\n",
       "<table border=\"1\" class=\"dataframe\">\n",
       "  <thead>\n",
       "    <tr style=\"text-align: right;\">\n",
       "      <th></th>\n",
       "      <th># Summer</th>\n",
       "      <th>Gold</th>\n",
       "      <th>Silver</th>\n",
       "      <th>Bronze</th>\n",
       "      <th>Total</th>\n",
       "      <th># Winter</th>\n",
       "      <th>Gold.1</th>\n",
       "      <th>Silver.1</th>\n",
       "      <th>Bronze.1</th>\n",
       "      <th>Total.1</th>\n",
       "      <th># Games</th>\n",
       "      <th>Gold.2</th>\n",
       "      <th>Silver.2</th>\n",
       "      <th>Bronze.2</th>\n",
       "      <th>Combined total</th>\n",
       "    </tr>\n",
       "  </thead>\n",
       "  <tbody>\n",
       "    <tr>\n",
       "      <th>Afghanistan (AFG)</th>\n",
       "      <td>13</td>\n",
       "      <td>0</td>\n",
       "      <td>0</td>\n",
       "      <td>2</td>\n",
       "      <td>2</td>\n",
       "      <td>0</td>\n",
       "      <td>0</td>\n",
       "      <td>0</td>\n",
       "      <td>0</td>\n",
       "      <td>0</td>\n",
       "      <td>13</td>\n",
       "      <td>0</td>\n",
       "      <td>0</td>\n",
       "      <td>2</td>\n",
       "      <td>2</td>\n",
       "    </tr>\n",
       "    <tr>\n",
       "      <th>Algeria (ALG)</th>\n",
       "      <td>12</td>\n",
       "      <td>5</td>\n",
       "      <td>2</td>\n",
       "      <td>8</td>\n",
       "      <td>15</td>\n",
       "      <td>3</td>\n",
       "      <td>0</td>\n",
       "      <td>0</td>\n",
       "      <td>0</td>\n",
       "      <td>0</td>\n",
       "      <td>15</td>\n",
       "      <td>5</td>\n",
       "      <td>2</td>\n",
       "      <td>8</td>\n",
       "      <td>15</td>\n",
       "    </tr>\n",
       "    <tr>\n",
       "      <th>Argentina (ARG)</th>\n",
       "      <td>23</td>\n",
       "      <td>18</td>\n",
       "      <td>24</td>\n",
       "      <td>28</td>\n",
       "      <td>70</td>\n",
       "      <td>18</td>\n",
       "      <td>0</td>\n",
       "      <td>0</td>\n",
       "      <td>0</td>\n",
       "      <td>0</td>\n",
       "      <td>41</td>\n",
       "      <td>18</td>\n",
       "      <td>24</td>\n",
       "      <td>28</td>\n",
       "      <td>70</td>\n",
       "    </tr>\n",
       "    <tr>\n",
       "      <th>Armenia (ARM)</th>\n",
       "      <td>5</td>\n",
       "      <td>1</td>\n",
       "      <td>2</td>\n",
       "      <td>9</td>\n",
       "      <td>12</td>\n",
       "      <td>6</td>\n",
       "      <td>0</td>\n",
       "      <td>0</td>\n",
       "      <td>0</td>\n",
       "      <td>0</td>\n",
       "      <td>11</td>\n",
       "      <td>1</td>\n",
       "      <td>2</td>\n",
       "      <td>9</td>\n",
       "      <td>12</td>\n",
       "    </tr>\n",
       "    <tr>\n",
       "      <th>Australasia (ANZ) [ANZ]</th>\n",
       "      <td>2</td>\n",
       "      <td>3</td>\n",
       "      <td>4</td>\n",
       "      <td>5</td>\n",
       "      <td>12</td>\n",
       "      <td>0</td>\n",
       "      <td>0</td>\n",
       "      <td>0</td>\n",
       "      <td>0</td>\n",
       "      <td>0</td>\n",
       "      <td>2</td>\n",
       "      <td>3</td>\n",
       "      <td>4</td>\n",
       "      <td>5</td>\n",
       "      <td>12</td>\n",
       "    </tr>\n",
       "  </tbody>\n",
       "</table>\n",
       "</div>"
      ],
      "text/plain": [
       "                         # Summer  Gold  Silver  Bronze  Total  # Winter  \\\n",
       "Afghanistan (AFG)              13     0       0       2      2         0   \n",
       "Algeria (ALG)                  12     5       2       8     15         3   \n",
       "Argentina (ARG)                23    18      24      28     70        18   \n",
       "Armenia (ARM)                   5     1       2       9     12         6   \n",
       "Australasia (ANZ) [ANZ]         2     3       4       5     12         0   \n",
       "\n",
       "                         Gold.1  Silver.1  Bronze.1  Total.1  # Games  Gold.2  \\\n",
       "Afghanistan (AFG)             0         0         0        0       13       0   \n",
       "Algeria (ALG)                 0         0         0        0       15       5   \n",
       "Argentina (ARG)               0         0         0        0       41      18   \n",
       "Armenia (ARM)                 0         0         0        0       11       1   \n",
       "Australasia (ANZ) [ANZ]       0         0         0        0        2       3   \n",
       "\n",
       "                         Silver.2  Bronze.2  Combined total  \n",
       "Afghanistan (AFG)               0         2               2  \n",
       "Algeria (ALG)                   2         8              15  \n",
       "Argentina (ARG)                24        28              70  \n",
       "Armenia (ARM)                   2         9              12  \n",
       "Australasia (ANZ) [ANZ]         4         5              12  "
      ]
     },
     "execution_count": 45,
     "metadata": {},
     "output_type": "execute_result"
    }
   ],
   "source": [
    "for col in df.columns:\n",
    "    if col[:2]=='01':\n",
    "        df.rename(columns={col:'Gold'+ col[4:]}, inplace=True)\n",
    "    if col[:2]=='02':\n",
    "        df.rename(columns={col:'Silver'+ col[4:]}, inplace=True)\n",
    "    if col[:2]=='03':\n",
    "        df.rename(columns={col:'Bronze'+ col[4:]}, inplace=True)\n",
    "    if col[:1]=='№':\n",
    "        df.rename(columns={col:'#'+ col[1:]}, inplace=True)\n",
    "df.head()"
   ]
  },
  {
   "cell_type": "markdown",
   "id": "e5a43169",
   "metadata": {},
   "source": [
    "## Querying a dataframe\n",
    "\n",
    "Team that won at least one Gold in the summer"
   ]
  },
  {
   "cell_type": "code",
   "execution_count": 46,
   "id": "29112df7",
   "metadata": {},
   "outputs": [
    {
     "data": {
      "text/plain": [
       "Afghanistan (AFG)                               False\n",
       "Algeria (ALG)                                    True\n",
       "Argentina (ARG)                                  True\n",
       "Armenia (ARM)                                    True\n",
       "Australasia (ANZ) [ANZ]                          True\n",
       "                                                ...  \n",
       "Independent Olympic Participants (IOP) [IOP]    False\n",
       "Zambia (ZAM) [ZAM]                              False\n",
       "Zimbabwe (ZIM) [ZIM]                             True\n",
       "Mixed team (ZZX) [ZZX]                           True\n",
       "Totals                                           True\n",
       "Name: Gold, Length: 147, dtype: bool"
      ]
     },
     "execution_count": 46,
     "metadata": {},
     "output_type": "execute_result"
    }
   ],
   "source": [
    "df['Gold'] > 0"
   ]
  },
  {
   "cell_type": "code",
   "execution_count": 47,
   "id": "108b5f39",
   "metadata": {},
   "outputs": [
    {
     "data": {
      "text/html": [
       "<div>\n",
       "<style scoped>\n",
       "    .dataframe tbody tr th:only-of-type {\n",
       "        vertical-align: middle;\n",
       "    }\n",
       "\n",
       "    .dataframe tbody tr th {\n",
       "        vertical-align: top;\n",
       "    }\n",
       "\n",
       "    .dataframe thead th {\n",
       "        text-align: right;\n",
       "    }\n",
       "</style>\n",
       "<table border=\"1\" class=\"dataframe\">\n",
       "  <thead>\n",
       "    <tr style=\"text-align: right;\">\n",
       "      <th></th>\n",
       "      <th># Summer</th>\n",
       "      <th>Gold</th>\n",
       "      <th>Silver</th>\n",
       "      <th>Bronze</th>\n",
       "      <th>Total</th>\n",
       "      <th># Winter</th>\n",
       "      <th>Gold.1</th>\n",
       "      <th>Silver.1</th>\n",
       "      <th>Bronze.1</th>\n",
       "      <th>Total.1</th>\n",
       "      <th># Games</th>\n",
       "      <th>Gold.2</th>\n",
       "      <th>Silver.2</th>\n",
       "      <th>Bronze.2</th>\n",
       "      <th>Combined total</th>\n",
       "    </tr>\n",
       "  </thead>\n",
       "  <tbody>\n",
       "    <tr>\n",
       "      <th>Algeria (ALG)</th>\n",
       "      <td>12</td>\n",
       "      <td>5</td>\n",
       "      <td>2</td>\n",
       "      <td>8</td>\n",
       "      <td>15</td>\n",
       "      <td>3</td>\n",
       "      <td>0</td>\n",
       "      <td>0</td>\n",
       "      <td>0</td>\n",
       "      <td>0</td>\n",
       "      <td>15</td>\n",
       "      <td>5</td>\n",
       "      <td>2</td>\n",
       "      <td>8</td>\n",
       "      <td>15</td>\n",
       "    </tr>\n",
       "    <tr>\n",
       "      <th>Argentina (ARG)</th>\n",
       "      <td>23</td>\n",
       "      <td>18</td>\n",
       "      <td>24</td>\n",
       "      <td>28</td>\n",
       "      <td>70</td>\n",
       "      <td>18</td>\n",
       "      <td>0</td>\n",
       "      <td>0</td>\n",
       "      <td>0</td>\n",
       "      <td>0</td>\n",
       "      <td>41</td>\n",
       "      <td>18</td>\n",
       "      <td>24</td>\n",
       "      <td>28</td>\n",
       "      <td>70</td>\n",
       "    </tr>\n",
       "    <tr>\n",
       "      <th>Armenia (ARM)</th>\n",
       "      <td>5</td>\n",
       "      <td>1</td>\n",
       "      <td>2</td>\n",
       "      <td>9</td>\n",
       "      <td>12</td>\n",
       "      <td>6</td>\n",
       "      <td>0</td>\n",
       "      <td>0</td>\n",
       "      <td>0</td>\n",
       "      <td>0</td>\n",
       "      <td>11</td>\n",
       "      <td>1</td>\n",
       "      <td>2</td>\n",
       "      <td>9</td>\n",
       "      <td>12</td>\n",
       "    </tr>\n",
       "    <tr>\n",
       "      <th>Australasia (ANZ) [ANZ]</th>\n",
       "      <td>2</td>\n",
       "      <td>3</td>\n",
       "      <td>4</td>\n",
       "      <td>5</td>\n",
       "      <td>12</td>\n",
       "      <td>0</td>\n",
       "      <td>0</td>\n",
       "      <td>0</td>\n",
       "      <td>0</td>\n",
       "      <td>0</td>\n",
       "      <td>2</td>\n",
       "      <td>3</td>\n",
       "      <td>4</td>\n",
       "      <td>5</td>\n",
       "      <td>12</td>\n",
       "    </tr>\n",
       "    <tr>\n",
       "      <th>Australia (AUS) [AUS] [Z]</th>\n",
       "      <td>25</td>\n",
       "      <td>139</td>\n",
       "      <td>152</td>\n",
       "      <td>177</td>\n",
       "      <td>468</td>\n",
       "      <td>18</td>\n",
       "      <td>5</td>\n",
       "      <td>3</td>\n",
       "      <td>4</td>\n",
       "      <td>12</td>\n",
       "      <td>43</td>\n",
       "      <td>144</td>\n",
       "      <td>155</td>\n",
       "      <td>181</td>\n",
       "      <td>480</td>\n",
       "    </tr>\n",
       "  </tbody>\n",
       "</table>\n",
       "</div>"
      ],
      "text/plain": [
       "                           # Summer  Gold  Silver  Bronze  Total  # Winter  \\\n",
       "Algeria (ALG)                    12     5       2       8     15         3   \n",
       "Argentina (ARG)                  23    18      24      28     70        18   \n",
       "Armenia (ARM)                     5     1       2       9     12         6   \n",
       "Australasia (ANZ) [ANZ]           2     3       4       5     12         0   \n",
       "Australia (AUS) [AUS] [Z]        25   139     152     177    468        18   \n",
       "\n",
       "                           Gold.1  Silver.1  Bronze.1  Total.1  # Games  \\\n",
       "Algeria (ALG)                   0         0         0        0       15   \n",
       "Argentina (ARG)                 0         0         0        0       41   \n",
       "Armenia (ARM)                   0         0         0        0       11   \n",
       "Australasia (ANZ) [ANZ]         0         0         0        0        2   \n",
       "Australia (AUS) [AUS] [Z]       5         3         4       12       43   \n",
       "\n",
       "                           Gold.2  Silver.2  Bronze.2  Combined total  \n",
       "Algeria (ALG)                   5         2         8              15  \n",
       "Argentina (ARG)                18        24        28              70  \n",
       "Armenia (ARM)                   1         2         9              12  \n",
       "Australasia (ANZ) [ANZ]         3         4         5              12  \n",
       "Australia (AUS) [AUS] [Z]     144       155       181             480  "
      ]
     },
     "execution_count": 47,
     "metadata": {},
     "output_type": "execute_result"
    }
   ],
   "source": [
    "only_gold = df[df['Gold'] > 0]\n",
    "only_gold.head()"
   ]
  },
  {
   "cell_type": "markdown",
   "id": "fa214eee",
   "metadata": {},
   "source": [
    "## How many teams won at least one gold medal in the summer Olympics"
   ]
  },
  {
   "cell_type": "code",
   "execution_count": 48,
   "id": "1fa25b8a",
   "metadata": {},
   "outputs": [
    {
     "data": {
      "text/plain": [
       "100"
      ]
     },
     "execution_count": 48,
     "metadata": {},
     "output_type": "execute_result"
    }
   ],
   "source": [
    "only_gold['Gold'].count()"
   ]
  },
  {
   "cell_type": "code",
   "execution_count": 49,
   "id": "64648b22",
   "metadata": {},
   "outputs": [
    {
     "data": {
      "text/plain": [
       "147"
      ]
     },
     "execution_count": 49,
     "metadata": {},
     "output_type": "execute_result"
    }
   ],
   "source": [
    "df['Gold'].count()"
   ]
  },
  {
   "cell_type": "markdown",
   "id": "1051d302",
   "metadata": {},
   "source": [
    "Teams that win atleast one gold in summer and winter"
   ]
  },
  {
   "cell_type": "code",
   "execution_count": 50,
   "id": "bc314afe",
   "metadata": {},
   "outputs": [
    {
     "data": {
      "text/html": [
       "<div>\n",
       "<style scoped>\n",
       "    .dataframe tbody tr th:only-of-type {\n",
       "        vertical-align: middle;\n",
       "    }\n",
       "\n",
       "    .dataframe tbody tr th {\n",
       "        vertical-align: top;\n",
       "    }\n",
       "\n",
       "    .dataframe thead th {\n",
       "        text-align: right;\n",
       "    }\n",
       "</style>\n",
       "<table border=\"1\" class=\"dataframe\">\n",
       "  <thead>\n",
       "    <tr style=\"text-align: right;\">\n",
       "      <th></th>\n",
       "      <th># Summer</th>\n",
       "      <th>Gold</th>\n",
       "      <th>Silver</th>\n",
       "      <th>Bronze</th>\n",
       "      <th>Total</th>\n",
       "      <th># Winter</th>\n",
       "      <th>Gold.1</th>\n",
       "      <th>Silver.1</th>\n",
       "      <th>Bronze.1</th>\n",
       "      <th>Total.1</th>\n",
       "      <th># Games</th>\n",
       "      <th>Gold.2</th>\n",
       "      <th>Silver.2</th>\n",
       "      <th>Bronze.2</th>\n",
       "      <th>Combined total</th>\n",
       "    </tr>\n",
       "  </thead>\n",
       "  <tbody>\n",
       "    <tr>\n",
       "      <th>Australia (AUS) [AUS] [Z]</th>\n",
       "      <td>25</td>\n",
       "      <td>139</td>\n",
       "      <td>152</td>\n",
       "      <td>177</td>\n",
       "      <td>468</td>\n",
       "      <td>18</td>\n",
       "      <td>5</td>\n",
       "      <td>3</td>\n",
       "      <td>4</td>\n",
       "      <td>12</td>\n",
       "      <td>43</td>\n",
       "      <td>144</td>\n",
       "      <td>155</td>\n",
       "      <td>181</td>\n",
       "      <td>480</td>\n",
       "    </tr>\n",
       "    <tr>\n",
       "      <th>Austria (AUT)</th>\n",
       "      <td>26</td>\n",
       "      <td>18</td>\n",
       "      <td>33</td>\n",
       "      <td>35</td>\n",
       "      <td>86</td>\n",
       "      <td>22</td>\n",
       "      <td>59</td>\n",
       "      <td>78</td>\n",
       "      <td>81</td>\n",
       "      <td>218</td>\n",
       "      <td>48</td>\n",
       "      <td>77</td>\n",
       "      <td>111</td>\n",
       "      <td>116</td>\n",
       "      <td>304</td>\n",
       "    </tr>\n",
       "    <tr>\n",
       "      <th>Belarus (BLR)</th>\n",
       "      <td>5</td>\n",
       "      <td>12</td>\n",
       "      <td>24</td>\n",
       "      <td>39</td>\n",
       "      <td>75</td>\n",
       "      <td>6</td>\n",
       "      <td>6</td>\n",
       "      <td>4</td>\n",
       "      <td>5</td>\n",
       "      <td>15</td>\n",
       "      <td>11</td>\n",
       "      <td>18</td>\n",
       "      <td>28</td>\n",
       "      <td>44</td>\n",
       "      <td>90</td>\n",
       "    </tr>\n",
       "    <tr>\n",
       "      <th>Belgium (BEL)</th>\n",
       "      <td>25</td>\n",
       "      <td>37</td>\n",
       "      <td>52</td>\n",
       "      <td>53</td>\n",
       "      <td>142</td>\n",
       "      <td>20</td>\n",
       "      <td>1</td>\n",
       "      <td>1</td>\n",
       "      <td>3</td>\n",
       "      <td>5</td>\n",
       "      <td>45</td>\n",
       "      <td>38</td>\n",
       "      <td>53</td>\n",
       "      <td>56</td>\n",
       "      <td>147</td>\n",
       "    </tr>\n",
       "    <tr>\n",
       "      <th>Bulgaria (BUL) [H]</th>\n",
       "      <td>19</td>\n",
       "      <td>51</td>\n",
       "      <td>85</td>\n",
       "      <td>78</td>\n",
       "      <td>214</td>\n",
       "      <td>19</td>\n",
       "      <td>1</td>\n",
       "      <td>2</td>\n",
       "      <td>3</td>\n",
       "      <td>6</td>\n",
       "      <td>38</td>\n",
       "      <td>52</td>\n",
       "      <td>87</td>\n",
       "      <td>81</td>\n",
       "      <td>220</td>\n",
       "    </tr>\n",
       "  </tbody>\n",
       "</table>\n",
       "</div>"
      ],
      "text/plain": [
       "                           # Summer  Gold  Silver  Bronze  Total  # Winter  \\\n",
       "Australia (AUS) [AUS] [Z]        25   139     152     177    468        18   \n",
       "Austria (AUT)                    26    18      33      35     86        22   \n",
       "Belarus (BLR)                     5    12      24      39     75         6   \n",
       "Belgium (BEL)                    25    37      52      53    142        20   \n",
       "Bulgaria (BUL) [H]               19    51      85      78    214        19   \n",
       "\n",
       "                           Gold.1  Silver.1  Bronze.1  Total.1  # Games  \\\n",
       "Australia (AUS) [AUS] [Z]       5         3         4       12       43   \n",
       "Austria (AUT)                  59        78        81      218       48   \n",
       "Belarus (BLR)                   6         4         5       15       11   \n",
       "Belgium (BEL)                   1         1         3        5       45   \n",
       "Bulgaria (BUL) [H]              1         2         3        6       38   \n",
       "\n",
       "                           Gold.2  Silver.2  Bronze.2  Combined total  \n",
       "Australia (AUS) [AUS] [Z]     144       155       181             480  \n",
       "Austria (AUT)                  77       111       116             304  \n",
       "Belarus (BLR)                  18        28        44              90  \n",
       "Belgium (BEL)                  38        53        56             147  \n",
       "Bulgaria (BUL) [H]             52        87        81             220  "
      ]
     },
     "execution_count": 50,
     "metadata": {},
     "output_type": "execute_result"
    }
   ],
   "source": [
    "onegoldsw= df[(df['Gold']> 0) & (df['Gold.1'] > 0)]\n",
    "onegoldsw.head()"
   ]
  },
  {
   "cell_type": "code",
   "execution_count": 23,
   "id": "36d2a20d",
   "metadata": {},
   "outputs": [
    {
     "data": {
      "text/plain": [
       "37"
      ]
     },
     "execution_count": 23,
     "metadata": {},
     "output_type": "execute_result"
    }
   ],
   "source": [
    "len(df[(df['Gold']> 0) & (df['Gold.1'] > 0)]) # and operator & and or |"
   ]
  },
  {
   "cell_type": "markdown",
   "id": "dd8e270a",
   "metadata": {},
   "source": [
    "## Missing values\n",
    "\n",
    "    1. looking for the main dataset source online\n",
    "    2. Dropping the missing values by row or column\n",
    "    3. filling the missing values with the mean, median and mode"
   ]
  },
  {
   "cell_type": "code",
   "execution_count": 24,
   "id": "4d846dd7",
   "metadata": {},
   "outputs": [],
   "source": [
    "### gold = df.where(df['Gold'] > 0)"
   ]
  },
  {
   "cell_type": "code",
   "execution_count": 27,
   "id": "b645aa73",
   "metadata": {},
   "outputs": [],
   "source": [
    "### gold.head()"
   ]
  },
  {
   "cell_type": "markdown",
   "id": "7c23a6ca",
   "metadata": {},
   "source": [
    "Check if a dataframe conatains nan"
   ]
  },
  {
   "cell_type": "code",
   "execution_count": 26,
   "id": "62fb4d00",
   "metadata": {},
   "outputs": [
    {
     "data": {
      "text/plain": [
       "True"
      ]
     },
     "execution_count": 26,
     "metadata": {},
     "output_type": "execute_result"
    }
   ],
   "source": [
    "gold.isnull().values.any()"
   ]
  },
  {
   "cell_type": "code",
   "execution_count": 28,
   "id": "41b9779f",
   "metadata": {},
   "outputs": [
    {
     "data": {
      "text/plain": [
       "False"
      ]
     },
     "execution_count": 28,
     "metadata": {},
     "output_type": "execute_result"
    }
   ],
   "source": [
    "only_gold.isnull().values.any()"
   ]
  },
  {
   "cell_type": "code",
   "execution_count": 27,
   "id": "6e4358fd",
   "metadata": {},
   "outputs": [
    {
     "data": {
      "text/plain": [
       "# Summer          47\n",
       "Gold              47\n",
       "Silver            47\n",
       "Bronze            47\n",
       "Total             47\n",
       "# Winter          47\n",
       "Gold.1            47\n",
       "Silver.1          47\n",
       "Bronze.1          47\n",
       "Total.1           47\n",
       "# Games           47\n",
       "Gold.2            47\n",
       "Silver.2          47\n",
       "Bronze.2          47\n",
       "Combined total    47\n",
       "dtype: int64"
      ]
     },
     "execution_count": 27,
     "metadata": {},
     "output_type": "execute_result"
    }
   ],
   "source": [
    "gold.isnull().sum()"
   ]
  },
  {
   "cell_type": "markdown",
   "id": "dfe596a2",
   "metadata": {},
   "source": [
    "Dropping missing values"
   ]
  },
  {
   "cell_type": "code",
   "execution_count": 29,
   "id": "8a430397",
   "metadata": {},
   "outputs": [
    {
     "data": {
      "text/html": [
       "<div>\n",
       "<style scoped>\n",
       "    .dataframe tbody tr th:only-of-type {\n",
       "        vertical-align: middle;\n",
       "    }\n",
       "\n",
       "    .dataframe tbody tr th {\n",
       "        vertical-align: top;\n",
       "    }\n",
       "\n",
       "    .dataframe thead th {\n",
       "        text-align: right;\n",
       "    }\n",
       "</style>\n",
       "<table border=\"1\" class=\"dataframe\">\n",
       "  <thead>\n",
       "    <tr style=\"text-align: right;\">\n",
       "      <th></th>\n",
       "      <th># Summer</th>\n",
       "      <th>Gold</th>\n",
       "      <th>Silver</th>\n",
       "      <th>Bronze</th>\n",
       "      <th>Total</th>\n",
       "      <th># Winter</th>\n",
       "      <th>Gold.1</th>\n",
       "      <th>Silver.1</th>\n",
       "      <th>Bronze.1</th>\n",
       "      <th>Total.1</th>\n",
       "      <th># Games</th>\n",
       "      <th>Gold.2</th>\n",
       "      <th>Silver.2</th>\n",
       "      <th>Bronze.2</th>\n",
       "      <th>Combined total</th>\n",
       "    </tr>\n",
       "  </thead>\n",
       "  <tbody>\n",
       "    <tr>\n",
       "      <th>Algeria (ALG)</th>\n",
       "      <td>12.0</td>\n",
       "      <td>5.0</td>\n",
       "      <td>2.0</td>\n",
       "      <td>8.0</td>\n",
       "      <td>15.0</td>\n",
       "      <td>3.0</td>\n",
       "      <td>0.0</td>\n",
       "      <td>0.0</td>\n",
       "      <td>0.0</td>\n",
       "      <td>0.0</td>\n",
       "      <td>15.0</td>\n",
       "      <td>5.0</td>\n",
       "      <td>2.0</td>\n",
       "      <td>8.0</td>\n",
       "      <td>15.0</td>\n",
       "    </tr>\n",
       "    <tr>\n",
       "      <th>Argentina (ARG)</th>\n",
       "      <td>23.0</td>\n",
       "      <td>18.0</td>\n",
       "      <td>24.0</td>\n",
       "      <td>28.0</td>\n",
       "      <td>70.0</td>\n",
       "      <td>18.0</td>\n",
       "      <td>0.0</td>\n",
       "      <td>0.0</td>\n",
       "      <td>0.0</td>\n",
       "      <td>0.0</td>\n",
       "      <td>41.0</td>\n",
       "      <td>18.0</td>\n",
       "      <td>24.0</td>\n",
       "      <td>28.0</td>\n",
       "      <td>70.0</td>\n",
       "    </tr>\n",
       "    <tr>\n",
       "      <th>Armenia (ARM)</th>\n",
       "      <td>5.0</td>\n",
       "      <td>1.0</td>\n",
       "      <td>2.0</td>\n",
       "      <td>9.0</td>\n",
       "      <td>12.0</td>\n",
       "      <td>6.0</td>\n",
       "      <td>0.0</td>\n",
       "      <td>0.0</td>\n",
       "      <td>0.0</td>\n",
       "      <td>0.0</td>\n",
       "      <td>11.0</td>\n",
       "      <td>1.0</td>\n",
       "      <td>2.0</td>\n",
       "      <td>9.0</td>\n",
       "      <td>12.0</td>\n",
       "    </tr>\n",
       "    <tr>\n",
       "      <th>Australasia (ANZ) [ANZ]</th>\n",
       "      <td>2.0</td>\n",
       "      <td>3.0</td>\n",
       "      <td>4.0</td>\n",
       "      <td>5.0</td>\n",
       "      <td>12.0</td>\n",
       "      <td>0.0</td>\n",
       "      <td>0.0</td>\n",
       "      <td>0.0</td>\n",
       "      <td>0.0</td>\n",
       "      <td>0.0</td>\n",
       "      <td>2.0</td>\n",
       "      <td>3.0</td>\n",
       "      <td>4.0</td>\n",
       "      <td>5.0</td>\n",
       "      <td>12.0</td>\n",
       "    </tr>\n",
       "    <tr>\n",
       "      <th>Australia (AUS) [AUS] [Z]</th>\n",
       "      <td>25.0</td>\n",
       "      <td>139.0</td>\n",
       "      <td>152.0</td>\n",
       "      <td>177.0</td>\n",
       "      <td>468.0</td>\n",
       "      <td>18.0</td>\n",
       "      <td>5.0</td>\n",
       "      <td>3.0</td>\n",
       "      <td>4.0</td>\n",
       "      <td>12.0</td>\n",
       "      <td>43.0</td>\n",
       "      <td>144.0</td>\n",
       "      <td>155.0</td>\n",
       "      <td>181.0</td>\n",
       "      <td>480.0</td>\n",
       "    </tr>\n",
       "    <tr>\n",
       "      <th>...</th>\n",
       "      <td>...</td>\n",
       "      <td>...</td>\n",
       "      <td>...</td>\n",
       "      <td>...</td>\n",
       "      <td>...</td>\n",
       "      <td>...</td>\n",
       "      <td>...</td>\n",
       "      <td>...</td>\n",
       "      <td>...</td>\n",
       "      <td>...</td>\n",
       "      <td>...</td>\n",
       "      <td>...</td>\n",
       "      <td>...</td>\n",
       "      <td>...</td>\n",
       "      <td>...</td>\n",
       "    </tr>\n",
       "    <tr>\n",
       "      <th>Venezuela (VEN)</th>\n",
       "      <td>17.0</td>\n",
       "      <td>2.0</td>\n",
       "      <td>2.0</td>\n",
       "      <td>8.0</td>\n",
       "      <td>12.0</td>\n",
       "      <td>4.0</td>\n",
       "      <td>0.0</td>\n",
       "      <td>0.0</td>\n",
       "      <td>0.0</td>\n",
       "      <td>0.0</td>\n",
       "      <td>21.0</td>\n",
       "      <td>2.0</td>\n",
       "      <td>2.0</td>\n",
       "      <td>8.0</td>\n",
       "      <td>12.0</td>\n",
       "    </tr>\n",
       "    <tr>\n",
       "      <th>Yugoslavia (YUG) [YUG]</th>\n",
       "      <td>16.0</td>\n",
       "      <td>26.0</td>\n",
       "      <td>29.0</td>\n",
       "      <td>28.0</td>\n",
       "      <td>83.0</td>\n",
       "      <td>14.0</td>\n",
       "      <td>0.0</td>\n",
       "      <td>3.0</td>\n",
       "      <td>1.0</td>\n",
       "      <td>4.0</td>\n",
       "      <td>30.0</td>\n",
       "      <td>26.0</td>\n",
       "      <td>32.0</td>\n",
       "      <td>29.0</td>\n",
       "      <td>87.0</td>\n",
       "    </tr>\n",
       "    <tr>\n",
       "      <th>Zimbabwe (ZIM) [ZIM]</th>\n",
       "      <td>12.0</td>\n",
       "      <td>3.0</td>\n",
       "      <td>4.0</td>\n",
       "      <td>1.0</td>\n",
       "      <td>8.0</td>\n",
       "      <td>1.0</td>\n",
       "      <td>0.0</td>\n",
       "      <td>0.0</td>\n",
       "      <td>0.0</td>\n",
       "      <td>0.0</td>\n",
       "      <td>13.0</td>\n",
       "      <td>3.0</td>\n",
       "      <td>4.0</td>\n",
       "      <td>1.0</td>\n",
       "      <td>8.0</td>\n",
       "    </tr>\n",
       "    <tr>\n",
       "      <th>Mixed team (ZZX) [ZZX]</th>\n",
       "      <td>3.0</td>\n",
       "      <td>8.0</td>\n",
       "      <td>5.0</td>\n",
       "      <td>4.0</td>\n",
       "      <td>17.0</td>\n",
       "      <td>0.0</td>\n",
       "      <td>0.0</td>\n",
       "      <td>0.0</td>\n",
       "      <td>0.0</td>\n",
       "      <td>0.0</td>\n",
       "      <td>3.0</td>\n",
       "      <td>8.0</td>\n",
       "      <td>5.0</td>\n",
       "      <td>4.0</td>\n",
       "      <td>17.0</td>\n",
       "    </tr>\n",
       "    <tr>\n",
       "      <th>Totals</th>\n",
       "      <td>27.0</td>\n",
       "      <td>4809.0</td>\n",
       "      <td>4775.0</td>\n",
       "      <td>5130.0</td>\n",
       "      <td>14714.0</td>\n",
       "      <td>22.0</td>\n",
       "      <td>959.0</td>\n",
       "      <td>958.0</td>\n",
       "      <td>948.0</td>\n",
       "      <td>2865.0</td>\n",
       "      <td>49.0</td>\n",
       "      <td>5768.0</td>\n",
       "      <td>5733.0</td>\n",
       "      <td>6078.0</td>\n",
       "      <td>17579.0</td>\n",
       "    </tr>\n",
       "  </tbody>\n",
       "</table>\n",
       "<p>100 rows × 15 columns</p>\n",
       "</div>"
      ],
      "text/plain": [
       "                           # Summer    Gold  Silver  Bronze    Total  \\\n",
       "Algeria (ALG)                  12.0     5.0     2.0     8.0     15.0   \n",
       "Argentina (ARG)                23.0    18.0    24.0    28.0     70.0   \n",
       "Armenia (ARM)                   5.0     1.0     2.0     9.0     12.0   \n",
       "Australasia (ANZ) [ANZ]         2.0     3.0     4.0     5.0     12.0   \n",
       "Australia (AUS) [AUS] [Z]      25.0   139.0   152.0   177.0    468.0   \n",
       "...                             ...     ...     ...     ...      ...   \n",
       "Venezuela (VEN)                17.0     2.0     2.0     8.0     12.0   \n",
       "Yugoslavia (YUG) [YUG]         16.0    26.0    29.0    28.0     83.0   \n",
       "Zimbabwe (ZIM) [ZIM]           12.0     3.0     4.0     1.0      8.0   \n",
       "Mixed team (ZZX) [ZZX]          3.0     8.0     5.0     4.0     17.0   \n",
       "Totals                         27.0  4809.0  4775.0  5130.0  14714.0   \n",
       "\n",
       "                           # Winter  Gold.1  Silver.1  Bronze.1  Total.1  \\\n",
       "Algeria (ALG)                   3.0     0.0       0.0       0.0      0.0   \n",
       "Argentina (ARG)                18.0     0.0       0.0       0.0      0.0   \n",
       "Armenia (ARM)                   6.0     0.0       0.0       0.0      0.0   \n",
       "Australasia (ANZ) [ANZ]         0.0     0.0       0.0       0.0      0.0   \n",
       "Australia (AUS) [AUS] [Z]      18.0     5.0       3.0       4.0     12.0   \n",
       "...                             ...     ...       ...       ...      ...   \n",
       "Venezuela (VEN)                 4.0     0.0       0.0       0.0      0.0   \n",
       "Yugoslavia (YUG) [YUG]         14.0     0.0       3.0       1.0      4.0   \n",
       "Zimbabwe (ZIM) [ZIM]            1.0     0.0       0.0       0.0      0.0   \n",
       "Mixed team (ZZX) [ZZX]          0.0     0.0       0.0       0.0      0.0   \n",
       "Totals                         22.0   959.0     958.0     948.0   2865.0   \n",
       "\n",
       "                           # Games  Gold.2  Silver.2  Bronze.2  Combined total  \n",
       "Algeria (ALG)                 15.0     5.0       2.0       8.0            15.0  \n",
       "Argentina (ARG)               41.0    18.0      24.0      28.0            70.0  \n",
       "Armenia (ARM)                 11.0     1.0       2.0       9.0            12.0  \n",
       "Australasia (ANZ) [ANZ]        2.0     3.0       4.0       5.0            12.0  \n",
       "Australia (AUS) [AUS] [Z]     43.0   144.0     155.0     181.0           480.0  \n",
       "...                            ...     ...       ...       ...             ...  \n",
       "Venezuela (VEN)               21.0     2.0       2.0       8.0            12.0  \n",
       "Yugoslavia (YUG) [YUG]        30.0    26.0      32.0      29.0            87.0  \n",
       "Zimbabwe (ZIM) [ZIM]          13.0     3.0       4.0       1.0             8.0  \n",
       "Mixed team (ZZX) [ZZX]         3.0     8.0       5.0       4.0            17.0  \n",
       "Totals                        49.0  5768.0    5733.0    6078.0         17579.0  \n",
       "\n",
       "[100 rows x 15 columns]"
      ]
     },
     "execution_count": 29,
     "metadata": {},
     "output_type": "execute_result"
    }
   ],
   "source": [
    "gold.dropna(axis=0) #Drop by row"
   ]
  },
  {
   "cell_type": "code",
   "execution_count": 30,
   "id": "08e0b877",
   "metadata": {},
   "outputs": [
    {
     "data": {
      "text/plain": [
       "100"
      ]
     },
     "execution_count": 30,
     "metadata": {},
     "output_type": "execute_result"
    }
   ],
   "source": [
    "len(gold.dropna(axis=0))"
   ]
  },
  {
   "cell_type": "code",
   "execution_count": 31,
   "id": "f4611c00",
   "metadata": {},
   "outputs": [
    {
     "data": {
      "text/html": [
       "<div>\n",
       "<style scoped>\n",
       "    .dataframe tbody tr th:only-of-type {\n",
       "        vertical-align: middle;\n",
       "    }\n",
       "\n",
       "    .dataframe tbody tr th {\n",
       "        vertical-align: top;\n",
       "    }\n",
       "\n",
       "    .dataframe thead th {\n",
       "        text-align: right;\n",
       "    }\n",
       "</style>\n",
       "<table border=\"1\" class=\"dataframe\">\n",
       "  <thead>\n",
       "    <tr style=\"text-align: right;\">\n",
       "      <th></th>\n",
       "    </tr>\n",
       "  </thead>\n",
       "  <tbody>\n",
       "    <tr>\n",
       "      <th>Afghanistan (AFG)</th>\n",
       "    </tr>\n",
       "    <tr>\n",
       "      <th>Algeria (ALG)</th>\n",
       "    </tr>\n",
       "    <tr>\n",
       "      <th>Argentina (ARG)</th>\n",
       "    </tr>\n",
       "    <tr>\n",
       "      <th>Armenia (ARM)</th>\n",
       "    </tr>\n",
       "    <tr>\n",
       "      <th>Australasia (ANZ) [ANZ]</th>\n",
       "    </tr>\n",
       "    <tr>\n",
       "      <th>...</th>\n",
       "    </tr>\n",
       "    <tr>\n",
       "      <th>Independent Olympic Participants (IOP) [IOP]</th>\n",
       "    </tr>\n",
       "    <tr>\n",
       "      <th>Zambia (ZAM) [ZAM]</th>\n",
       "    </tr>\n",
       "    <tr>\n",
       "      <th>Zimbabwe (ZIM) [ZIM]</th>\n",
       "    </tr>\n",
       "    <tr>\n",
       "      <th>Mixed team (ZZX) [ZZX]</th>\n",
       "    </tr>\n",
       "    <tr>\n",
       "      <th>Totals</th>\n",
       "    </tr>\n",
       "  </tbody>\n",
       "</table>\n",
       "<p>147 rows × 0 columns</p>\n",
       "</div>"
      ],
      "text/plain": [
       "Empty DataFrame\n",
       "Columns: []\n",
       "Index: [Afghanistan (AFG), Algeria (ALG), Argentina (ARG), Armenia (ARM), Australasia (ANZ) [ANZ], Australia (AUS) [AUS] [Z], Austria (AUT), Azerbaijan (AZE), Bahamas (BAH), Bahrain (BRN), Barbados (BAR) [BAR], Belarus (BLR), Belgium (BEL), Bermuda (BER), Bohemia (BOH) [BOH] [Z], Botswana (BOT), Brazil (BRA), British West Indies (BWI) [BWI], Bulgaria (BUL) [H], Burundi (BDI), Cameroon (CMR), Canada (CAN), Chile (CHI) [I], China (CHN) [CHN], Colombia (COL), Costa Rica (CRC), Ivory Coast (CIV) [CIV], Croatia (CRO), Cuba (CUB) [Z], Cyprus (CYP), Czech Republic (CZE) [CZE], Czechoslovakia (TCH) [TCH], Denmark (DEN) [Z], Djibouti (DJI) [B], Dominican Republic (DOM), Ecuador (ECU), Egypt (EGY) [EGY] [Z], Eritrea (ERI), Estonia (EST), Ethiopia (ETH), Finland (FIN), France (FRA) [O] [P] [Z], Gabon (GAB), Georgia (GEO), Germany (GER) [GER] [Z], United Team of Germany (EUA) [EUA], East Germany (GDR) [GDR], West Germany (FRG) [FRG], Ghana (GHA) [GHA], Great Britain (GBR) [GBR] [Z], Greece (GRE) [Z], Grenada (GRN), Guatemala (GUA), Guyana (GUY) [GUY], Haiti (HAI) [J], Hong Kong (HKG) [HKG], Hungary (HUN), Iceland (ISL), India (IND) [F], Indonesia (INA), Iran (IRI) [K], Iraq (IRQ), Ireland (IRL), Israel (ISR), Italy (ITA) [M] [S], Jamaica (JAM) [JAM], Japan (JPN), Kazakhstan (KAZ), Kenya (KEN), North Korea (PRK), South Korea (KOR), Kuwait (KUW), Kyrgyzstan (KGZ), Latvia (LAT), Lebanon (LIB), Liechtenstein (LIE), Lithuania (LTU), Luxembourg (LUX) [O], Macedonia (MKD), Malaysia (MAS) [MAS], Mauritius (MRI), Mexico (MEX), Moldova (MDA), Mongolia (MGL), Montenegro (MNE), Morocco (MAR), Mozambique (MOZ), Namibia (NAM), Netherlands (NED) [Z], Netherlands Antilles (AHO) [AHO] [I], New Zealand (NZL) [NZL], Niger (NIG), Nigeria (NGR), Norway (NOR) [Q], Pakistan (PAK), Panama (PAN), Paraguay (PAR), Peru (PER) [L], Philippines (PHI), Poland (POL), ...]\n",
       "\n",
       "[147 rows x 0 columns]"
      ]
     },
     "execution_count": 31,
     "metadata": {},
     "output_type": "execute_result"
    }
   ],
   "source": [
    "gold.dropna(axis=1) #Drop by column"
   ]
  },
  {
   "cell_type": "markdown",
   "id": "af2a8e09",
   "metadata": {},
   "source": [
    "Filling missing value"
   ]
  },
  {
   "cell_type": "code",
   "execution_count": 32,
   "id": "7775fcda",
   "metadata": {},
   "outputs": [
    {
     "data": {
      "text/plain": [
       "# Summer           13.476190\n",
       "Gold               65.428571\n",
       "Silver             64.965986\n",
       "Bronze             69.795918\n",
       "Total             200.190476\n",
       "# Winter            6.700680\n",
       "Gold.1             13.047619\n",
       "Silver.1           13.034014\n",
       "Bronze.1           12.897959\n",
       "Total.1            38.979592\n",
       "# Games            20.176871\n",
       "Gold.2             78.476190\n",
       "Silver.2           78.000000\n",
       "Bronze.2           82.693878\n",
       "Combined total    239.170068\n",
       "dtype: float64"
      ]
     },
     "execution_count": 32,
     "metadata": {},
     "output_type": "execute_result"
    }
   ],
   "source": [
    "df.mean()"
   ]
  },
  {
   "cell_type": "code",
   "execution_count": 34,
   "id": "37540c84",
   "metadata": {},
   "outputs": [],
   "source": [
    "# Filling with mean\n",
    "gold_fillna_mean= gold.fillna(df.mean())"
   ]
  },
  {
   "cell_type": "code",
   "execution_count": 35,
   "id": "8b6c47ee",
   "metadata": {},
   "outputs": [
    {
     "data": {
      "text/html": [
       "<div>\n",
       "<style scoped>\n",
       "    .dataframe tbody tr th:only-of-type {\n",
       "        vertical-align: middle;\n",
       "    }\n",
       "\n",
       "    .dataframe tbody tr th {\n",
       "        vertical-align: top;\n",
       "    }\n",
       "\n",
       "    .dataframe thead th {\n",
       "        text-align: right;\n",
       "    }\n",
       "</style>\n",
       "<table border=\"1\" class=\"dataframe\">\n",
       "  <thead>\n",
       "    <tr style=\"text-align: right;\">\n",
       "      <th></th>\n",
       "      <th># Summer</th>\n",
       "      <th>Gold</th>\n",
       "      <th>Silver</th>\n",
       "      <th>Bronze</th>\n",
       "      <th>Total</th>\n",
       "      <th># Winter</th>\n",
       "      <th>Gold.1</th>\n",
       "      <th>Silver.1</th>\n",
       "      <th>Bronze.1</th>\n",
       "      <th>Total.1</th>\n",
       "      <th># Games</th>\n",
       "      <th>Gold.2</th>\n",
       "      <th>Silver.2</th>\n",
       "      <th>Bronze.2</th>\n",
       "      <th>Combined total</th>\n",
       "    </tr>\n",
       "  </thead>\n",
       "  <tbody>\n",
       "    <tr>\n",
       "      <th>Afghanistan (AFG)</th>\n",
       "      <td>NaN</td>\n",
       "      <td>NaN</td>\n",
       "      <td>NaN</td>\n",
       "      <td>NaN</td>\n",
       "      <td>NaN</td>\n",
       "      <td>NaN</td>\n",
       "      <td>NaN</td>\n",
       "      <td>NaN</td>\n",
       "      <td>NaN</td>\n",
       "      <td>NaN</td>\n",
       "      <td>NaN</td>\n",
       "      <td>NaN</td>\n",
       "      <td>NaN</td>\n",
       "      <td>NaN</td>\n",
       "      <td>NaN</td>\n",
       "    </tr>\n",
       "    <tr>\n",
       "      <th>Algeria (ALG)</th>\n",
       "      <td>12.0</td>\n",
       "      <td>5.0</td>\n",
       "      <td>2.0</td>\n",
       "      <td>8.0</td>\n",
       "      <td>15.0</td>\n",
       "      <td>3.0</td>\n",
       "      <td>0.0</td>\n",
       "      <td>0.0</td>\n",
       "      <td>0.0</td>\n",
       "      <td>0.0</td>\n",
       "      <td>15.0</td>\n",
       "      <td>5.0</td>\n",
       "      <td>2.0</td>\n",
       "      <td>8.0</td>\n",
       "      <td>15.0</td>\n",
       "    </tr>\n",
       "    <tr>\n",
       "      <th>Argentina (ARG)</th>\n",
       "      <td>23.0</td>\n",
       "      <td>18.0</td>\n",
       "      <td>24.0</td>\n",
       "      <td>28.0</td>\n",
       "      <td>70.0</td>\n",
       "      <td>18.0</td>\n",
       "      <td>0.0</td>\n",
       "      <td>0.0</td>\n",
       "      <td>0.0</td>\n",
       "      <td>0.0</td>\n",
       "      <td>41.0</td>\n",
       "      <td>18.0</td>\n",
       "      <td>24.0</td>\n",
       "      <td>28.0</td>\n",
       "      <td>70.0</td>\n",
       "    </tr>\n",
       "    <tr>\n",
       "      <th>Armenia (ARM)</th>\n",
       "      <td>5.0</td>\n",
       "      <td>1.0</td>\n",
       "      <td>2.0</td>\n",
       "      <td>9.0</td>\n",
       "      <td>12.0</td>\n",
       "      <td>6.0</td>\n",
       "      <td>0.0</td>\n",
       "      <td>0.0</td>\n",
       "      <td>0.0</td>\n",
       "      <td>0.0</td>\n",
       "      <td>11.0</td>\n",
       "      <td>1.0</td>\n",
       "      <td>2.0</td>\n",
       "      <td>9.0</td>\n",
       "      <td>12.0</td>\n",
       "    </tr>\n",
       "    <tr>\n",
       "      <th>Australasia (ANZ) [ANZ]</th>\n",
       "      <td>2.0</td>\n",
       "      <td>3.0</td>\n",
       "      <td>4.0</td>\n",
       "      <td>5.0</td>\n",
       "      <td>12.0</td>\n",
       "      <td>0.0</td>\n",
       "      <td>0.0</td>\n",
       "      <td>0.0</td>\n",
       "      <td>0.0</td>\n",
       "      <td>0.0</td>\n",
       "      <td>2.0</td>\n",
       "      <td>3.0</td>\n",
       "      <td>4.0</td>\n",
       "      <td>5.0</td>\n",
       "      <td>12.0</td>\n",
       "    </tr>\n",
       "  </tbody>\n",
       "</table>\n",
       "</div>"
      ],
      "text/plain": [
       "                         # Summer  Gold  Silver  Bronze  Total  # Winter  \\\n",
       "Afghanistan (AFG)             NaN   NaN     NaN     NaN    NaN       NaN   \n",
       "Algeria (ALG)                12.0   5.0     2.0     8.0   15.0       3.0   \n",
       "Argentina (ARG)              23.0  18.0    24.0    28.0   70.0      18.0   \n",
       "Armenia (ARM)                 5.0   1.0     2.0     9.0   12.0       6.0   \n",
       "Australasia (ANZ) [ANZ]       2.0   3.0     4.0     5.0   12.0       0.0   \n",
       "\n",
       "                         Gold.1  Silver.1  Bronze.1  Total.1  # Games  Gold.2  \\\n",
       "Afghanistan (AFG)           NaN       NaN       NaN      NaN      NaN     NaN   \n",
       "Algeria (ALG)               0.0       0.0       0.0      0.0     15.0     5.0   \n",
       "Argentina (ARG)             0.0       0.0       0.0      0.0     41.0    18.0   \n",
       "Armenia (ARM)               0.0       0.0       0.0      0.0     11.0     1.0   \n",
       "Australasia (ANZ) [ANZ]     0.0       0.0       0.0      0.0      2.0     3.0   \n",
       "\n",
       "                         Silver.2  Bronze.2  Combined total  \n",
       "Afghanistan (AFG)             NaN       NaN             NaN  \n",
       "Algeria (ALG)                 2.0       8.0            15.0  \n",
       "Argentina (ARG)              24.0      28.0            70.0  \n",
       "Armenia (ARM)                 2.0       9.0            12.0  \n",
       "Australasia (ANZ) [ANZ]       4.0       5.0            12.0  "
      ]
     },
     "execution_count": 35,
     "metadata": {},
     "output_type": "execute_result"
    }
   ],
   "source": [
    "gold.head()"
   ]
  },
  {
   "cell_type": "code",
   "execution_count": 36,
   "id": "1a4ce8ea",
   "metadata": {},
   "outputs": [
    {
     "data": {
      "text/html": [
       "<div>\n",
       "<style scoped>\n",
       "    .dataframe tbody tr th:only-of-type {\n",
       "        vertical-align: middle;\n",
       "    }\n",
       "\n",
       "    .dataframe tbody tr th {\n",
       "        vertical-align: top;\n",
       "    }\n",
       "\n",
       "    .dataframe thead th {\n",
       "        text-align: right;\n",
       "    }\n",
       "</style>\n",
       "<table border=\"1\" class=\"dataframe\">\n",
       "  <thead>\n",
       "    <tr style=\"text-align: right;\">\n",
       "      <th></th>\n",
       "      <th># Summer</th>\n",
       "      <th>Gold</th>\n",
       "      <th>Silver</th>\n",
       "      <th>Bronze</th>\n",
       "      <th>Total</th>\n",
       "      <th># Winter</th>\n",
       "      <th>Gold.1</th>\n",
       "      <th>Silver.1</th>\n",
       "      <th>Bronze.1</th>\n",
       "      <th>Total.1</th>\n",
       "      <th># Games</th>\n",
       "      <th>Gold.2</th>\n",
       "      <th>Silver.2</th>\n",
       "      <th>Bronze.2</th>\n",
       "      <th>Combined total</th>\n",
       "    </tr>\n",
       "  </thead>\n",
       "  <tbody>\n",
       "    <tr>\n",
       "      <th>Afghanistan (AFG)</th>\n",
       "      <td>13.47619</td>\n",
       "      <td>65.428571</td>\n",
       "      <td>64.965986</td>\n",
       "      <td>69.795918</td>\n",
       "      <td>200.190476</td>\n",
       "      <td>6.70068</td>\n",
       "      <td>13.047619</td>\n",
       "      <td>13.034014</td>\n",
       "      <td>12.897959</td>\n",
       "      <td>38.979592</td>\n",
       "      <td>20.176871</td>\n",
       "      <td>78.47619</td>\n",
       "      <td>78.0</td>\n",
       "      <td>82.693878</td>\n",
       "      <td>239.170068</td>\n",
       "    </tr>\n",
       "    <tr>\n",
       "      <th>Algeria (ALG)</th>\n",
       "      <td>12.00000</td>\n",
       "      <td>5.000000</td>\n",
       "      <td>2.000000</td>\n",
       "      <td>8.000000</td>\n",
       "      <td>15.000000</td>\n",
       "      <td>3.00000</td>\n",
       "      <td>0.000000</td>\n",
       "      <td>0.000000</td>\n",
       "      <td>0.000000</td>\n",
       "      <td>0.000000</td>\n",
       "      <td>15.000000</td>\n",
       "      <td>5.00000</td>\n",
       "      <td>2.0</td>\n",
       "      <td>8.000000</td>\n",
       "      <td>15.000000</td>\n",
       "    </tr>\n",
       "    <tr>\n",
       "      <th>Argentina (ARG)</th>\n",
       "      <td>23.00000</td>\n",
       "      <td>18.000000</td>\n",
       "      <td>24.000000</td>\n",
       "      <td>28.000000</td>\n",
       "      <td>70.000000</td>\n",
       "      <td>18.00000</td>\n",
       "      <td>0.000000</td>\n",
       "      <td>0.000000</td>\n",
       "      <td>0.000000</td>\n",
       "      <td>0.000000</td>\n",
       "      <td>41.000000</td>\n",
       "      <td>18.00000</td>\n",
       "      <td>24.0</td>\n",
       "      <td>28.000000</td>\n",
       "      <td>70.000000</td>\n",
       "    </tr>\n",
       "    <tr>\n",
       "      <th>Armenia (ARM)</th>\n",
       "      <td>5.00000</td>\n",
       "      <td>1.000000</td>\n",
       "      <td>2.000000</td>\n",
       "      <td>9.000000</td>\n",
       "      <td>12.000000</td>\n",
       "      <td>6.00000</td>\n",
       "      <td>0.000000</td>\n",
       "      <td>0.000000</td>\n",
       "      <td>0.000000</td>\n",
       "      <td>0.000000</td>\n",
       "      <td>11.000000</td>\n",
       "      <td>1.00000</td>\n",
       "      <td>2.0</td>\n",
       "      <td>9.000000</td>\n",
       "      <td>12.000000</td>\n",
       "    </tr>\n",
       "    <tr>\n",
       "      <th>Australasia (ANZ) [ANZ]</th>\n",
       "      <td>2.00000</td>\n",
       "      <td>3.000000</td>\n",
       "      <td>4.000000</td>\n",
       "      <td>5.000000</td>\n",
       "      <td>12.000000</td>\n",
       "      <td>0.00000</td>\n",
       "      <td>0.000000</td>\n",
       "      <td>0.000000</td>\n",
       "      <td>0.000000</td>\n",
       "      <td>0.000000</td>\n",
       "      <td>2.000000</td>\n",
       "      <td>3.00000</td>\n",
       "      <td>4.0</td>\n",
       "      <td>5.000000</td>\n",
       "      <td>12.000000</td>\n",
       "    </tr>\n",
       "  </tbody>\n",
       "</table>\n",
       "</div>"
      ],
      "text/plain": [
       "                         # Summer       Gold     Silver     Bronze  \\\n",
       "Afghanistan (AFG)        13.47619  65.428571  64.965986  69.795918   \n",
       "Algeria (ALG)            12.00000   5.000000   2.000000   8.000000   \n",
       "Argentina (ARG)          23.00000  18.000000  24.000000  28.000000   \n",
       "Armenia (ARM)             5.00000   1.000000   2.000000   9.000000   \n",
       "Australasia (ANZ) [ANZ]   2.00000   3.000000   4.000000   5.000000   \n",
       "\n",
       "                              Total  # Winter     Gold.1   Silver.1  \\\n",
       "Afghanistan (AFG)        200.190476   6.70068  13.047619  13.034014   \n",
       "Algeria (ALG)             15.000000   3.00000   0.000000   0.000000   \n",
       "Argentina (ARG)           70.000000  18.00000   0.000000   0.000000   \n",
       "Armenia (ARM)             12.000000   6.00000   0.000000   0.000000   \n",
       "Australasia (ANZ) [ANZ]   12.000000   0.00000   0.000000   0.000000   \n",
       "\n",
       "                          Bronze.1    Total.1    # Games    Gold.2  Silver.2  \\\n",
       "Afghanistan (AFG)        12.897959  38.979592  20.176871  78.47619      78.0   \n",
       "Algeria (ALG)             0.000000   0.000000  15.000000   5.00000       2.0   \n",
       "Argentina (ARG)           0.000000   0.000000  41.000000  18.00000      24.0   \n",
       "Armenia (ARM)             0.000000   0.000000  11.000000   1.00000       2.0   \n",
       "Australasia (ANZ) [ANZ]   0.000000   0.000000   2.000000   3.00000       4.0   \n",
       "\n",
       "                          Bronze.2  Combined total  \n",
       "Afghanistan (AFG)        82.693878      239.170068  \n",
       "Algeria (ALG)             8.000000       15.000000  \n",
       "Argentina (ARG)          28.000000       70.000000  \n",
       "Armenia (ARM)             9.000000       12.000000  \n",
       "Australasia (ANZ) [ANZ]   5.000000       12.000000  "
      ]
     },
     "execution_count": 36,
     "metadata": {},
     "output_type": "execute_result"
    }
   ],
   "source": [
    "gold_fillna_mean.head()"
   ]
  },
  {
   "cell_type": "code",
   "execution_count": 37,
   "id": "44d2c000",
   "metadata": {},
   "outputs": [
    {
     "data": {
      "text/plain": [
       "# Summer          13.0\n",
       "Gold               3.0\n",
       "Silver             4.0\n",
       "Bronze             6.0\n",
       "Total             12.0\n",
       "# Winter           5.0\n",
       "Gold.1             0.0\n",
       "Silver.1           0.0\n",
       "Bronze.1           0.0\n",
       "Total.1            0.0\n",
       "# Games           15.0\n",
       "Gold.2             3.0\n",
       "Silver.2           4.0\n",
       "Bronze.2           7.0\n",
       "Combined total    12.0\n",
       "dtype: float64"
      ]
     },
     "execution_count": 37,
     "metadata": {},
     "output_type": "execute_result"
    }
   ],
   "source": [
    "df.median()"
   ]
  },
  {
   "cell_type": "code",
   "execution_count": 38,
   "id": "cdd0b71c",
   "metadata": {},
   "outputs": [],
   "source": [
    "# Filling with median\n",
    "gold_fillna_median= gold.fillna(df.median())"
   ]
  },
  {
   "cell_type": "code",
   "execution_count": 40,
   "id": "a6fb2cb4",
   "metadata": {},
   "outputs": [
    {
     "data": {
      "text/html": [
       "<div>\n",
       "<style scoped>\n",
       "    .dataframe tbody tr th:only-of-type {\n",
       "        vertical-align: middle;\n",
       "    }\n",
       "\n",
       "    .dataframe tbody tr th {\n",
       "        vertical-align: top;\n",
       "    }\n",
       "\n",
       "    .dataframe thead th {\n",
       "        text-align: right;\n",
       "    }\n",
       "</style>\n",
       "<table border=\"1\" class=\"dataframe\">\n",
       "  <thead>\n",
       "    <tr style=\"text-align: right;\">\n",
       "      <th></th>\n",
       "      <th># Summer</th>\n",
       "      <th>Gold</th>\n",
       "      <th>Silver</th>\n",
       "      <th>Bronze</th>\n",
       "      <th>Total</th>\n",
       "      <th># Winter</th>\n",
       "      <th>Gold.1</th>\n",
       "      <th>Silver.1</th>\n",
       "      <th>Bronze.1</th>\n",
       "      <th>Total.1</th>\n",
       "      <th># Games</th>\n",
       "      <th>Gold.2</th>\n",
       "      <th>Silver.2</th>\n",
       "      <th>Bronze.2</th>\n",
       "      <th>Combined total</th>\n",
       "    </tr>\n",
       "  </thead>\n",
       "  <tbody>\n",
       "    <tr>\n",
       "      <th>Afghanistan (AFG)</th>\n",
       "      <td>13.0</td>\n",
       "      <td>3.0</td>\n",
       "      <td>4.0</td>\n",
       "      <td>6.0</td>\n",
       "      <td>12.0</td>\n",
       "      <td>5.0</td>\n",
       "      <td>0.0</td>\n",
       "      <td>0.0</td>\n",
       "      <td>0.0</td>\n",
       "      <td>0.0</td>\n",
       "      <td>15.0</td>\n",
       "      <td>3.0</td>\n",
       "      <td>4.0</td>\n",
       "      <td>7.0</td>\n",
       "      <td>12.0</td>\n",
       "    </tr>\n",
       "    <tr>\n",
       "      <th>Algeria (ALG)</th>\n",
       "      <td>12.0</td>\n",
       "      <td>5.0</td>\n",
       "      <td>2.0</td>\n",
       "      <td>8.0</td>\n",
       "      <td>15.0</td>\n",
       "      <td>3.0</td>\n",
       "      <td>0.0</td>\n",
       "      <td>0.0</td>\n",
       "      <td>0.0</td>\n",
       "      <td>0.0</td>\n",
       "      <td>15.0</td>\n",
       "      <td>5.0</td>\n",
       "      <td>2.0</td>\n",
       "      <td>8.0</td>\n",
       "      <td>15.0</td>\n",
       "    </tr>\n",
       "    <tr>\n",
       "      <th>Argentina (ARG)</th>\n",
       "      <td>23.0</td>\n",
       "      <td>18.0</td>\n",
       "      <td>24.0</td>\n",
       "      <td>28.0</td>\n",
       "      <td>70.0</td>\n",
       "      <td>18.0</td>\n",
       "      <td>0.0</td>\n",
       "      <td>0.0</td>\n",
       "      <td>0.0</td>\n",
       "      <td>0.0</td>\n",
       "      <td>41.0</td>\n",
       "      <td>18.0</td>\n",
       "      <td>24.0</td>\n",
       "      <td>28.0</td>\n",
       "      <td>70.0</td>\n",
       "    </tr>\n",
       "    <tr>\n",
       "      <th>Armenia (ARM)</th>\n",
       "      <td>5.0</td>\n",
       "      <td>1.0</td>\n",
       "      <td>2.0</td>\n",
       "      <td>9.0</td>\n",
       "      <td>12.0</td>\n",
       "      <td>6.0</td>\n",
       "      <td>0.0</td>\n",
       "      <td>0.0</td>\n",
       "      <td>0.0</td>\n",
       "      <td>0.0</td>\n",
       "      <td>11.0</td>\n",
       "      <td>1.0</td>\n",
       "      <td>2.0</td>\n",
       "      <td>9.0</td>\n",
       "      <td>12.0</td>\n",
       "    </tr>\n",
       "    <tr>\n",
       "      <th>Australasia (ANZ) [ANZ]</th>\n",
       "      <td>2.0</td>\n",
       "      <td>3.0</td>\n",
       "      <td>4.0</td>\n",
       "      <td>5.0</td>\n",
       "      <td>12.0</td>\n",
       "      <td>0.0</td>\n",
       "      <td>0.0</td>\n",
       "      <td>0.0</td>\n",
       "      <td>0.0</td>\n",
       "      <td>0.0</td>\n",
       "      <td>2.0</td>\n",
       "      <td>3.0</td>\n",
       "      <td>4.0</td>\n",
       "      <td>5.0</td>\n",
       "      <td>12.0</td>\n",
       "    </tr>\n",
       "  </tbody>\n",
       "</table>\n",
       "</div>"
      ],
      "text/plain": [
       "                         # Summer  Gold  Silver  Bronze  Total  # Winter  \\\n",
       "Afghanistan (AFG)            13.0   3.0     4.0     6.0   12.0       5.0   \n",
       "Algeria (ALG)                12.0   5.0     2.0     8.0   15.0       3.0   \n",
       "Argentina (ARG)              23.0  18.0    24.0    28.0   70.0      18.0   \n",
       "Armenia (ARM)                 5.0   1.0     2.0     9.0   12.0       6.0   \n",
       "Australasia (ANZ) [ANZ]       2.0   3.0     4.0     5.0   12.0       0.0   \n",
       "\n",
       "                         Gold.1  Silver.1  Bronze.1  Total.1  # Games  Gold.2  \\\n",
       "Afghanistan (AFG)           0.0       0.0       0.0      0.0     15.0     3.0   \n",
       "Algeria (ALG)               0.0       0.0       0.0      0.0     15.0     5.0   \n",
       "Argentina (ARG)             0.0       0.0       0.0      0.0     41.0    18.0   \n",
       "Armenia (ARM)               0.0       0.0       0.0      0.0     11.0     1.0   \n",
       "Australasia (ANZ) [ANZ]     0.0       0.0       0.0      0.0      2.0     3.0   \n",
       "\n",
       "                         Silver.2  Bronze.2  Combined total  \n",
       "Afghanistan (AFG)             4.0       7.0            12.0  \n",
       "Algeria (ALG)                 2.0       8.0            15.0  \n",
       "Argentina (ARG)              24.0      28.0            70.0  \n",
       "Armenia (ARM)                 2.0       9.0            12.0  \n",
       "Australasia (ANZ) [ANZ]       4.0       5.0            12.0  "
      ]
     },
     "execution_count": 40,
     "metadata": {},
     "output_type": "execute_result"
    }
   ],
   "source": [
    "gold_fillna_median.head()"
   ]
  },
  {
   "cell_type": "code",
   "execution_count": 41,
   "id": "f9857f07",
   "metadata": {},
   "outputs": [
    {
     "data": {
      "text/html": [
       "<div>\n",
       "<style scoped>\n",
       "    .dataframe tbody tr th:only-of-type {\n",
       "        vertical-align: middle;\n",
       "    }\n",
       "\n",
       "    .dataframe tbody tr th {\n",
       "        vertical-align: top;\n",
       "    }\n",
       "\n",
       "    .dataframe thead th {\n",
       "        text-align: right;\n",
       "    }\n",
       "</style>\n",
       "<table border=\"1\" class=\"dataframe\">\n",
       "  <thead>\n",
       "    <tr style=\"text-align: right;\">\n",
       "      <th></th>\n",
       "      <th># Summer</th>\n",
       "      <th>Gold</th>\n",
       "      <th>Silver</th>\n",
       "      <th>Bronze</th>\n",
       "      <th>Total</th>\n",
       "      <th># Winter</th>\n",
       "      <th>Gold.1</th>\n",
       "      <th>Silver.1</th>\n",
       "      <th>Bronze.1</th>\n",
       "      <th>Total.1</th>\n",
       "      <th># Games</th>\n",
       "      <th>Gold.2</th>\n",
       "      <th>Silver.2</th>\n",
       "      <th>Bronze.2</th>\n",
       "      <th>Combined total</th>\n",
       "    </tr>\n",
       "  </thead>\n",
       "  <tbody>\n",
       "    <tr>\n",
       "      <th>0</th>\n",
       "      <td>5</td>\n",
       "      <td>0</td>\n",
       "      <td>1</td>\n",
       "      <td>0</td>\n",
       "      <td>1</td>\n",
       "      <td>0</td>\n",
       "      <td>0</td>\n",
       "      <td>0</td>\n",
       "      <td>0</td>\n",
       "      <td>0</td>\n",
       "      <td>11</td>\n",
       "      <td>0</td>\n",
       "      <td>1</td>\n",
       "      <td>0</td>\n",
       "      <td>1</td>\n",
       "    </tr>\n",
       "  </tbody>\n",
       "</table>\n",
       "</div>"
      ],
      "text/plain": [
       "   # Summer  Gold  Silver  Bronze  Total  # Winter  Gold.1  Silver.1  \\\n",
       "0         5     0       1       0      1         0       0         0   \n",
       "\n",
       "   Bronze.1  Total.1  # Games  Gold.2  Silver.2  Bronze.2  Combined total  \n",
       "0         0        0       11       0         1         0               1  "
      ]
     },
     "execution_count": 41,
     "metadata": {},
     "output_type": "execute_result"
    }
   ],
   "source": [
    "df.mode()"
   ]
  },
  {
   "cell_type": "code",
   "execution_count": 42,
   "id": "b373010a",
   "metadata": {},
   "outputs": [],
   "source": [
    "# Filling with mode\n",
    "gold_fillna_mode= gold.fillna(df.mode())"
   ]
  },
  {
   "cell_type": "code",
   "execution_count": 45,
   "id": "b24e2117",
   "metadata": {},
   "outputs": [
    {
     "data": {
      "text/html": [
       "<div>\n",
       "<style scoped>\n",
       "    .dataframe tbody tr th:only-of-type {\n",
       "        vertical-align: middle;\n",
       "    }\n",
       "\n",
       "    .dataframe tbody tr th {\n",
       "        vertical-align: top;\n",
       "    }\n",
       "\n",
       "    .dataframe thead th {\n",
       "        text-align: right;\n",
       "    }\n",
       "</style>\n",
       "<table border=\"1\" class=\"dataframe\">\n",
       "  <thead>\n",
       "    <tr style=\"text-align: right;\">\n",
       "      <th></th>\n",
       "      <th># Summer</th>\n",
       "      <th>Gold</th>\n",
       "      <th>Silver</th>\n",
       "      <th>Bronze</th>\n",
       "      <th>Total</th>\n",
       "      <th># Winter</th>\n",
       "      <th>Gold.1</th>\n",
       "      <th>Silver.1</th>\n",
       "      <th>Bronze.1</th>\n",
       "      <th>Total.1</th>\n",
       "      <th># Games</th>\n",
       "      <th>Gold.2</th>\n",
       "      <th>Silver.2</th>\n",
       "      <th>Bronze.2</th>\n",
       "      <th>Combined total</th>\n",
       "    </tr>\n",
       "  </thead>\n",
       "  <tbody>\n",
       "    <tr>\n",
       "      <th>Afghanistan (AFG)</th>\n",
       "      <td>NaN</td>\n",
       "      <td>NaN</td>\n",
       "      <td>NaN</td>\n",
       "      <td>NaN</td>\n",
       "      <td>NaN</td>\n",
       "      <td>NaN</td>\n",
       "      <td>NaN</td>\n",
       "      <td>NaN</td>\n",
       "      <td>NaN</td>\n",
       "      <td>NaN</td>\n",
       "      <td>NaN</td>\n",
       "      <td>NaN</td>\n",
       "      <td>NaN</td>\n",
       "      <td>NaN</td>\n",
       "      <td>NaN</td>\n",
       "    </tr>\n",
       "    <tr>\n",
       "      <th>Algeria (ALG)</th>\n",
       "      <td>12.0</td>\n",
       "      <td>5.0</td>\n",
       "      <td>2.0</td>\n",
       "      <td>8.0</td>\n",
       "      <td>15.0</td>\n",
       "      <td>3.0</td>\n",
       "      <td>0.0</td>\n",
       "      <td>0.0</td>\n",
       "      <td>0.0</td>\n",
       "      <td>0.0</td>\n",
       "      <td>15.0</td>\n",
       "      <td>5.0</td>\n",
       "      <td>2.0</td>\n",
       "      <td>8.0</td>\n",
       "      <td>15.0</td>\n",
       "    </tr>\n",
       "    <tr>\n",
       "      <th>Argentina (ARG)</th>\n",
       "      <td>23.0</td>\n",
       "      <td>18.0</td>\n",
       "      <td>24.0</td>\n",
       "      <td>28.0</td>\n",
       "      <td>70.0</td>\n",
       "      <td>18.0</td>\n",
       "      <td>0.0</td>\n",
       "      <td>0.0</td>\n",
       "      <td>0.0</td>\n",
       "      <td>0.0</td>\n",
       "      <td>41.0</td>\n",
       "      <td>18.0</td>\n",
       "      <td>24.0</td>\n",
       "      <td>28.0</td>\n",
       "      <td>70.0</td>\n",
       "    </tr>\n",
       "    <tr>\n",
       "      <th>Armenia (ARM)</th>\n",
       "      <td>5.0</td>\n",
       "      <td>1.0</td>\n",
       "      <td>2.0</td>\n",
       "      <td>9.0</td>\n",
       "      <td>12.0</td>\n",
       "      <td>6.0</td>\n",
       "      <td>0.0</td>\n",
       "      <td>0.0</td>\n",
       "      <td>0.0</td>\n",
       "      <td>0.0</td>\n",
       "      <td>11.0</td>\n",
       "      <td>1.0</td>\n",
       "      <td>2.0</td>\n",
       "      <td>9.0</td>\n",
       "      <td>12.0</td>\n",
       "    </tr>\n",
       "    <tr>\n",
       "      <th>Australasia (ANZ) [ANZ]</th>\n",
       "      <td>2.0</td>\n",
       "      <td>3.0</td>\n",
       "      <td>4.0</td>\n",
       "      <td>5.0</td>\n",
       "      <td>12.0</td>\n",
       "      <td>0.0</td>\n",
       "      <td>0.0</td>\n",
       "      <td>0.0</td>\n",
       "      <td>0.0</td>\n",
       "      <td>0.0</td>\n",
       "      <td>2.0</td>\n",
       "      <td>3.0</td>\n",
       "      <td>4.0</td>\n",
       "      <td>5.0</td>\n",
       "      <td>12.0</td>\n",
       "    </tr>\n",
       "  </tbody>\n",
       "</table>\n",
       "</div>"
      ],
      "text/plain": [
       "                         # Summer  Gold  Silver  Bronze  Total  # Winter  \\\n",
       "Afghanistan (AFG)             NaN   NaN     NaN     NaN    NaN       NaN   \n",
       "Algeria (ALG)                12.0   5.0     2.0     8.0   15.0       3.0   \n",
       "Argentina (ARG)              23.0  18.0    24.0    28.0   70.0      18.0   \n",
       "Armenia (ARM)                 5.0   1.0     2.0     9.0   12.0       6.0   \n",
       "Australasia (ANZ) [ANZ]       2.0   3.0     4.0     5.0   12.0       0.0   \n",
       "\n",
       "                         Gold.1  Silver.1  Bronze.1  Total.1  # Games  Gold.2  \\\n",
       "Afghanistan (AFG)           NaN       NaN       NaN      NaN      NaN     NaN   \n",
       "Algeria (ALG)               0.0       0.0       0.0      0.0     15.0     5.0   \n",
       "Argentina (ARG)             0.0       0.0       0.0      0.0     41.0    18.0   \n",
       "Armenia (ARM)               0.0       0.0       0.0      0.0     11.0     1.0   \n",
       "Australasia (ANZ) [ANZ]     0.0       0.0       0.0      0.0      2.0     3.0   \n",
       "\n",
       "                         Silver.2  Bronze.2  Combined total  \n",
       "Afghanistan (AFG)             NaN       NaN             NaN  \n",
       "Algeria (ALG)                 2.0       8.0            15.0  \n",
       "Argentina (ARG)              24.0      28.0            70.0  \n",
       "Armenia (ARM)                 2.0       9.0            12.0  \n",
       "Australasia (ANZ) [ANZ]       4.0       5.0            12.0  "
      ]
     },
     "execution_count": 45,
     "metadata": {},
     "output_type": "execute_result"
    }
   ],
   "source": [
    "gold_fillna_mode.head()"
   ]
  },
  {
   "cell_type": "markdown",
   "id": "4fac38a9",
   "metadata": {},
   "source": [
    "## Python programming: Object Oriented Programming (OOP)\n",
    "    \n",
    "How to define a class"
   ]
  },
  {
   "cell_type": "code",
   "execution_count": 46,
   "id": "d4d5f0cb",
   "metadata": {},
   "outputs": [],
   "source": [
    "class Employee:\n",
    "    pass"
   ]
  },
  {
   "cell_type": "code",
   "execution_count": 51,
   "id": "1087a58b",
   "metadata": {},
   "outputs": [],
   "source": [
    "class Employee:\n",
    "    def __init__(self, name, age):\n",
    "        self.name = name\n",
    "        self.age= age"
   ]
  },
  {
   "cell_type": "code",
   "execution_count": 52,
   "id": "aa82f6d8",
   "metadata": {},
   "outputs": [],
   "source": [
    "employee1 = Employee('John Doe', 27)"
   ]
  },
  {
   "cell_type": "code",
   "execution_count": 53,
   "id": "e5af2afb",
   "metadata": {},
   "outputs": [
    {
     "data": {
      "text/plain": [
       "'John Doe'"
      ]
     },
     "execution_count": 53,
     "metadata": {},
     "output_type": "execute_result"
    }
   ],
   "source": [
    "employee1.name"
   ]
  },
  {
   "cell_type": "code",
   "execution_count": 54,
   "id": "4f8ae98c",
   "metadata": {},
   "outputs": [
    {
     "data": {
      "text/plain": [
       "27"
      ]
     },
     "execution_count": 54,
     "metadata": {},
     "output_type": "execute_result"
    }
   ],
   "source": [
    "employee1.age"
   ]
  },
  {
   "cell_type": "code",
   "execution_count": 108,
   "id": "e15f2257",
   "metadata": {},
   "outputs": [],
   "source": [
    "class Employee:\n",
    "    def __init__(self, name, age, department):\n",
    "        self.name = name\n",
    "        self.age= age\n",
    "        self.department = department\n",
    "        \n",
    "    #instance method\n",
    "    def office(self):\n",
    "        return f\" {self.name} works in the {self.department} department \"\n",
    "    def description(self):\n",
    "         return f\" {self.name} is {self.age} years old\"\n",
    "    def detail(self):\n",
    "         return f\" {self.name} is {self.age} years old and in {self.department} department \""
   ]
  },
  {
   "cell_type": "code",
   "execution_count": 109,
   "id": "27527fcc",
   "metadata": {},
   "outputs": [],
   "source": [
    "employee1 = Employee(\"John Doe\", 34, \"Engineering\")\n",
    "employee2 = Employee(\"Joseph Matthew\", 40, \"Marketing\")\n",
    "employee3 = Employee(\"Luke Jesus\", 53, \"Finance\")"
   ]
  },
  {
   "cell_type": "code",
   "execution_count": 110,
   "id": "eab12a5e",
   "metadata": {},
   "outputs": [
    {
     "data": {
      "text/plain": [
       "' John Doe works in the Engineering department '"
      ]
     },
     "execution_count": 110,
     "metadata": {},
     "output_type": "execute_result"
    }
   ],
   "source": [
    "employee1.office()"
   ]
  },
  {
   "cell_type": "code",
   "execution_count": 111,
   "id": "7651ba69",
   "metadata": {},
   "outputs": [
    {
     "data": {
      "text/plain": [
       "34"
      ]
     },
     "execution_count": 111,
     "metadata": {},
     "output_type": "execute_result"
    }
   ],
   "source": [
    "employee1.age"
   ]
  },
  {
   "cell_type": "code",
   "execution_count": 112,
   "id": "e17cb330",
   "metadata": {},
   "outputs": [
    {
     "data": {
      "text/plain": [
       "' Joseph Matthew is 40 years old'"
      ]
     },
     "execution_count": 112,
     "metadata": {},
     "output_type": "execute_result"
    }
   ],
   "source": [
    "employee2.description()"
   ]
  },
  {
   "cell_type": "code",
   "execution_count": 113,
   "id": "65d8849d",
   "metadata": {},
   "outputs": [
    {
     "data": {
      "text/plain": [
       "' Luke Jesus is 53 years old'"
      ]
     },
     "execution_count": 113,
     "metadata": {},
     "output_type": "execute_result"
    }
   ],
   "source": [
    "employee3.description()"
   ]
  },
  {
   "cell_type": "code",
   "execution_count": 114,
   "id": "665962a4",
   "metadata": {},
   "outputs": [
    {
     "data": {
      "text/plain": [
       "' Luke Jesus is 53 years old and in Finance department '"
      ]
     },
     "execution_count": 114,
     "metadata": {},
     "output_type": "execute_result"
    }
   ],
   "source": [
    "employee3.detail()"
   ]
  },
  {
   "cell_type": "markdown",
   "id": "92c4cd8e",
   "metadata": {},
   "source": [
    "## Parent class and child class: Inheritance"
   ]
  },
  {
   "cell_type": "code",
   "execution_count": 71,
   "id": "27b45c01",
   "metadata": {},
   "outputs": [],
   "source": [
    "class Salary(Employee):   # can inherit properties and methods\n",
    "    pass"
   ]
  },
  {
   "cell_type": "code",
   "execution_count": 74,
   "id": "1d081684",
   "metadata": {},
   "outputs": [],
   "source": [
    "employeeOneSalary= Salary(\"Elon Musk\", 55, \"Engineering\")"
   ]
  },
  {
   "cell_type": "code",
   "execution_count": 75,
   "id": "3f968727",
   "metadata": {},
   "outputs": [
    {
     "data": {
      "text/plain": [
       "' Elon Musk works in the Engineering department '"
      ]
     },
     "execution_count": 75,
     "metadata": {},
     "output_type": "execute_result"
    }
   ],
   "source": [
    "employeeOneSalary.office()"
   ]
  },
  {
   "cell_type": "code",
   "execution_count": 76,
   "id": "73ec3577",
   "metadata": {},
   "outputs": [
    {
     "data": {
      "text/plain": [
       "'Elon Musk'"
      ]
     },
     "execution_count": 76,
     "metadata": {},
     "output_type": "execute_result"
    }
   ],
   "source": [
    "employeeOneSalary.name"
   ]
  },
  {
   "cell_type": "code",
   "execution_count": 121,
   "id": "ecdca380",
   "metadata": {},
   "outputs": [],
   "source": [
    "class Employee:\n",
    "    def __init__(self, name, age, department, language):\n",
    "        self.name = name\n",
    "        self.age= age\n",
    "        self.department = department\n",
    "        self.language = language\n",
    "        \n",
    "    #instance method\n",
    "    def office(self):\n",
    "        return f\" {self.name} works in the {self.department} department \"\n",
    "    def description(self):\n",
    "         return f\" {self.name} is {self.age} years old\"\n",
    "    "
   ]
  },
  {
   "cell_type": "code",
   "execution_count": 122,
   "id": "787a2be0",
   "metadata": {},
   "outputs": [],
   "source": [
    "class Salary(Employee): \n",
    "    def speak(self):\n",
    "        return f\" {self.name} speaks {self.language} language \""
   ]
  },
  {
   "cell_type": "code",
   "execution_count": 123,
   "id": "7a65c136",
   "metadata": {},
   "outputs": [],
   "source": [
    "employeeOneSalary= Salary(\"John Doe\", 55, \"Engineering\", \"English\")"
   ]
  },
  {
   "cell_type": "code",
   "execution_count": 124,
   "id": "2f20a454",
   "metadata": {},
   "outputs": [
    {
     "data": {
      "text/plain": [
       "' John Doe speaks English language '"
      ]
     },
     "execution_count": 124,
     "metadata": {},
     "output_type": "execute_result"
    }
   ],
   "source": [
    "employeeOneSalary.speak()"
   ]
  },
  {
   "cell_type": "code",
   "execution_count": 88,
   "id": "f1cb6d0a",
   "metadata": {},
   "outputs": [],
   "source": [
    "employeeTwoSalary= Employee(\"John Doe\", 55, \"Engineering\", \"English\")"
   ]
  },
  {
   "cell_type": "code",
   "execution_count": null,
   "id": "a3580649",
   "metadata": {},
   "outputs": [],
   "source": [
    "employeeTwoSalary() #Can't work "
   ]
  },
  {
   "cell_type": "markdown",
   "id": "ad1b8635",
   "metadata": {},
   "source": [
    "## DATA ANALYSIS"
   ]
  },
  {
   "cell_type": "markdown",
   "id": "afdbf7c9",
   "metadata": {},
   "source": [
    "### Machine Learning"
   ]
  },
  {
   "cell_type": "code",
   "execution_count": 141,
   "id": "5b0d2e7e",
   "metadata": {},
   "outputs": [],
   "source": [
    "from sklearn.datasets import make_classification, make_blobs\n",
    "import matplotlib.pyplot as plt"
   ]
  },
  {
   "cell_type": "code",
   "execution_count": 142,
   "id": "608f2c2f",
   "metadata": {},
   "outputs": [],
   "source": [
    "# synthetic dataset for simple regression\n",
    "from sklearn.datasets import make_regression"
   ]
  },
  {
   "cell_type": "code",
   "execution_count": 148,
   "id": "a567868c",
   "metadata": {},
   "outputs": [],
   "source": [
    "#make_regression(n_samples= 100, n_features=1)"
   ]
  },
  {
   "cell_type": "code",
   "execution_count": 156,
   "id": "98edc171",
   "metadata": {},
   "outputs": [
    {
     "data": {
      "image/png": "[encoded data removed]",
      "text/plain": [
       "<Figure size 432x288 with 1 Axes>"
      ]
     },
     "metadata": {
      "needs_background": "light"
     },
     "output_type": "display_data"
    }
   ],
   "source": [
    "plt.figure()\n",
    "plt.title('Sample regression problem with one input variable')\n",
    "X_R1, y_R1 = make_regression(n_samples = 100, n_features= 1,\n",
    "                            n_informative=1, bias = 150.0,\n",
    "                            noise = 30, random_state=0)\n",
    "plt.scatter(X_R1, y_R1, marker= 'o', s=50)\n",
    "plt.show()"
   ]
  },
  {
   "cell_type": "markdown",
   "id": "3e01f942",
   "metadata": {},
   "source": [
    "### Linear regression"
   ]
  },
  {
   "cell_type": "code",
   "execution_count": 158,
   "id": "91519abd",
   "metadata": {},
   "outputs": [],
   "source": [
    "from sklearn.linear_model import LinearRegression\n",
    "from sklearn.model_selection import train_test_split"
   ]
  },
  {
   "cell_type": "code",
   "execution_count": 161,
   "id": "0d3287d7",
   "metadata": {},
   "outputs": [],
   "source": [
    "X_train, X_test, y_train, y_test = train_test_split(X_R1,y_R1,\n",
    "                                                   random_state = 0)\n",
    "#X_train"
   ]
  },
  {
   "cell_type": "code",
   "execution_count": 160,
   "id": "71005503",
   "metadata": {},
   "outputs": [],
   "source": [
    "linreg = LinearRegression().fit(X_train, y_train)"
   ]
  },
  {
   "cell_type": "code",
   "execution_count": 168,
   "id": "cfd810f7",
   "metadata": {},
   "outputs": [],
   "source": [
    "#linreg = LinearRegression?"
   ]
  },
  {
   "cell_type": "code",
   "execution_count": null,
   "id": "a3be47a0",
   "metadata": {},
   "outputs": [],
   "source": [
    "linreg = LinearRegression"
   ]
  },
  {
   "cell_type": "code",
   "execution_count": 163,
   "id": "97f9294f",
   "metadata": {},
   "outputs": [
    {
     "name": "stdout",
     "output_type": "stream",
     "text": [
      "linear model coeff (w): [45.70870465]\n",
      "linear model intercept (b): 148.446\n",
      "R-squared score (training): 0.679\n",
      "R-squared score (test): 0.679\n"
     ]
    }
   ],
   "source": [
    "print('linear model coeff (w): {}'\n",
    "     .format(linreg.coef_))\n",
    "print('linear model intercept (b): {:.3f}'\n",
    "     .format(linreg.intercept_))\n",
    "print('R-squared score (training): {:.3f}'\n",
    "     .format(linreg.score(X_train, y_train)))\n",
    "print('R-squared score (test): {:.3f}'\n",
    "     .format(linreg.score(X_train, y_train)))"
   ]
  },
  {
   "cell_type": "code",
   "execution_count": 289,
   "id": "5e3e42f5",
   "metadata": {},
   "outputs": [],
   "source": [
    "import pandas as pd"
   ]
  },
  {
   "cell_type": "code",
   "execution_count": 287,
   "id": "7aed6ded",
   "metadata": {},
   "outputs": [],
   "source": [
    "dope = pd.read_csv('Veg.csv')"
   ]
  },
  {
   "cell_type": "code",
   "execution_count": 288,
   "id": "367cbbc9",
   "metadata": {},
   "outputs": [],
   "source": [
    "import matplotlib.pyplot as plt"
   ]
  },
  {
   "cell_type": "markdown",
   "id": "c2f81f24",
   "metadata": {},
   "source": [
    "#### BOX PLOT"
   ]
  },
  {
   "cell_type": "code",
   "execution_count": 290,
   "id": "9196d298",
   "metadata": {},
   "outputs": [
    {
     "data": {
      "image/png": "[encoded data removed]",
      "text/plain": [
       "<Figure size 432x288 with 1 Axes>"
      ]
     },
     "metadata": {
      "needs_background": "light"
     },
     "output_type": "display_data"
    }
   ],
   "source": [
    "import seaborn as sns\n",
    "\n",
    "sns.boxplot(data=data, x= 'Price_tk', y='Season', width=0.5)\n",
    "plt.title('Boxplot for Price of Seasonal Vegetable', fontsize=16)\n",
    "plt.show()"
   ]
  },
  {
   "cell_type": "markdown",
   "id": "0c541659",
   "metadata": {},
   "source": [
    "#### Distribution Plot"
   ]
  },
  {
   "cell_type": "code",
   "execution_count": 291,
   "id": "511ea597",
   "metadata": {},
   "outputs": [
    {
     "data": {
      "image/png": "[encoded data removed]",
      "text/plain": [
       "<Figure size 360x360 with 1 Axes>"
      ]
     },
     "metadata": {
      "needs_background": "light"
     },
     "output_type": "display_data"
    }
   ],
   "source": [
    "import matplotlib.pyplot as plt\n",
    "import seaborn as sns\n",
    "\n",
    "sns.displot(data, x='Price_tk', kind='kde')\n",
    "plt.title('Distribution of Price of Vegetables', fontsize=16)\n",
    "plt.show()"
   ]
  },
  {
   "cell_type": "markdown",
   "id": "70df8abe",
   "metadata": {},
   "source": [
    "#### Exploded Pie Chart"
   ]
  },
  {
   "cell_type": "code",
   "execution_count": 292,
   "id": "6ba9e886",
   "metadata": {},
   "outputs": [
    {
     "data": {
      "image/png": "[encoded data removed]",
      "text/plain": [
       "<Figure size 432x288 with 1 Axes>"
      ]
     },
     "metadata": {},
     "output_type": "display_data"
    }
   ],
   "source": [
    "import matplotlib.pyplot as plt\n",
    "import seaborn as sns\n",
    "\n",
    "#define data\n",
    "x = data['Season'].value_counts()\n",
    "labels = data['Season'].value_counts().index\n",
    "myexplode = [0, 0, 0.2]\n",
    "\n",
    "#define Seaborn color plette to use\n",
    "colors = sns.color_palette('bright')[0:3]\n",
    "\n",
    "#create pie chart\n",
    "plt.pie(x, labels = labels, explode=myexplode, colors = colors, autopct= '%.0f%%')\n",
    "plt.title('Exploded Pie Chart for Seasonal Vegetable', fontsize=16)\n",
    "plt.show()"
   ]
  },
  {
   "cell_type": "markdown",
   "id": "c452d45c",
   "metadata": {},
   "source": [
    "#### Pie Chart"
   ]
  },
  {
   "cell_type": "code",
   "execution_count": 293,
   "id": "5be91a41",
   "metadata": {},
   "outputs": [
    {
     "data": {
      "image/png": "[encoded data removed]",
      "text/plain": [
       "<Figure size 432x288 with 1 Axes>"
      ]
     },
     "metadata": {},
     "output_type": "display_data"
    }
   ],
   "source": [
    "import matplotlib.pyplot as plt\n",
    "import seaborn as sns\n",
    "\n",
    "#define data\n",
    "x = data['Season'].value_counts()\n",
    "labels = data['Season'].value_counts().index\n",
    "\n",
    "#define Seaborn color plette to use\n",
    "colors = sns.color_palette('bright')[0:3]\n",
    "\n",
    "#create pie chart\n",
    "plt.pie(x, labels = labels, colors = colors, autopct= '%.0f%%')\n",
    "plt.title('Pie Chart for Seasonal Vegetable', fontsize=16)\n",
    "plt.show()"
   ]
  },
  {
   "cell_type": "markdown",
   "id": "4b9c96db",
   "metadata": {},
   "source": [
    "#### Histogram"
   ]
  },
  {
   "cell_type": "code",
   "execution_count": 294,
   "id": "8a00f249",
   "metadata": {},
   "outputs": [
    {
     "data": {
      "image/png": "[encoded data removed]",
      "text/plain": [
       "<Figure size 576x360 with 1 Axes>"
      ]
     },
     "metadata": {
      "needs_background": "light"
     },
     "output_type": "display_data"
    }
   ],
   "source": [
    "import matplotlib.pyplot as plt\n",
    "plt.figure(figsize =(8,5))\n",
    "plt.hist(data['Price_tk'], color='#066471')\n",
    "plt.xlabel('Price Interval')\n",
    "plt.ylabel('Frequency')\n",
    "plt.title('Histogram for Price')\n",
    "plt.show()"
   ]
  },
  {
   "cell_type": "markdown",
   "id": "15065047",
   "metadata": {},
   "source": [
    "#### Bar Chart"
   ]
  },
  {
   "cell_type": "code",
   "execution_count": 295,
   "id": "acb25cd5",
   "metadata": {},
   "outputs": [
    {
     "data": {
      "image/png": "[encoded data removed]",
      "text/plain": [
       "<Figure size 576x360 with 1 Axes>"
      ]
     },
     "metadata": {
      "needs_background": "light"
     },
     "output_type": "display_data"
    }
   ],
   "source": [
    "import matplotlib.pyplot as plt\n",
    "x=data ['Season']. value_counts().index\n",
    "y=data ['Season']. value_counts()\n",
    "plt.figure(figsize =(8,5))\n",
    "plt.bar(x,y, color='#066471', width=0.5)\n",
    "plt.xlabel('Seasons')\n",
    "plt.ylabel('Frequency')\n",
    "plt.title('Bar Plot for Season')\n",
    "plt.show()"
   ]
  },
  {
   "cell_type": "markdown",
   "id": "67c10608",
   "metadata": {},
   "source": [
    "#### Line Plot"
   ]
  },
  {
   "cell_type": "code",
   "execution_count": 296,
   "id": "421fc4d5",
   "metadata": {},
   "outputs": [
    {
     "data": {
      "image/png": "[encoded data removed]",
      "text/plain": [
       "<Figure size 504x360 with 1 Axes>"
      ]
     },
     "metadata": {
      "needs_background": "light"
     },
     "output_type": "display_data"
    }
   ],
   "source": [
    "import matplotlib.pyplot as plt\n",
    "plt.figure(figsize =(7,5))\n",
    "plt.plot(data['Price_tk'])\n",
    "plt.xlabel('No. of Data Points')\n",
    "plt.ylabel('Weight (gm)')\n",
    "plt.title('Line Plot for Price')\n",
    "plt.show()"
   ]
  },
  {
   "cell_type": "markdown",
   "id": "fd8f7dd9",
   "metadata": {},
   "source": [
    "#### Scatter Plot"
   ]
  },
  {
   "cell_type": "code",
   "execution_count": 297,
   "id": "203c94be",
   "metadata": {},
   "outputs": [
    {
     "data": {
      "image/png": "[encoded data removed]",
      "text/plain": [
       "<Figure size 504x360 with 1 Axes>"
      ]
     },
     "metadata": {
      "needs_background": "light"
     },
     "output_type": "display_data"
    }
   ],
   "source": [
    "import matplotlib.pyplot as plt\n",
    "plt.figure(figsize =(7,5))\n",
    "plt.scatter(data['Price_tk'], data['Weight_gm'])\n",
    "plt.xlabel('Price (tk)')\n",
    "plt.ylabel('Weight (gm)')\n",
    "plt.title('Scatter Plot Price vs Weight')\n",
    "plt.show()"
   ]
  },
  {
   "cell_type": "markdown",
   "id": "a3edb526",
   "metadata": {},
   "source": [
    "##### Continuation"
   ]
  },
  {
   "cell_type": "code",
   "execution_count": 172,
   "id": "441572bf",
   "metadata": {},
   "outputs": [
    {
     "data": {
      "image/png": "[encoded data removed]",
      "text/plain": [
       "<Figure size 360x288 with 1 Axes>"
      ]
     },
     "metadata": {
      "needs_background": "light"
     },
     "output_type": "display_data"
    }
   ],
   "source": [
    "plt.figure(figsize=(5,4))\n",
    "plt.scatter(X_R1, y_R1, marker= 'o', s=50, alpha=0.8)\n",
    "plt.plot(X_R1, linreg.coef_* X_R1 + linreg.intercept_, 'r-')\n",
    "plt.title('Least-squares linear regression')\n",
    "plt.xlabel('Feature value (x)')\n",
    "plt.ylabel('Target value (y)')\n",
    "plt.show()"
   ]
  },
  {
   "cell_type": "markdown",
   "id": "0d88700c",
   "metadata": {},
   "source": [
    "### Logistic Regression"
   ]
  },
  {
   "cell_type": "code",
   "execution_count": 173,
   "id": "ca7923ea",
   "metadata": {},
   "outputs": [],
   "source": [
    "from sklearn.datasets import load_breast_cancer"
   ]
  },
  {
   "cell_type": "code",
   "execution_count": 174,
   "id": "5e3053fa",
   "metadata": {},
   "outputs": [],
   "source": [
    "# Breast cancer dataset for classification\n",
    "cancer = load_breast_cancer()\n",
    "(X_cancer, y_cancer) = load_breast_cancer(return_X_y = True)"
   ]
  },
  {
   "cell_type": "code",
   "execution_count": 175,
   "id": "5c68ec77",
   "metadata": {},
   "outputs": [
    {
     "data": {
      "text/plain": [
       "{'data': array([[1.799e+01, 1.038e+01, 1.228e+02, ..., 2.654e-01, 4.601e-01,\n",
       "         1.189e-01],\n",
       "        [2.057e+01, 1.777e+01, 1.329e+02, ..., 1.860e-01, 2.750e-01,\n",
       "         8.902e-02],\n",
       "        [1.969e+01, 2.125e+01, 1.300e+02, ..., 2.430e-01, 3.613e-01,\n",
       "         8.758e-02],\n",
       "        ...,\n",
       "        [1.660e+01, 2.808e+01, 1.083e+02, ..., 1.418e-01, 2.218e-01,\n",
       "         7.820e-02],\n",
       "        [2.060e+01, 2.933e+01, 1.401e+02, ..., 2.650e-01, 4.087e-01,\n",
       "         1.240e-01],\n",
       "        [7.760e+00, 2.454e+01, 4.792e+01, ..., 0.000e+00, 2.871e-01,\n",
       "         7.039e-02]]),\n",
       " 'target': array([0, 0, 0, 0, 0, 0, 0, 0, 0, 0, 0, 0, 0, 0, 0, 0, 0, 0, 0, 1, 1, 1,\n",
       "        0, 0, 0, 0, 0, 0, 0, 0, 0, 0, 0, 0, 0, 0, 0, 1, 0, 0, 0, 0, 0, 0,\n",
       "        0, 0, 1, 0, 1, 1, 1, 1, 1, 0, 0, 1, 0, 0, 1, 1, 1, 1, 0, 1, 0, 0,\n",
       "        1, 1, 1, 1, 0, 1, 0, 0, 1, 0, 1, 0, 0, 1, 1, 1, 0, 0, 1, 0, 0, 0,\n",
       "        1, 1, 1, 0, 1, 1, 0, 0, 1, 1, 1, 0, 0, 1, 1, 1, 1, 0, 1, 1, 0, 1,\n",
       "        1, 1, 1, 1, 1, 1, 1, 0, 0, 0, 1, 0, 0, 1, 1, 1, 0, 0, 1, 0, 1, 0,\n",
       "        0, 1, 0, 0, 1, 1, 0, 1, 1, 0, 1, 1, 1, 1, 0, 1, 1, 1, 1, 1, 1, 1,\n",
       "        1, 1, 0, 1, 1, 1, 1, 0, 0, 1, 0, 1, 1, 0, 0, 1, 1, 0, 0, 1, 1, 1,\n",
       "        1, 0, 1, 1, 0, 0, 0, 1, 0, 1, 0, 1, 1, 1, 0, 1, 1, 0, 0, 1, 0, 0,\n",
       "        0, 0, 1, 0, 0, 0, 1, 0, 1, 0, 1, 1, 0, 1, 0, 0, 0, 0, 1, 1, 0, 0,\n",
       "        1, 1, 1, 0, 1, 1, 1, 1, 1, 0, 0, 1, 1, 0, 1, 1, 0, 0, 1, 0, 1, 1,\n",
       "        1, 1, 0, 1, 1, 1, 1, 1, 0, 1, 0, 0, 0, 0, 0, 0, 0, 0, 0, 0, 0, 0,\n",
       "        0, 0, 1, 1, 1, 1, 1, 1, 0, 1, 0, 1, 1, 0, 1, 1, 0, 1, 0, 0, 1, 1,\n",
       "        1, 1, 1, 1, 1, 1, 1, 1, 1, 1, 1, 0, 1, 1, 0, 1, 0, 1, 1, 1, 1, 1,\n",
       "        1, 1, 1, 1, 1, 1, 1, 1, 1, 0, 1, 1, 1, 0, 1, 0, 1, 1, 1, 1, 0, 0,\n",
       "        0, 1, 1, 1, 1, 0, 1, 0, 1, 0, 1, 1, 1, 0, 1, 1, 1, 1, 1, 1, 1, 0,\n",
       "        0, 0, 1, 1, 1, 1, 1, 1, 1, 1, 1, 1, 1, 0, 0, 1, 0, 0, 0, 1, 0, 0,\n",
       "        1, 1, 1, 1, 1, 0, 1, 1, 1, 1, 1, 0, 1, 1, 1, 0, 1, 1, 0, 0, 1, 1,\n",
       "        1, 1, 1, 1, 0, 1, 1, 1, 1, 1, 1, 1, 0, 1, 1, 1, 1, 1, 0, 1, 1, 0,\n",
       "        1, 1, 1, 1, 1, 1, 1, 1, 1, 1, 1, 1, 0, 1, 0, 0, 1, 0, 1, 1, 1, 1,\n",
       "        1, 0, 1, 1, 0, 1, 0, 1, 1, 0, 1, 0, 1, 1, 1, 1, 1, 1, 1, 1, 0, 0,\n",
       "        1, 1, 1, 1, 1, 1, 0, 1, 1, 1, 1, 1, 1, 1, 1, 1, 1, 0, 1, 1, 1, 1,\n",
       "        1, 1, 1, 0, 1, 0, 1, 1, 0, 1, 1, 1, 1, 1, 0, 0, 1, 0, 1, 0, 1, 1,\n",
       "        1, 1, 1, 0, 1, 1, 0, 1, 0, 1, 0, 0, 1, 1, 1, 0, 1, 1, 1, 1, 1, 1,\n",
       "        1, 1, 1, 1, 1, 0, 1, 0, 0, 1, 1, 1, 1, 1, 1, 1, 1, 1, 1, 1, 1, 1,\n",
       "        1, 1, 1, 1, 1, 1, 1, 1, 1, 1, 1, 1, 0, 0, 0, 0, 0, 0, 1]),\n",
       " 'frame': None,\n",
       " 'target_names': array(['malignant', 'benign'], dtype='<U9'),\n",
       " 'DESCR': '.. _breast_cancer_dataset:\\n\\nBreast cancer wisconsin (diagnostic) dataset\\n--------------------------------------------\\n\\n**Data Set Characteristics:**\\n\\n    :Number of Instances: 569\\n\\n    :Number of Attributes: 30 numeric, predictive attributes and the class\\n\\n    :Attribute Information:\\n        - radius (mean of distances from center to points on the perimeter)\\n        - texture (standard deviation of gray-scale values)\\n        - perimeter\\n        - area\\n        - smoothness (local variation in radius lengths)\\n        - compactness (perimeter^2 / area - 1.0)\\n        - concavity (severity of concave portions of the contour)\\n        - concave points (number of concave portions of the contour)\\n        - symmetry\\n        - fractal dimension (\"coastline approximation\" - 1)\\n\\n        The mean, standard error, and \"worst\" or largest (mean of the three\\n        worst/largest values) of these features were computed for each image,\\n        resulting in 30 features.  For instance, field 0 is Mean Radius, field\\n        10 is Radius SE, field 20 is Worst Radius.\\n\\n        - class:\\n                - WDBC-Malignant\\n                - WDBC-Benign\\n\\n    :Summary Statistics:\\n\\n    ===================================== ====== ======\\n                                           Min    Max\\n    ===================================== ====== ======\\n    radius (mean):                        6.981  28.11\\n    texture (mean):                       9.71   39.28\\n    perimeter (mean):                     43.79  188.5\\n    area (mean):                          143.5  2501.0\\n    smoothness (mean):                    0.053  0.163\\n    compactness (mean):                   0.019  0.345\\n    concavity (mean):                     0.0    0.427\\n    concave points (mean):                0.0    0.201\\n    symmetry (mean):                      0.106  0.304\\n    fractal dimension (mean):             0.05   0.097\\n    radius (standard error):              0.112  2.873\\n    texture (standard error):             0.36   4.885\\n    perimeter (standard error):           0.757  21.98\\n    area (standard error):                6.802  542.2\\n    smoothness (standard error):          0.002  0.031\\n    compactness (standard error):         0.002  0.135\\n    concavity (standard error):           0.0    0.396\\n    concave points (standard error):      0.0    0.053\\n    symmetry (standard error):            0.008  0.079\\n    fractal dimension (standard error):   0.001  0.03\\n    radius (worst):                       7.93   36.04\\n    texture (worst):                      12.02  49.54\\n    perimeter (worst):                    50.41  251.2\\n    area (worst):                         185.2  4254.0\\n    smoothness (worst):                   0.071  0.223\\n    compactness (worst):                  0.027  1.058\\n    concavity (worst):                    0.0    1.252\\n    concave points (worst):               0.0    0.291\\n    symmetry (worst):                     0.156  0.664\\n    fractal dimension (worst):            0.055  0.208\\n    ===================================== ====== ======\\n\\n    :Missing Attribute Values: None\\n\\n    :Class Distribution: 212 - Malignant, 357 - Benign\\n\\n    :Creator:  Dr. William H. Wolberg, W. Nick Street, Olvi L. Mangasarian\\n\\n    :Donor: Nick Street\\n\\n    :Date: November, 1995\\n\\nThis is a copy of UCI ML Breast Cancer Wisconsin (Diagnostic) datasets.\\nhttps://goo.gl/U2Uwz2\\n\\nFeatures are computed from a digitized image of a fine needle\\naspirate (FNA) of a breast mass.  They describe\\ncharacteristics of the cell nuclei present in the image.\\n\\nSeparating plane described above was obtained using\\nMultisurface Method-Tree (MSM-T) [K. P. Bennett, \"Decision Tree\\nConstruction Via Linear Programming.\" Proceedings of the 4th\\nMidwest Artificial Intelligence and Cognitive Science Society,\\npp. 97-101, 1992], a classification method which uses linear\\nprogramming to construct a decision tree.  Relevant features\\nwere selected using an exhaustive search in the space of 1-4\\nfeatures and 1-3 separating planes.\\n\\nThe actual linear program used to obtain the separating plane\\nin the 3-dimensional space is that described in:\\n[K. P. Bennett and O. L. Mangasarian: \"Robust Linear\\nProgramming Discrimination of Two Linearly Inseparable Sets\",\\nOptimization Methods and Software 1, 1992, 23-34].\\n\\nThis database is also available through the UW CS ftp server:\\n\\nftp ftp.cs.wisc.edu\\ncd math-prog/cpo-dataset/machine-learn/WDBC/\\n\\n.. topic:: References\\n\\n   - W.N. Street, W.H. Wolberg and O.L. Mangasarian. Nuclear feature extraction \\n     for breast tumor diagnosis. IS&T/SPIE 1993 International Symposium on \\n     Electronic Imaging: Science and Technology, volume 1905, pages 861-870,\\n     San Jose, CA, 1993.\\n   - O.L. Mangasarian, W.N. Street and W.H. Wolberg. Breast cancer diagnosis and \\n     prognosis via linear programming. Operations Research, 43(4), pages 570-577, \\n     July-August 1995.\\n   - W.H. Wolberg, W.N. Street, and O.L. Mangasarian. Machine learning techniques\\n     to diagnose breast cancer from fine-needle aspirates. Cancer Letters 77 (1994) \\n     163-171.',\n",
       " 'feature_names': array(['mean radius', 'mean texture', 'mean perimeter', 'mean area',\n",
       "        'mean smoothness', 'mean compactness', 'mean concavity',\n",
       "        'mean concave points', 'mean symmetry', 'mean fractal dimension',\n",
       "        'radius error', 'texture error', 'perimeter error', 'area error',\n",
       "        'smoothness error', 'compactness error', 'concavity error',\n",
       "        'concave points error', 'symmetry error',\n",
       "        'fractal dimension error', 'worst radius', 'worst texture',\n",
       "        'worst perimeter', 'worst area', 'worst smoothness',\n",
       "        'worst compactness', 'worst concavity', 'worst concave points',\n",
       "        'worst symmetry', 'worst fractal dimension'], dtype='<U23'),\n",
       " 'filename': 'breast_cancer.csv',\n",
       " 'data_module': 'sklearn.datasets.data'}"
      ]
     },
     "execution_count": 175,
     "metadata": {},
     "output_type": "execute_result"
    }
   ],
   "source": [
    "cancer"
   ]
  },
  {
   "cell_type": "code",
   "execution_count": 176,
   "id": "cc762dc7",
   "metadata": {},
   "outputs": [
    {
     "data": {
      "text/plain": [
       "array([0, 0, 0, 0, 0, 0, 0, 0, 0, 0, 0, 0, 0, 0, 0, 0, 0, 0, 0, 1, 1, 1,\n",
       "       0, 0, 0, 0, 0, 0, 0, 0, 0, 0, 0, 0, 0, 0, 0, 1, 0, 0, 0, 0, 0, 0,\n",
       "       0, 0, 1, 0, 1, 1, 1, 1, 1, 0, 0, 1, 0, 0, 1, 1, 1, 1, 0, 1, 0, 0,\n",
       "       1, 1, 1, 1, 0, 1, 0, 0, 1, 0, 1, 0, 0, 1, 1, 1, 0, 0, 1, 0, 0, 0,\n",
       "       1, 1, 1, 0, 1, 1, 0, 0, 1, 1, 1, 0, 0, 1, 1, 1, 1, 0, 1, 1, 0, 1,\n",
       "       1, 1, 1, 1, 1, 1, 1, 0, 0, 0, 1, 0, 0, 1, 1, 1, 0, 0, 1, 0, 1, 0,\n",
       "       0, 1, 0, 0, 1, 1, 0, 1, 1, 0, 1, 1, 1, 1, 0, 1, 1, 1, 1, 1, 1, 1,\n",
       "       1, 1, 0, 1, 1, 1, 1, 0, 0, 1, 0, 1, 1, 0, 0, 1, 1, 0, 0, 1, 1, 1,\n",
       "       1, 0, 1, 1, 0, 0, 0, 1, 0, 1, 0, 1, 1, 1, 0, 1, 1, 0, 0, 1, 0, 0,\n",
       "       0, 0, 1, 0, 0, 0, 1, 0, 1, 0, 1, 1, 0, 1, 0, 0, 0, 0, 1, 1, 0, 0,\n",
       "       1, 1, 1, 0, 1, 1, 1, 1, 1, 0, 0, 1, 1, 0, 1, 1, 0, 0, 1, 0, 1, 1,\n",
       "       1, 1, 0, 1, 1, 1, 1, 1, 0, 1, 0, 0, 0, 0, 0, 0, 0, 0, 0, 0, 0, 0,\n",
       "       0, 0, 1, 1, 1, 1, 1, 1, 0, 1, 0, 1, 1, 0, 1, 1, 0, 1, 0, 0, 1, 1,\n",
       "       1, 1, 1, 1, 1, 1, 1, 1, 1, 1, 1, 0, 1, 1, 0, 1, 0, 1, 1, 1, 1, 1,\n",
       "       1, 1, 1, 1, 1, 1, 1, 1, 1, 0, 1, 1, 1, 0, 1, 0, 1, 1, 1, 1, 0, 0,\n",
       "       0, 1, 1, 1, 1, 0, 1, 0, 1, 0, 1, 1, 1, 0, 1, 1, 1, 1, 1, 1, 1, 0,\n",
       "       0, 0, 1, 1, 1, 1, 1, 1, 1, 1, 1, 1, 1, 0, 0, 1, 0, 0, 0, 1, 0, 0,\n",
       "       1, 1, 1, 1, 1, 0, 1, 1, 1, 1, 1, 0, 1, 1, 1, 0, 1, 1, 0, 0, 1, 1,\n",
       "       1, 1, 1, 1, 0, 1, 1, 1, 1, 1, 1, 1, 0, 1, 1, 1, 1, 1, 0, 1, 1, 0,\n",
       "       1, 1, 1, 1, 1, 1, 1, 1, 1, 1, 1, 1, 0, 1, 0, 0, 1, 0, 1, 1, 1, 1,\n",
       "       1, 0, 1, 1, 0, 1, 0, 1, 1, 0, 1, 0, 1, 1, 1, 1, 1, 1, 1, 1, 0, 0,\n",
       "       1, 1, 1, 1, 1, 1, 0, 1, 1, 1, 1, 1, 1, 1, 1, 1, 1, 0, 1, 1, 1, 1,\n",
       "       1, 1, 1, 0, 1, 0, 1, 1, 0, 1, 1, 1, 1, 1, 0, 0, 1, 0, 1, 0, 1, 1,\n",
       "       1, 1, 1, 0, 1, 1, 0, 1, 0, 1, 0, 0, 1, 1, 1, 0, 1, 1, 1, 1, 1, 1,\n",
       "       1, 1, 1, 1, 1, 0, 1, 0, 0, 1, 1, 1, 1, 1, 1, 1, 1, 1, 1, 1, 1, 1,\n",
       "       1, 1, 1, 1, 1, 1, 1, 1, 1, 1, 1, 1, 0, 0, 0, 0, 0, 0, 1])"
      ]
     },
     "execution_count": 176,
     "metadata": {},
     "output_type": "execute_result"
    }
   ],
   "source": [
    "y_cancer"
   ]
  },
  {
   "cell_type": "code",
   "execution_count": 177,
   "id": "11a6f9fe",
   "metadata": {},
   "outputs": [
    {
     "data": {
      "text/plain": [
       "array([[1.799e+01, 1.038e+01, 1.228e+02, ..., 2.654e-01, 4.601e-01,\n",
       "        1.189e-01],\n",
       "       [2.057e+01, 1.777e+01, 1.329e+02, ..., 1.860e-01, 2.750e-01,\n",
       "        8.902e-02],\n",
       "       [1.969e+01, 2.125e+01, 1.300e+02, ..., 2.430e-01, 3.613e-01,\n",
       "        8.758e-02],\n",
       "       ...,\n",
       "       [1.660e+01, 2.808e+01, 1.083e+02, ..., 1.418e-01, 2.218e-01,\n",
       "        7.820e-02],\n",
       "       [2.060e+01, 2.933e+01, 1.401e+02, ..., 2.650e-01, 4.087e-01,\n",
       "        1.240e-01],\n",
       "       [7.760e+00, 2.454e+01, 4.792e+01, ..., 0.000e+00, 2.871e-01,\n",
       "        7.039e-02]])"
      ]
     },
     "execution_count": 177,
     "metadata": {},
     "output_type": "execute_result"
    }
   ],
   "source": [
    "X_cancer"
   ]
  },
  {
   "cell_type": "code",
   "execution_count": 178,
   "id": "a5cc5cfb",
   "metadata": {},
   "outputs": [],
   "source": [
    "X_train, X_test, y_train, y_test = train_test_split(X_cancer, y_cancer, random_state = 0)"
   ]
  },
  {
   "cell_type": "code",
   "execution_count": 179,
   "id": "f2cbef8d",
   "metadata": {},
   "outputs": [],
   "source": [
    "from sklearn.linear_model import LogisticRegression"
   ]
  },
  {
   "cell_type": "code",
   "execution_count": 180,
   "id": "c39b6de2",
   "metadata": {},
   "outputs": [
    {
     "name": "stderr",
     "output_type": "stream",
     "text": [
      "C:\\Users\\Hp\\anaconda3\\lib\\site-packages\\sklearn\\linear_model\\_logistic.py:814: ConvergenceWarning: lbfgs failed to converge (status=1):\n",
      "STOP: TOTAL NO. of ITERATIONS REACHED LIMIT.\n",
      "\n",
      "Increase the number of iterations (max_iter) or scale the data as shown in:\n",
      "    https://scikit-learn.org/stable/modules/preprocessing.html\n",
      "Please also refer to the documentation for alternative solver options:\n",
      "    https://scikit-learn.org/stable/modules/linear_model.html#logistic-regression\n",
      "  n_iter_i = _check_optimize_result(\n"
     ]
    }
   ],
   "source": [
    "clf = LogisticRegression().fit(X_train, y_train)"
   ]
  },
  {
   "cell_type": "code",
   "execution_count": 181,
   "id": "48d30e1b",
   "metadata": {},
   "outputs": [
    {
     "name": "stdout",
     "output_type": "stream",
     "text": [
      "Breast cancer dataset\n",
      "Accuracy of Logistic reggresion classifier on training set: 0.96\n",
      "Accuracy of Logistic regression classifier on test set: 0.96\n"
     ]
    }
   ],
   "source": [
    "print('Breast cancer dataset')\n",
    "print('Accuracy of Logistic reggresion classifier on training set: {:.2f}'\n",
    "     .format(clf.score(X_train, y_train)))\n",
    "print('Accuracy of Logistic regression classifier on test set: {:.2f}'\n",
    "     .format(clf.score(X_train, y_train)))\n"
   ]
  },
  {
   "cell_type": "markdown",
   "id": "1f2091b1",
   "metadata": {},
   "source": [
    "### Multi class classification using Support vector machine (SVM)"
   ]
  },
  {
   "cell_type": "code",
   "execution_count": 182,
   "id": "81a68fd2",
   "metadata": {},
   "outputs": [],
   "source": [
    "import pandas as pd"
   ]
  },
  {
   "cell_type": "code",
   "execution_count": 183,
   "id": "86aed0e7",
   "metadata": {},
   "outputs": [],
   "source": [
    "fruits = pd.read_table('fruit_data_with_colors.txt')"
   ]
  },
  {
   "cell_type": "code",
   "execution_count": 184,
   "id": "4eaa6d66",
   "metadata": {},
   "outputs": [
    {
     "data": {
      "text/html": [
       "<div>\n",
       "<style scoped>\n",
       "    .dataframe tbody tr th:only-of-type {\n",
       "        vertical-align: middle;\n",
       "    }\n",
       "\n",
       "    .dataframe tbody tr th {\n",
       "        vertical-align: top;\n",
       "    }\n",
       "\n",
       "    .dataframe thead th {\n",
       "        text-align: right;\n",
       "    }\n",
       "</style>\n",
       "<table border=\"1\" class=\"dataframe\">\n",
       "  <thead>\n",
       "    <tr style=\"text-align: right;\">\n",
       "      <th></th>\n",
       "      <th>fruit_label</th>\n",
       "      <th>fruit_name</th>\n",
       "      <th>fruit_subtype</th>\n",
       "      <th>mass</th>\n",
       "      <th>width</th>\n",
       "      <th>height</th>\n",
       "      <th>color_score</th>\n",
       "    </tr>\n",
       "  </thead>\n",
       "  <tbody>\n",
       "    <tr>\n",
       "      <th>0</th>\n",
       "      <td>1</td>\n",
       "      <td>apple</td>\n",
       "      <td>granny_smith</td>\n",
       "      <td>192</td>\n",
       "      <td>8.4</td>\n",
       "      <td>7.3</td>\n",
       "      <td>0.55</td>\n",
       "    </tr>\n",
       "    <tr>\n",
       "      <th>1</th>\n",
       "      <td>1</td>\n",
       "      <td>apple</td>\n",
       "      <td>granny_smith</td>\n",
       "      <td>180</td>\n",
       "      <td>8.0</td>\n",
       "      <td>6.8</td>\n",
       "      <td>0.59</td>\n",
       "    </tr>\n",
       "    <tr>\n",
       "      <th>2</th>\n",
       "      <td>1</td>\n",
       "      <td>apple</td>\n",
       "      <td>granny_smith</td>\n",
       "      <td>176</td>\n",
       "      <td>7.4</td>\n",
       "      <td>7.2</td>\n",
       "      <td>0.60</td>\n",
       "    </tr>\n",
       "    <tr>\n",
       "      <th>3</th>\n",
       "      <td>2</td>\n",
       "      <td>mandarin</td>\n",
       "      <td>mandarin</td>\n",
       "      <td>86</td>\n",
       "      <td>6.2</td>\n",
       "      <td>4.7</td>\n",
       "      <td>0.80</td>\n",
       "    </tr>\n",
       "    <tr>\n",
       "      <th>4</th>\n",
       "      <td>2</td>\n",
       "      <td>mandarin</td>\n",
       "      <td>mandarin</td>\n",
       "      <td>84</td>\n",
       "      <td>6.0</td>\n",
       "      <td>4.6</td>\n",
       "      <td>0.79</td>\n",
       "    </tr>\n",
       "  </tbody>\n",
       "</table>\n",
       "</div>"
      ],
      "text/plain": [
       "   fruit_label fruit_name fruit_subtype  mass  width  height  color_score\n",
       "0            1      apple  granny_smith   192    8.4     7.3         0.55\n",
       "1            1      apple  granny_smith   180    8.0     6.8         0.59\n",
       "2            1      apple  granny_smith   176    7.4     7.2         0.60\n",
       "3            2   mandarin      mandarin    86    6.2     4.7         0.80\n",
       "4            2   mandarin      mandarin    84    6.0     4.6         0.79"
      ]
     },
     "execution_count": 184,
     "metadata": {},
     "output_type": "execute_result"
    }
   ],
   "source": [
    "fruits.head()"
   ]
  },
  {
   "cell_type": "code",
   "execution_count": 185,
   "id": "ccbcc086",
   "metadata": {},
   "outputs": [
    {
     "data": {
      "text/html": [
       "<div>\n",
       "<style scoped>\n",
       "    .dataframe tbody tr th:only-of-type {\n",
       "        vertical-align: middle;\n",
       "    }\n",
       "\n",
       "    .dataframe tbody tr th {\n",
       "        vertical-align: top;\n",
       "    }\n",
       "\n",
       "    .dataframe thead th {\n",
       "        text-align: right;\n",
       "    }\n",
       "</style>\n",
       "<table border=\"1\" class=\"dataframe\">\n",
       "  <thead>\n",
       "    <tr style=\"text-align: right;\">\n",
       "      <th></th>\n",
       "      <th>fruit_label</th>\n",
       "      <th>mass</th>\n",
       "      <th>width</th>\n",
       "      <th>height</th>\n",
       "      <th>color_score</th>\n",
       "    </tr>\n",
       "  </thead>\n",
       "  <tbody>\n",
       "    <tr>\n",
       "      <th>count</th>\n",
       "      <td>59.000000</td>\n",
       "      <td>59.000000</td>\n",
       "      <td>59.000000</td>\n",
       "      <td>59.000000</td>\n",
       "      <td>59.000000</td>\n",
       "    </tr>\n",
       "    <tr>\n",
       "      <th>mean</th>\n",
       "      <td>2.542373</td>\n",
       "      <td>163.118644</td>\n",
       "      <td>7.105085</td>\n",
       "      <td>7.693220</td>\n",
       "      <td>0.762881</td>\n",
       "    </tr>\n",
       "    <tr>\n",
       "      <th>std</th>\n",
       "      <td>1.208048</td>\n",
       "      <td>55.018832</td>\n",
       "      <td>0.816938</td>\n",
       "      <td>1.361017</td>\n",
       "      <td>0.076857</td>\n",
       "    </tr>\n",
       "    <tr>\n",
       "      <th>min</th>\n",
       "      <td>1.000000</td>\n",
       "      <td>76.000000</td>\n",
       "      <td>5.800000</td>\n",
       "      <td>4.000000</td>\n",
       "      <td>0.550000</td>\n",
       "    </tr>\n",
       "    <tr>\n",
       "      <th>25%</th>\n",
       "      <td>1.000000</td>\n",
       "      <td>140.000000</td>\n",
       "      <td>6.600000</td>\n",
       "      <td>7.200000</td>\n",
       "      <td>0.720000</td>\n",
       "    </tr>\n",
       "    <tr>\n",
       "      <th>50%</th>\n",
       "      <td>3.000000</td>\n",
       "      <td>158.000000</td>\n",
       "      <td>7.200000</td>\n",
       "      <td>7.600000</td>\n",
       "      <td>0.750000</td>\n",
       "    </tr>\n",
       "    <tr>\n",
       "      <th>75%</th>\n",
       "      <td>4.000000</td>\n",
       "      <td>177.000000</td>\n",
       "      <td>7.500000</td>\n",
       "      <td>8.200000</td>\n",
       "      <td>0.810000</td>\n",
       "    </tr>\n",
       "    <tr>\n",
       "      <th>max</th>\n",
       "      <td>4.000000</td>\n",
       "      <td>362.000000</td>\n",
       "      <td>9.600000</td>\n",
       "      <td>10.500000</td>\n",
       "      <td>0.930000</td>\n",
       "    </tr>\n",
       "  </tbody>\n",
       "</table>\n",
       "</div>"
      ],
      "text/plain": [
       "       fruit_label        mass      width     height  color_score\n",
       "count    59.000000   59.000000  59.000000  59.000000    59.000000\n",
       "mean      2.542373  163.118644   7.105085   7.693220     0.762881\n",
       "std       1.208048   55.018832   0.816938   1.361017     0.076857\n",
       "min       1.000000   76.000000   5.800000   4.000000     0.550000\n",
       "25%       1.000000  140.000000   6.600000   7.200000     0.720000\n",
       "50%       3.000000  158.000000   7.200000   7.600000     0.750000\n",
       "75%       4.000000  177.000000   7.500000   8.200000     0.810000\n",
       "max       4.000000  362.000000   9.600000  10.500000     0.930000"
      ]
     },
     "execution_count": 185,
     "metadata": {},
     "output_type": "execute_result"
    }
   ],
   "source": [
    "fruits.describe()"
   ]
  },
  {
   "cell_type": "code",
   "execution_count": 186,
   "id": "fabf77ff",
   "metadata": {},
   "outputs": [
    {
     "data": {
      "text/plain": [
       "fruit_label      0\n",
       "fruit_name       0\n",
       "fruit_subtype    0\n",
       "mass             0\n",
       "width            0\n",
       "height           0\n",
       "color_score      0\n",
       "dtype: int64"
      ]
     },
     "execution_count": 186,
     "metadata": {},
     "output_type": "execute_result"
    }
   ],
   "source": [
    "fruits.isnull().sum()"
   ]
  },
  {
   "cell_type": "code",
   "execution_count": 189,
   "id": "5033c21a",
   "metadata": {},
   "outputs": [],
   "source": [
    "feature_names_fruits = ['height', 'width', 'mass', 'color_score']\n",
    "X_fruits = fruits[feature_names_fruits]\n",
    "y_fruits = fruits['fruit_label']\n",
    "target_names_fruits = ['apple', 'mandarin', 'orange', 'lemon']"
   ]
  },
  {
   "cell_type": "code",
   "execution_count": 200,
   "id": "ee43bb08",
   "metadata": {},
   "outputs": [],
   "source": [
    "from sklearn.svm import SVC"
   ]
  },
  {
   "cell_type": "code",
   "execution_count": 201,
   "id": "9e26c1e6",
   "metadata": {},
   "outputs": [],
   "source": [
    "X_train, X_test, y_train, y_test = train_test_split(X_fruits, y_fruits, random_state = 0)"
   ]
  },
  {
   "cell_type": "code",
   "execution_count": 202,
   "id": "ac0bc1bb",
   "metadata": {},
   "outputs": [],
   "source": [
    "clf = SVC(C=5, random_state = 67).fit(X_train, y_train)"
   ]
  },
  {
   "cell_type": "code",
   "execution_count": 203,
   "id": "3f3d3448",
   "metadata": {},
   "outputs": [
    {
     "data": {
      "text/plain": [
       "0.4"
      ]
     },
     "execution_count": 203,
     "metadata": {},
     "output_type": "execute_result"
    }
   ],
   "source": [
    "clf.score(X_test, y_test)"
   ]
  },
  {
   "cell_type": "code",
   "execution_count": 204,
   "id": "5397bf42",
   "metadata": {},
   "outputs": [
    {
     "data": {
      "text/plain": [
       "0.6818181818181818"
      ]
     },
     "execution_count": 204,
     "metadata": {},
     "output_type": "execute_result"
    }
   ],
   "source": [
    "clf.score(X_train, y_train)"
   ]
  },
  {
   "cell_type": "code",
   "execution_count": 206,
   "id": "bf1de5b8",
   "metadata": {},
   "outputs": [
    {
     "data": {
      "text/plain": [
       "array([3, 1, 1, 1, 1, 1, 1, 1, 1, 1, 2, 1, 1, 1, 1], dtype=int64)"
      ]
     },
     "execution_count": 206,
     "metadata": {},
     "output_type": "execute_result"
    }
   ],
   "source": [
    "clf.predict(X_test)"
   ]
  },
  {
   "cell_type": "code",
   "execution_count": 28,
   "id": "78cc9b6a",
   "metadata": {},
   "outputs": [],
   "source": [
    "import pandas as pd"
   ]
  },
  {
   "cell_type": "code",
   "execution_count": 382,
   "id": "f0e3707b",
   "metadata": {},
   "outputs": [],
   "source": [
    "df = pd.DataFrame ()\n"
   ]
  },
  {
   "cell_type": "code",
   "execution_count": 383,
   "id": "e56ebe48",
   "metadata": {},
   "outputs": [
    {
     "name": "stdout",
     "output_type": "stream",
     "text": [
      "Empty DataFrame\n",
      "Columns: []\n",
      "Index: []\n"
     ]
    }
   ],
   "source": [
    "print (df)"
   ]
  },
  {
   "cell_type": "code",
   "execution_count": 384,
   "id": "72386ede",
   "metadata": {},
   "outputs": [],
   "source": [
    "f = [10, 20, 30, 40, 50, 60]"
   ]
  },
  {
   "cell_type": "code",
   "execution_count": 385,
   "id": "733c0bbc",
   "metadata": {},
   "outputs": [],
   "source": [
    "# Create the pandas DataFrame with column name is provided explicitly\n",
    "df = pd.DataFrame(f, columns=['Numbers'])"
   ]
  },
  {
   "cell_type": "code",
   "execution_count": 386,
   "id": "13066c6f",
   "metadata": {},
   "outputs": [
    {
     "data": {
      "text/html": [
       "<div>\n",
       "<style scoped>\n",
       "    .dataframe tbody tr th:only-of-type {\n",
       "        vertical-align: middle;\n",
       "    }\n",
       "\n",
       "    .dataframe tbody tr th {\n",
       "        vertical-align: top;\n",
       "    }\n",
       "\n",
       "    .dataframe thead th {\n",
       "        text-align: right;\n",
       "    }\n",
       "</style>\n",
       "<table border=\"1\" class=\"dataframe\">\n",
       "  <thead>\n",
       "    <tr style=\"text-align: right;\">\n",
       "      <th></th>\n",
       "      <th>Numbers</th>\n",
       "    </tr>\n",
       "  </thead>\n",
       "  <tbody>\n",
       "    <tr>\n",
       "      <th>0</th>\n",
       "      <td>10</td>\n",
       "    </tr>\n",
       "    <tr>\n",
       "      <th>1</th>\n",
       "      <td>20</td>\n",
       "    </tr>\n",
       "    <tr>\n",
       "      <th>2</th>\n",
       "      <td>30</td>\n",
       "    </tr>\n",
       "    <tr>\n",
       "      <th>3</th>\n",
       "      <td>40</td>\n",
       "    </tr>\n",
       "    <tr>\n",
       "      <th>4</th>\n",
       "      <td>50</td>\n",
       "    </tr>\n",
       "    <tr>\n",
       "      <th>5</th>\n",
       "      <td>60</td>\n",
       "    </tr>\n",
       "  </tbody>\n",
       "</table>\n",
       "</div>"
      ],
      "text/plain": [
       "   Numbers\n",
       "0       10\n",
       "1       20\n",
       "2       30\n",
       "3       40\n",
       "4       50\n",
       "5       60"
      ]
     },
     "execution_count": 386,
     "metadata": {},
     "output_type": "execute_result"
    }
   ],
   "source": [
    "df"
   ]
  },
  {
   "cell_type": "markdown",
   "id": "6e239bad",
   "metadata": {},
   "source": [
    "#### Creating Pandas DataFrame from lists of lists"
   ]
  },
  {
   "cell_type": "code",
   "execution_count": 214,
   "id": "b8f145b3",
   "metadata": {},
   "outputs": [],
   "source": [
    "# initilize list of lists\n",
    "data = [['tom', 10], ['nick', 15], ['juli', 14]]"
   ]
  },
  {
   "cell_type": "code",
   "execution_count": 33,
   "id": "c93ef25d",
   "metadata": {},
   "outputs": [
    {
     "data": {
      "text/html": [
       "<div>\n",
       "<style scoped>\n",
       "    .dataframe tbody tr th:only-of-type {\n",
       "        vertical-align: middle;\n",
       "    }\n",
       "\n",
       "    .dataframe tbody tr th {\n",
       "        vertical-align: top;\n",
       "    }\n",
       "\n",
       "    .dataframe thead th {\n",
       "        text-align: right;\n",
       "    }\n",
       "</style>\n",
       "<table border=\"1\" class=\"dataframe\">\n",
       "  <thead>\n",
       "    <tr style=\"text-align: right;\">\n",
       "      <th></th>\n",
       "      <th>Name</th>\n",
       "      <th>Age</th>\n",
       "      <th>Grade</th>\n",
       "    </tr>\n",
       "  </thead>\n",
       "  <tbody>\n",
       "    <tr>\n",
       "      <th>A</th>\n",
       "      <td>tom</td>\n",
       "      <td>10</td>\n",
       "      <td>40</td>\n",
       "    </tr>\n",
       "    <tr>\n",
       "      <th>B</th>\n",
       "      <td>nick</td>\n",
       "      <td>15</td>\n",
       "      <td>60</td>\n",
       "    </tr>\n",
       "    <tr>\n",
       "      <th>C</th>\n",
       "      <td>juli</td>\n",
       "      <td>14</td>\n",
       "      <td>90</td>\n",
       "    </tr>\n",
       "    <tr>\n",
       "      <th>D</th>\n",
       "      <td>temi</td>\n",
       "      <td>12</td>\n",
       "      <td>60</td>\n",
       "    </tr>\n",
       "  </tbody>\n",
       "</table>\n",
       "</div>"
      ],
      "text/plain": [
       "   Name  Age  Grade\n",
       "A   tom   10     40\n",
       "B  nick   15     60\n",
       "C  juli   14     90\n",
       "D  temi   12     60"
      ]
     },
     "execution_count": 33,
     "metadata": {},
     "output_type": "execute_result"
    }
   ],
   "source": [
    "data = [['tom', 10, 40], ['nick', 15, 60], ['juli', 14, 90], ['temi', 12, 60]]\n",
    "dp = pd.DataFrame (data, columns = ['Name', 'Age', 'Grade'],\n",
    "                index = ['A', 'B', 'C', 'D'])\n",
    "dp"
   ]
  },
  {
   "cell_type": "code",
   "execution_count": 392,
   "id": "848919aa",
   "metadata": {},
   "outputs": [
    {
     "data": {
      "text/html": [
       "<div>\n",
       "<style scoped>\n",
       "    .dataframe tbody tr th:only-of-type {\n",
       "        vertical-align: middle;\n",
       "    }\n",
       "\n",
       "    .dataframe tbody tr th {\n",
       "        vertical-align: top;\n",
       "    }\n",
       "\n",
       "    .dataframe thead th {\n",
       "        text-align: right;\n",
       "    }\n",
       "</style>\n",
       "<table border=\"1\" class=\"dataframe\">\n",
       "  <thead>\n",
       "    <tr style=\"text-align: right;\">\n",
       "      <th></th>\n",
       "      <th>Vegetable</th>\n",
       "      <th>Season</th>\n",
       "      <th>Weight_gm</th>\n",
       "      <th>Price_tk</th>\n",
       "    </tr>\n",
       "  </thead>\n",
       "  <tbody>\n",
       "    <tr>\n",
       "      <th>0</th>\n",
       "      <td>Cauliflower</td>\n",
       "      <td>Summer</td>\n",
       "      <td>600</td>\n",
       "      <td>60</td>\n",
       "    </tr>\n",
       "    <tr>\n",
       "      <th>1</th>\n",
       "      <td>Cabbage</td>\n",
       "      <td>Summer</td>\n",
       "      <td>300</td>\n",
       "      <td>80</td>\n",
       "    </tr>\n",
       "    <tr>\n",
       "      <th>2</th>\n",
       "      <td>Radish</td>\n",
       "      <td>Winter</td>\n",
       "      <td>850</td>\n",
       "      <td>25</td>\n",
       "    </tr>\n",
       "    <tr>\n",
       "      <th>3</th>\n",
       "      <td>Eggplant</td>\n",
       "      <td>Winter</td>\n",
       "      <td>700</td>\n",
       "      <td>60</td>\n",
       "    </tr>\n",
       "    <tr>\n",
       "      <th>4</th>\n",
       "      <td>Spinach</td>\n",
       "      <td>Summer</td>\n",
       "      <td>250</td>\n",
       "      <td>50</td>\n",
       "    </tr>\n",
       "    <tr>\n",
       "      <th>5</th>\n",
       "      <td>Tomato</td>\n",
       "      <td>Winter</td>\n",
       "      <td>1000</td>\n",
       "      <td>90</td>\n",
       "    </tr>\n",
       "    <tr>\n",
       "      <th>6</th>\n",
       "      <td>Carrot</td>\n",
       "      <td>Winter</td>\n",
       "      <td>200</td>\n",
       "      <td>80</td>\n",
       "    </tr>\n",
       "    <tr>\n",
       "      <th>7</th>\n",
       "      <td>Gourd</td>\n",
       "      <td>Summer</td>\n",
       "      <td>450</td>\n",
       "      <td>70</td>\n",
       "    </tr>\n",
       "    <tr>\n",
       "      <th>8</th>\n",
       "      <td>Pointed gourd</td>\n",
       "      <td>Winter</td>\n",
       "      <td>1000</td>\n",
       "      <td>70</td>\n",
       "    </tr>\n",
       "    <tr>\n",
       "      <th>9</th>\n",
       "      <td>Ladies finger</td>\n",
       "      <td>Winter</td>\n",
       "      <td>250</td>\n",
       "      <td>25</td>\n",
       "    </tr>\n",
       "    <tr>\n",
       "      <th>10</th>\n",
       "      <td>Carrot</td>\n",
       "      <td>Winter</td>\n",
       "      <td>300</td>\n",
       "      <td>80</td>\n",
       "    </tr>\n",
       "    <tr>\n",
       "      <th>11</th>\n",
       "      <td>Tomato</td>\n",
       "      <td>Winter</td>\n",
       "      <td>750</td>\n",
       "      <td>100</td>\n",
       "    </tr>\n",
       "    <tr>\n",
       "      <th>12</th>\n",
       "      <td>Cauliflower</td>\n",
       "      <td>Winter</td>\n",
       "      <td>280</td>\n",
       "      <td>40</td>\n",
       "    </tr>\n",
       "    <tr>\n",
       "      <th>13</th>\n",
       "      <td>Eggplant</td>\n",
       "      <td>Summer</td>\n",
       "      <td>800</td>\n",
       "      <td>80</td>\n",
       "    </tr>\n",
       "    <tr>\n",
       "      <th>14</th>\n",
       "      <td>Spinach</td>\n",
       "      <td>Winter</td>\n",
       "      <td>250</td>\n",
       "      <td>15</td>\n",
       "    </tr>\n",
       "    <tr>\n",
       "      <th>15</th>\n",
       "      <td>Cabbage</td>\n",
       "      <td>Winter</td>\n",
       "      <td>500</td>\n",
       "      <td>40</td>\n",
       "    </tr>\n",
       "    <tr>\n",
       "      <th>16</th>\n",
       "      <td>Gourd</td>\n",
       "      <td>Summer</td>\n",
       "      <td>350</td>\n",
       "      <td>100</td>\n",
       "    </tr>\n",
       "    <tr>\n",
       "      <th>17</th>\n",
       "      <td>Radish</td>\n",
       "      <td>Summer</td>\n",
       "      <td>750</td>\n",
       "      <td>50</td>\n",
       "    </tr>\n",
       "    <tr>\n",
       "      <th>18</th>\n",
       "      <td>Gourd</td>\n",
       "      <td>Winter</td>\n",
       "      <td>500</td>\n",
       "      <td>70</td>\n",
       "    </tr>\n",
       "    <tr>\n",
       "      <th>19</th>\n",
       "      <td>Pointed gourd</td>\n",
       "      <td>All season</td>\n",
       "      <td>550</td>\n",
       "      <td>70</td>\n",
       "    </tr>\n",
       "    <tr>\n",
       "      <th>20</th>\n",
       "      <td>Eggplant</td>\n",
       "      <td>Summer</td>\n",
       "      <td>930</td>\n",
       "      <td>80</td>\n",
       "    </tr>\n",
       "    <tr>\n",
       "      <th>21</th>\n",
       "      <td>Spinach</td>\n",
       "      <td>Winter</td>\n",
       "      <td>400</td>\n",
       "      <td>15</td>\n",
       "    </tr>\n",
       "    <tr>\n",
       "      <th>22</th>\n",
       "      <td>Eggplant</td>\n",
       "      <td>Summer</td>\n",
       "      <td>770</td>\n",
       "      <td>80</td>\n",
       "    </tr>\n",
       "    <tr>\n",
       "      <th>23</th>\n",
       "      <td>Cauliflower</td>\n",
       "      <td>Winter</td>\n",
       "      <td>330</td>\n",
       "      <td>40</td>\n",
       "    </tr>\n",
       "    <tr>\n",
       "      <th>24</th>\n",
       "      <td>Tomato</td>\n",
       "      <td>Winter</td>\n",
       "      <td>1000</td>\n",
       "      <td>30</td>\n",
       "    </tr>\n",
       "    <tr>\n",
       "      <th>25</th>\n",
       "      <td>Tomato</td>\n",
       "      <td>Summer</td>\n",
       "      <td>400</td>\n",
       "      <td>120</td>\n",
       "    </tr>\n",
       "    <tr>\n",
       "      <th>26</th>\n",
       "      <td>Bean</td>\n",
       "      <td>Summer</td>\n",
       "      <td>500</td>\n",
       "      <td>100</td>\n",
       "    </tr>\n",
       "    <tr>\n",
       "      <th>27</th>\n",
       "      <td>Bean</td>\n",
       "      <td>Winter</td>\n",
       "      <td>500</td>\n",
       "      <td>60</td>\n",
       "    </tr>\n",
       "    <tr>\n",
       "      <th>28</th>\n",
       "      <td>Tomato</td>\n",
       "      <td>Winter</td>\n",
       "      <td>1000</td>\n",
       "      <td>30</td>\n",
       "    </tr>\n",
       "    <tr>\n",
       "      <th>29</th>\n",
       "      <td>Cabbage</td>\n",
       "      <td>Winter</td>\n",
       "      <td>500</td>\n",
       "      <td>40</td>\n",
       "    </tr>\n",
       "    <tr>\n",
       "      <th>30</th>\n",
       "      <td>Gourd</td>\n",
       "      <td>All season</td>\n",
       "      <td>500</td>\n",
       "      <td>70</td>\n",
       "    </tr>\n",
       "    <tr>\n",
       "      <th>31</th>\n",
       "      <td>Eggplant</td>\n",
       "      <td>Summer</td>\n",
       "      <td>730</td>\n",
       "      <td>80</td>\n",
       "    </tr>\n",
       "    <tr>\n",
       "      <th>32</th>\n",
       "      <td>Radish</td>\n",
       "      <td>Winter</td>\n",
       "      <td>1000</td>\n",
       "      <td>25</td>\n",
       "    </tr>\n",
       "    <tr>\n",
       "      <th>33</th>\n",
       "      <td>Spinach</td>\n",
       "      <td>Winter</td>\n",
       "      <td>220</td>\n",
       "      <td>15</td>\n",
       "    </tr>\n",
       "    <tr>\n",
       "      <th>34</th>\n",
       "      <td>Carrot</td>\n",
       "      <td>Winter</td>\n",
       "      <td>475</td>\n",
       "      <td>80</td>\n",
       "    </tr>\n",
       "    <tr>\n",
       "      <th>35</th>\n",
       "      <td>Eggplant</td>\n",
       "      <td>Winter</td>\n",
       "      <td>940</td>\n",
       "      <td>40</td>\n",
       "    </tr>\n",
       "    <tr>\n",
       "      <th>36</th>\n",
       "      <td>Bean</td>\n",
       "      <td>Winter</td>\n",
       "      <td>440</td>\n",
       "      <td>60</td>\n",
       "    </tr>\n",
       "  </tbody>\n",
       "</table>\n",
       "</div>"
      ],
      "text/plain": [
       "       Vegetable       Season  Weight_gm  Price_tk\n",
       "0     Cauliflower      Summer        600        60\n",
       "1         Cabbage      Summer        300        80\n",
       "2          Radish      Winter        850        25\n",
       "3        Eggplant      Winter        700        60\n",
       "4         Spinach      Summer        250        50\n",
       "5          Tomato      Winter       1000        90\n",
       "6          Carrot      Winter        200        80\n",
       "7           Gourd      Summer        450        70\n",
       "8   Pointed gourd      Winter       1000        70\n",
       "9   Ladies finger      Winter        250        25\n",
       "10         Carrot      Winter        300        80\n",
       "11         Tomato      Winter        750       100\n",
       "12    Cauliflower      Winter        280        40\n",
       "13       Eggplant      Summer        800        80\n",
       "14        Spinach      Winter        250        15\n",
       "15        Cabbage      Winter        500        40\n",
       "16          Gourd      Summer        350       100\n",
       "17         Radish      Summer        750        50\n",
       "18          Gourd      Winter        500        70\n",
       "19  Pointed gourd  All season        550        70\n",
       "20       Eggplant      Summer        930        80\n",
       "21        Spinach      Winter        400        15\n",
       "22       Eggplant      Summer        770        80\n",
       "23    Cauliflower      Winter        330        40\n",
       "24         Tomato      Winter       1000        30\n",
       "25         Tomato      Summer        400       120\n",
       "26           Bean      Summer        500       100\n",
       "27           Bean      Winter        500        60\n",
       "28         Tomato      Winter       1000        30\n",
       "29        Cabbage      Winter        500        40\n",
       "30          Gourd  All season        500        70\n",
       "31       Eggplant      Summer        730        80\n",
       "32         Radish      Winter       1000        25\n",
       "33        Spinach      Winter        220        15\n",
       "34         Carrot      Winter        475        80\n",
       "35       Eggplant      Winter        940        40\n",
       "36           Bean      Winter        440        60"
      ]
     },
     "execution_count": 392,
     "metadata": {},
     "output_type": "execute_result"
    }
   ],
   "source": [
    "game = pd.read_csv('Cars.csv')\n",
    "game"
   ]
  },
  {
   "cell_type": "code",
   "execution_count": 215,
   "id": "ea676fcc",
   "metadata": {},
   "outputs": [
    {
     "data": {
      "text/html": [
       "<div>\n",
       "<style scoped>\n",
       "    .dataframe tbody tr th:only-of-type {\n",
       "        vertical-align: middle;\n",
       "    }\n",
       "\n",
       "    .dataframe tbody tr th {\n",
       "        vertical-align: top;\n",
       "    }\n",
       "\n",
       "    .dataframe thead th {\n",
       "        text-align: right;\n",
       "    }\n",
       "</style>\n",
       "<table border=\"1\" class=\"dataframe\">\n",
       "  <thead>\n",
       "    <tr style=\"text-align: right;\">\n",
       "      <th></th>\n",
       "      <th>Name</th>\n",
       "      <th>Age</th>\n",
       "    </tr>\n",
       "  </thead>\n",
       "  <tbody>\n",
       "    <tr>\n",
       "      <th>0</th>\n",
       "      <td>tom</td>\n",
       "      <td>10</td>\n",
       "    </tr>\n",
       "    <tr>\n",
       "      <th>1</th>\n",
       "      <td>nick</td>\n",
       "      <td>15</td>\n",
       "    </tr>\n",
       "    <tr>\n",
       "      <th>2</th>\n",
       "      <td>juli</td>\n",
       "      <td>14</td>\n",
       "    </tr>\n",
       "  </tbody>\n",
       "</table>\n",
       "</div>"
      ],
      "text/plain": [
       "   Name  Age\n",
       "0   tom   10\n",
       "1  nick   15\n",
       "2  juli   14"
      ]
     },
     "execution_count": 215,
     "metadata": {},
     "output_type": "execute_result"
    }
   ],
   "source": [
    "# Creat the pandas DataFrame\n",
    "df = pd.DataFrame (data, columns = ['Name', 'Age'])\n",
    "df"
   ]
  },
  {
   "cell_type": "markdown",
   "id": "fe5a3800",
   "metadata": {},
   "source": [
    "#### Creating DataFrame from dict of narray/list"
   ]
  },
  {
   "cell_type": "code",
   "execution_count": 217,
   "id": "18db4f3c",
   "metadata": {},
   "outputs": [
    {
     "data": {
      "text/html": [
       "<div>\n",
       "<style scoped>\n",
       "    .dataframe tbody tr th:only-of-type {\n",
       "        vertical-align: middle;\n",
       "    }\n",
       "\n",
       "    .dataframe tbody tr th {\n",
       "        vertical-align: top;\n",
       "    }\n",
       "\n",
       "    .dataframe thead th {\n",
       "        text-align: right;\n",
       "    }\n",
       "</style>\n",
       "<table border=\"1\" class=\"dataframe\">\n",
       "  <thead>\n",
       "    <tr style=\"text-align: right;\">\n",
       "      <th></th>\n",
       "      <th>Nmae</th>\n",
       "      <th>Age</th>\n",
       "    </tr>\n",
       "  </thead>\n",
       "  <tbody>\n",
       "    <tr>\n",
       "      <th>0</th>\n",
       "      <td>Tom</td>\n",
       "      <td>20</td>\n",
       "    </tr>\n",
       "    <tr>\n",
       "      <th>1</th>\n",
       "      <td>nick</td>\n",
       "      <td>21</td>\n",
       "    </tr>\n",
       "    <tr>\n",
       "      <th>2</th>\n",
       "      <td>krish</td>\n",
       "      <td>19</td>\n",
       "    </tr>\n",
       "    <tr>\n",
       "      <th>3</th>\n",
       "      <td>jack</td>\n",
       "      <td>18</td>\n",
       "    </tr>\n",
       "  </tbody>\n",
       "</table>\n",
       "</div>"
      ],
      "text/plain": [
       "    Nmae  Age\n",
       "0    Tom   20\n",
       "1   nick   21\n",
       "2  krish   19\n",
       "3   jack   18"
      ]
     },
     "execution_count": 217,
     "metadata": {},
     "output_type": "execute_result"
    }
   ],
   "source": [
    "#Initialize data of lists.\n",
    "kong = {'Nmae' : [\"Tom\", 'nick', 'krish', 'jack'],\n",
    "       'Age': [20, 21, 19, 18]}\n",
    "\n",
    "#Create DataFrame\n",
    "df = pd.DataFrame(kong)\n",
    "\n",
    "df"
   ]
  },
  {
   "cell_type": "markdown",
   "id": "9c0d14ed",
   "metadata": {},
   "source": [
    "#### Creating DataFrame by proving index label explicitly"
   ]
  },
  {
   "cell_type": "code",
   "execution_count": 219,
   "id": "b78d68c3",
   "metadata": {},
   "outputs": [
    {
     "data": {
      "text/html": [
       "<div>\n",
       "<style scoped>\n",
       "    .dataframe tbody tr th:only-of-type {\n",
       "        vertical-align: middle;\n",
       "    }\n",
       "\n",
       "    .dataframe tbody tr th {\n",
       "        vertical-align: top;\n",
       "    }\n",
       "\n",
       "    .dataframe thead th {\n",
       "        text-align: right;\n",
       "    }\n",
       "</style>\n",
       "<table border=\"1\" class=\"dataframe\">\n",
       "  <thead>\n",
       "    <tr style=\"text-align: right;\">\n",
       "      <th></th>\n",
       "      <th>Name</th>\n",
       "      <th>Marks</th>\n",
       "    </tr>\n",
       "  </thead>\n",
       "  <tbody>\n",
       "    <tr>\n",
       "      <th>rank1</th>\n",
       "      <td>Tom</td>\n",
       "      <td>99</td>\n",
       "    </tr>\n",
       "    <tr>\n",
       "      <th>rank2</th>\n",
       "      <td>Jack</td>\n",
       "      <td>98</td>\n",
       "    </tr>\n",
       "    <tr>\n",
       "      <th>rank3</th>\n",
       "      <td>nick</td>\n",
       "      <td>95</td>\n",
       "    </tr>\n",
       "    <tr>\n",
       "      <th>rank4</th>\n",
       "      <td>juli</td>\n",
       "      <td>90</td>\n",
       "    </tr>\n",
       "  </tbody>\n",
       "</table>\n",
       "</div>"
      ],
      "text/plain": [
       "       Name  Marks\n",
       "rank1   Tom     99\n",
       "rank2  Jack     98\n",
       "rank3  nick     95\n",
       "rank4  juli     90"
      ]
     },
     "execution_count": 219,
     "metadata": {},
     "output_type": "execute_result"
    }
   ],
   "source": [
    "#Initialize data of lists.\n",
    "kong = {'Name' : [\"Tom\", 'Jack', 'nick', 'juli'],\n",
    "       'Marks': [99, 98, 95, 90]}\n",
    "\n",
    "#Create pandas DataFrame\n",
    "df = pd.DataFrame(kong, index=['rank1',\n",
    "                               'rank2',\n",
    "                               'rank3',\n",
    "                               'rank4'])\n",
    "\n",
    "df"
   ]
  },
  {
   "cell_type": "markdown",
   "id": "f02e165c",
   "metadata": {},
   "source": [
    "#### Creating DataFrame from list of dicts"
   ]
  },
  {
   "cell_type": "code",
   "execution_count": 221,
   "id": "8ebc733e",
   "metadata": {},
   "outputs": [
    {
     "data": {
      "text/html": [
       "<div>\n",
       "<style scoped>\n",
       "    .dataframe tbody tr th:only-of-type {\n",
       "        vertical-align: middle;\n",
       "    }\n",
       "\n",
       "    .dataframe tbody tr th {\n",
       "        vertical-align: top;\n",
       "    }\n",
       "\n",
       "    .dataframe thead th {\n",
       "        text-align: right;\n",
       "    }\n",
       "</style>\n",
       "<table border=\"1\" class=\"dataframe\">\n",
       "  <thead>\n",
       "    <tr style=\"text-align: right;\">\n",
       "      <th></th>\n",
       "      <th>a</th>\n",
       "      <th>b</th>\n",
       "      <th>c</th>\n",
       "    </tr>\n",
       "  </thead>\n",
       "  <tbody>\n",
       "    <tr>\n",
       "      <th>0</th>\n",
       "      <td>1</td>\n",
       "      <td>2</td>\n",
       "      <td>3</td>\n",
       "    </tr>\n",
       "    <tr>\n",
       "      <th>1</th>\n",
       "      <td>10</td>\n",
       "      <td>20</td>\n",
       "      <td>30</td>\n",
       "    </tr>\n",
       "  </tbody>\n",
       "</table>\n",
       "</div>"
      ],
      "text/plain": [
       "    a   b   c\n",
       "0   1   2   3\n",
       "1  10  20  30"
      ]
     },
     "execution_count": 221,
     "metadata": {},
     "output_type": "execute_result"
    }
   ],
   "source": [
    "#Initialize data of lists.\n",
    "kong = [{'a' : 1, 'b' : 2, 'c' : 3},\n",
    "        {'a' : 10, 'b' : 20, 'c' : 30}]\n",
    "\n",
    "#Create pandas DataFrame\n",
    "df = pd.DataFrame(kong)\n",
    "\n",
    "df"
   ]
  },
  {
   "cell_type": "markdown",
   "id": "a106319c",
   "metadata": {},
   "source": [
    "#### Creating DataFrame from list of dicts and row indexes"
   ]
  },
  {
   "cell_type": "code",
   "execution_count": 229,
   "id": "b5978456",
   "metadata": {},
   "outputs": [
    {
     "data": {
      "text/html": [
       "<div>\n",
       "<style scoped>\n",
       "    .dataframe tbody tr th:only-of-type {\n",
       "        vertical-align: middle;\n",
       "    }\n",
       "\n",
       "    .dataframe tbody tr th {\n",
       "        vertical-align: top;\n",
       "    }\n",
       "\n",
       "    .dataframe thead th {\n",
       "        text-align: right;\n",
       "    }\n",
       "</style>\n",
       "<table border=\"1\" class=\"dataframe\">\n",
       "  <thead>\n",
       "    <tr style=\"text-align: right;\">\n",
       "      <th></th>\n",
       "      <th>b</th>\n",
       "      <th>c</th>\n",
       "      <th>a</th>\n",
       "    </tr>\n",
       "  </thead>\n",
       "  <tbody>\n",
       "    <tr>\n",
       "      <th>first</th>\n",
       "      <td>2</td>\n",
       "      <td>3</td>\n",
       "      <td>NaN</td>\n",
       "    </tr>\n",
       "    <tr>\n",
       "      <th>second</th>\n",
       "      <td>20</td>\n",
       "      <td>30</td>\n",
       "      <td>10.0</td>\n",
       "    </tr>\n",
       "  </tbody>\n",
       "</table>\n",
       "</div>"
      ],
      "text/plain": [
       "         b   c     a\n",
       "first    2   3   NaN\n",
       "second  20  30  10.0"
      ]
     },
     "execution_count": 229,
     "metadata": {},
     "output_type": "execute_result"
    }
   ],
   "source": [
    "#Initialize data of lists.\n",
    "kong = [{ 'b' : 2, 'c' : 3}, {'a' : 10, 'b' : 20, 'c' : 30}]\n",
    "\n",
    "#Create pandas DataFrame by passing\n",
    "#lists of dictionaries and row index.\n",
    "df = pd.DataFrame(kong, index=['first', 'second'])\n",
    "\n",
    "df"
   ]
  },
  {
   "cell_type": "markdown",
   "id": "1be4a612",
   "metadata": {},
   "source": [
    "#### Creating DataFrame from list of dicts and row indexes as well as column index"
   ]
  },
  {
   "cell_type": "code",
   "execution_count": 237,
   "id": "68462c46",
   "metadata": {},
   "outputs": [
    {
     "name": "stdout",
     "output_type": "stream",
     "text": [
      "        a   b   c\n",
      "frist   1   2 NaN\n",
      "secoud  5  10 NaN\n",
      "third   5  10 NaN \n",
      "\n",
      "        a  b1   c\n",
      "frist   1 NaN NaN\n",
      "secoud  5 NaN NaN\n",
      "third   5 NaN NaN\n"
     ]
    }
   ],
   "source": [
    "#Initialize lists data\n",
    "mate = [{'a' : 1, 'b' : 2},\n",
    "        {'a' : 5, 'b' : 10},\n",
    "        {'a' : 5, 'b' : 10}]\n",
    "\n",
    "\n",
    "# With two column indices, values same \n",
    "# as dictionary keys\n",
    "df1 = pd.DataFrame(mate, index= ['frist', 'secoud', 'third'], columns=['a', 'b', 'c'])\n",
    "\n",
    "# With two column indices with \n",
    "# one index with other name\n",
    "df2 = pd.DataFrame(mate, index= ['frist', 'secoud', 'third' ], columns=['a', 'b1', 'c'])\n",
    "\n",
    "print (df1, \"\\n\")\n",
    "\n",
    "print (df2)\n"
   ]
  },
  {
   "cell_type": "markdown",
   "id": "54ec5152",
   "metadata": {},
   "source": [
    "#### Creating DataFrame using zip () functions.\n",
    "\n",
    "Two lists can be merged by using list (zip()) fuction. Now, create the pandas\n",
    "DataFrame by calling pd.DataFrame()function"
   ]
  },
  {
   "cell_type": "code",
   "execution_count": 238,
   "id": "46e6e8d2",
   "metadata": {},
   "outputs": [
    {
     "data": {
      "text/html": [
       "<div>\n",
       "<style scoped>\n",
       "    .dataframe tbody tr th:only-of-type {\n",
       "        vertical-align: middle;\n",
       "    }\n",
       "\n",
       "    .dataframe tbody tr th {\n",
       "        vertical-align: top;\n",
       "    }\n",
       "\n",
       "    .dataframe thead th {\n",
       "        text-align: right;\n",
       "    }\n",
       "</style>\n",
       "<table border=\"1\" class=\"dataframe\">\n",
       "  <thead>\n",
       "    <tr style=\"text-align: right;\">\n",
       "      <th></th>\n",
       "      <th>Name</th>\n",
       "      <th>Age</th>\n",
       "    </tr>\n",
       "  </thead>\n",
       "  <tbody>\n",
       "    <tr>\n",
       "      <th>0</th>\n",
       "      <td>Tom</td>\n",
       "      <td>25</td>\n",
       "    </tr>\n",
       "    <tr>\n",
       "      <th>1</th>\n",
       "      <td>nick</td>\n",
       "      <td>30</td>\n",
       "    </tr>\n",
       "    <tr>\n",
       "      <th>2</th>\n",
       "      <td>krish</td>\n",
       "      <td>26</td>\n",
       "    </tr>\n",
       "    <tr>\n",
       "      <th>3</th>\n",
       "      <td>jack</td>\n",
       "      <td>22</td>\n",
       "    </tr>\n",
       "  </tbody>\n",
       "</table>\n",
       "</div>"
      ],
      "text/plain": [
       "    Name  Age\n",
       "0    Tom   25\n",
       "1   nick   30\n",
       "2  krish   26\n",
       "3   jack   22"
      ]
     },
     "execution_count": 238,
     "metadata": {},
     "output_type": "execute_result"
    }
   ],
   "source": [
    "# Initialize data of lists.\n",
    "# List1\n",
    "Name = [\"Tom\", 'nick', 'krish', 'jack']\n",
    "\n",
    "# List2\n",
    "Age = [25, 30, 26, 22]\n",
    "\n",
    "# get the list of tuples from two lists.\n",
    "# and merge them by using zip().\n",
    "list_of_tuples = list(zip(Name, Age))\n",
    "\n",
    "# Assign data to tuples.\n",
    "list_of_tuples\n",
    "\n",
    "# Converting lists of tuples into\n",
    "# pandas Dataframe.\n",
    "df = pd.DataFrame(list_of_tuples,\n",
    "                  columns=['Name', 'Age'])\n",
    "\n",
    "df"
   ]
  },
  {
   "cell_type": "markdown",
   "id": "0bda95b8",
   "metadata": {},
   "source": [
    "#### Creating dataframe from series\n",
    "\n",
    "To create a dataframe from series, we must pass series as argument to DataFrame() function."
   ]
  },
  {
   "cell_type": "code",
   "execution_count": 239,
   "id": "4303c61b",
   "metadata": {},
   "outputs": [
    {
     "data": {
      "text/html": [
       "<div>\n",
       "<style scoped>\n",
       "    .dataframe tbody tr th:only-of-type {\n",
       "        vertical-align: middle;\n",
       "    }\n",
       "\n",
       "    .dataframe tbody tr th {\n",
       "        vertical-align: top;\n",
       "    }\n",
       "\n",
       "    .dataframe thead th {\n",
       "        text-align: right;\n",
       "    }\n",
       "</style>\n",
       "<table border=\"1\" class=\"dataframe\">\n",
       "  <thead>\n",
       "    <tr style=\"text-align: right;\">\n",
       "      <th></th>\n",
       "      <th>0</th>\n",
       "    </tr>\n",
       "  </thead>\n",
       "  <tbody>\n",
       "    <tr>\n",
       "      <th>0</th>\n",
       "      <td>10</td>\n",
       "    </tr>\n",
       "    <tr>\n",
       "      <th>1</th>\n",
       "      <td>20</td>\n",
       "    </tr>\n",
       "    <tr>\n",
       "      <th>2</th>\n",
       "      <td>30</td>\n",
       "    </tr>\n",
       "    <tr>\n",
       "      <th>3</th>\n",
       "      <td>40</td>\n",
       "    </tr>\n",
       "  </tbody>\n",
       "</table>\n",
       "</div>"
      ],
      "text/plain": [
       "    0\n",
       "0  10\n",
       "1  20\n",
       "2  30\n",
       "3  40"
      ]
     },
     "execution_count": 239,
     "metadata": {},
     "output_type": "execute_result"
    }
   ],
   "source": [
    "# Initialize data to series.\n",
    "d = pd.Series([10, 20, 30, 40])\n",
    "\n",
    "# creates Dataframe.\n",
    "df = pd.DataFrame(d)\n",
    "\n",
    "# print the data.\n",
    "df"
   ]
  },
  {
   "cell_type": "markdown",
   "id": "353d5a28",
   "metadata": {},
   "source": [
    "#### Creating DataFrame from Dictionary of series\n",
    "\n",
    "To create DataFrame from Dict of series, dictionary can be passed to form a DataFrame. \n",
    "The resultant index is the union of all the series of passed indexed"
   ]
  },
  {
   "cell_type": "code",
   "execution_count": 240,
   "id": "d4530368",
   "metadata": {},
   "outputs": [
    {
     "data": {
      "text/html": [
       "<div>\n",
       "<style scoped>\n",
       "    .dataframe tbody tr th:only-of-type {\n",
       "        vertical-align: middle;\n",
       "    }\n",
       "\n",
       "    .dataframe tbody tr th {\n",
       "        vertical-align: top;\n",
       "    }\n",
       "\n",
       "    .dataframe thead th {\n",
       "        text-align: right;\n",
       "    }\n",
       "</style>\n",
       "<table border=\"1\" class=\"dataframe\">\n",
       "  <thead>\n",
       "    <tr style=\"text-align: right;\">\n",
       "      <th></th>\n",
       "      <th>one</th>\n",
       "      <th>two</th>\n",
       "    </tr>\n",
       "  </thead>\n",
       "  <tbody>\n",
       "    <tr>\n",
       "      <th>a</th>\n",
       "      <td>10</td>\n",
       "      <td>10</td>\n",
       "    </tr>\n",
       "    <tr>\n",
       "      <th>b</th>\n",
       "      <td>20</td>\n",
       "      <td>20</td>\n",
       "    </tr>\n",
       "    <tr>\n",
       "      <th>c</th>\n",
       "      <td>30</td>\n",
       "      <td>30</td>\n",
       "    </tr>\n",
       "    <tr>\n",
       "      <th>d</th>\n",
       "      <td>40</td>\n",
       "      <td>40</td>\n",
       "    </tr>\n",
       "  </tbody>\n",
       "</table>\n",
       "</div>"
      ],
      "text/plain": [
       "   one  two\n",
       "a   10   10\n",
       "b   20   20\n",
       "c   30   30\n",
       "d   40   40"
      ]
     },
     "execution_count": 240,
     "metadata": {},
     "output_type": "execute_result"
    }
   ],
   "source": [
    "# Initialize data to Dicts of series.\n",
    "d = {'one' : pd.Series ([10, 20, 30, 40],\n",
    "                        index=['a', 'b', 'c', 'd']),\n",
    "     'two' : pd.Series ([10, 20, 30, 40],\n",
    "                        index=['a', 'b', 'c', 'd'])}\n",
    "\n",
    "# Creates Dataframe.\n",
    "df = pd.DataFrame(d)\n",
    "\n",
    "df"
   ]
  },
  {
   "cell_type": "code",
   "execution_count": 1,
   "id": "881f103b",
   "metadata": {},
   "outputs": [],
   "source": [
    "import pandas as pd"
   ]
  },
  {
   "cell_type": "code",
   "execution_count": 2,
   "id": "7e61c936",
   "metadata": {},
   "outputs": [],
   "source": [
    "data = pd.read_csv('Vegetables.csv')"
   ]
  },
  {
   "cell_type": "code",
   "execution_count": 3,
   "id": "b335c298",
   "metadata": {},
   "outputs": [],
   "source": [
    "import matplotlib.pyplot as plt"
   ]
  },
  {
   "cell_type": "code",
   "execution_count": 4,
   "id": "47397b1f",
   "metadata": {},
   "outputs": [
    {
     "data": {
      "text/html": [
       "<div>\n",
       "<style scoped>\n",
       "    .dataframe tbody tr th:only-of-type {\n",
       "        vertical-align: middle;\n",
       "    }\n",
       "\n",
       "    .dataframe tbody tr th {\n",
       "        vertical-align: top;\n",
       "    }\n",
       "\n",
       "    .dataframe thead th {\n",
       "        text-align: right;\n",
       "    }\n",
       "</style>\n",
       "<table border=\"1\" class=\"dataframe\">\n",
       "  <thead>\n",
       "    <tr style=\"text-align: right;\">\n",
       "      <th></th>\n",
       "      <th>Vegetable</th>\n",
       "      <th>Season</th>\n",
       "      <th>Weight (gm)</th>\n",
       "      <th>Price (tk)</th>\n",
       "    </tr>\n",
       "  </thead>\n",
       "  <tbody>\n",
       "    <tr>\n",
       "      <th>0</th>\n",
       "      <td>Cauliflower</td>\n",
       "      <td>Summer</td>\n",
       "      <td>600</td>\n",
       "      <td>60</td>\n",
       "    </tr>\n",
       "    <tr>\n",
       "      <th>1</th>\n",
       "      <td>Cabbage</td>\n",
       "      <td>Summer</td>\n",
       "      <td>300</td>\n",
       "      <td>80</td>\n",
       "    </tr>\n",
       "    <tr>\n",
       "      <th>2</th>\n",
       "      <td>Radish</td>\n",
       "      <td>Winter</td>\n",
       "      <td>850</td>\n",
       "      <td>25</td>\n",
       "    </tr>\n",
       "    <tr>\n",
       "      <th>3</th>\n",
       "      <td>Eggplant</td>\n",
       "      <td>Winter</td>\n",
       "      <td>700</td>\n",
       "      <td>60</td>\n",
       "    </tr>\n",
       "    <tr>\n",
       "      <th>4</th>\n",
       "      <td>Spinach</td>\n",
       "      <td>Summer</td>\n",
       "      <td>250</td>\n",
       "      <td>50</td>\n",
       "    </tr>\n",
       "  </tbody>\n",
       "</table>\n",
       "</div>"
      ],
      "text/plain": [
       "     Vegetable  Season  Weight (gm)  Price (tk)\n",
       "0  Cauliflower  Summer          600          60\n",
       "1      Cabbage  Summer          300          80\n",
       "2       Radish  Winter          850          25\n",
       "3     Eggplant  Winter          700          60\n",
       "4      Spinach  Summer          250          50"
      ]
     },
     "execution_count": 4,
     "metadata": {},
     "output_type": "execute_result"
    }
   ],
   "source": [
    "data.head() #Print only the first 5 rows of our data set"
   ]
  },
  {
   "cell_type": "markdown",
   "id": "e87e261a",
   "metadata": {},
   "source": [
    "#### Frequency Table\n",
    "Frequency is the count of the number of occurrences of a value. The frequency table is the representation of frequency in a tabular form. "
   ]
  },
  {
   "cell_type": "code",
   "execution_count": 257,
   "id": "271a5c60",
   "metadata": {},
   "outputs": [
    {
     "data": {
      "text/html": [
       "<div>\n",
       "<style scoped>\n",
       "    .dataframe tbody tr th:only-of-type {\n",
       "        vertical-align: middle;\n",
       "    }\n",
       "\n",
       "    .dataframe tbody tr th {\n",
       "        vertical-align: top;\n",
       "    }\n",
       "\n",
       "    .dataframe thead th {\n",
       "        text-align: right;\n",
       "    }\n",
       "</style>\n",
       "<table border=\"1\" class=\"dataframe\">\n",
       "  <thead>\n",
       "    <tr style=\"text-align: right;\">\n",
       "      <th></th>\n",
       "      <th>Vegetable</th>\n",
       "      <th>Season</th>\n",
       "      <th>Frequency</th>\n",
       "    </tr>\n",
       "  </thead>\n",
       "  <tbody>\n",
       "    <tr>\n",
       "      <th>0</th>\n",
       "      <td>Bean</td>\n",
       "      <td>Summer</td>\n",
       "      <td>1</td>\n",
       "    </tr>\n",
       "    <tr>\n",
       "      <th>1</th>\n",
       "      <td>Bean</td>\n",
       "      <td>Winter</td>\n",
       "      <td>2</td>\n",
       "    </tr>\n",
       "    <tr>\n",
       "      <th>2</th>\n",
       "      <td>Cabbage</td>\n",
       "      <td>Summer</td>\n",
       "      <td>1</td>\n",
       "    </tr>\n",
       "    <tr>\n",
       "      <th>3</th>\n",
       "      <td>Cabbage</td>\n",
       "      <td>Winter</td>\n",
       "      <td>2</td>\n",
       "    </tr>\n",
       "    <tr>\n",
       "      <th>4</th>\n",
       "      <td>Carrot</td>\n",
       "      <td>Winter</td>\n",
       "      <td>3</td>\n",
       "    </tr>\n",
       "    <tr>\n",
       "      <th>5</th>\n",
       "      <td>Cauliflower</td>\n",
       "      <td>Summer</td>\n",
       "      <td>1</td>\n",
       "    </tr>\n",
       "    <tr>\n",
       "      <th>6</th>\n",
       "      <td>Cauliflower</td>\n",
       "      <td>Winter</td>\n",
       "      <td>2</td>\n",
       "    </tr>\n",
       "    <tr>\n",
       "      <th>7</th>\n",
       "      <td>Eggplant</td>\n",
       "      <td>Summer</td>\n",
       "      <td>4</td>\n",
       "    </tr>\n",
       "    <tr>\n",
       "      <th>8</th>\n",
       "      <td>Eggplant</td>\n",
       "      <td>Winter</td>\n",
       "      <td>2</td>\n",
       "    </tr>\n",
       "    <tr>\n",
       "      <th>9</th>\n",
       "      <td>Gourd</td>\n",
       "      <td>All season</td>\n",
       "      <td>1</td>\n",
       "    </tr>\n",
       "    <tr>\n",
       "      <th>10</th>\n",
       "      <td>Gourd</td>\n",
       "      <td>Summer</td>\n",
       "      <td>2</td>\n",
       "    </tr>\n",
       "    <tr>\n",
       "      <th>11</th>\n",
       "      <td>Gourd</td>\n",
       "      <td>Winter</td>\n",
       "      <td>1</td>\n",
       "    </tr>\n",
       "    <tr>\n",
       "      <th>12</th>\n",
       "      <td>Ladies finger</td>\n",
       "      <td>Winter</td>\n",
       "      <td>1</td>\n",
       "    </tr>\n",
       "    <tr>\n",
       "      <th>13</th>\n",
       "      <td>Pointed gourd</td>\n",
       "      <td>All season</td>\n",
       "      <td>1</td>\n",
       "    </tr>\n",
       "    <tr>\n",
       "      <th>14</th>\n",
       "      <td>Pointed gourd</td>\n",
       "      <td>Winter</td>\n",
       "      <td>1</td>\n",
       "    </tr>\n",
       "    <tr>\n",
       "      <th>15</th>\n",
       "      <td>Radish</td>\n",
       "      <td>Summer</td>\n",
       "      <td>1</td>\n",
       "    </tr>\n",
       "    <tr>\n",
       "      <th>16</th>\n",
       "      <td>Radish</td>\n",
       "      <td>Winter</td>\n",
       "      <td>2</td>\n",
       "    </tr>\n",
       "    <tr>\n",
       "      <th>17</th>\n",
       "      <td>Spinach</td>\n",
       "      <td>Summer</td>\n",
       "      <td>1</td>\n",
       "    </tr>\n",
       "    <tr>\n",
       "      <th>18</th>\n",
       "      <td>Spinach</td>\n",
       "      <td>Winter</td>\n",
       "      <td>3</td>\n",
       "    </tr>\n",
       "    <tr>\n",
       "      <th>19</th>\n",
       "      <td>Tomato</td>\n",
       "      <td>Summer</td>\n",
       "      <td>1</td>\n",
       "    </tr>\n",
       "    <tr>\n",
       "      <th>20</th>\n",
       "      <td>Tomato</td>\n",
       "      <td>Winter</td>\n",
       "      <td>4</td>\n",
       "    </tr>\n",
       "  </tbody>\n",
       "</table>\n",
       "</div>"
      ],
      "text/plain": [
       "        Vegetable      Season  Frequency\n",
       "0            Bean      Summer          1\n",
       "1            Bean      Winter          2\n",
       "2         Cabbage      Summer          1\n",
       "3         Cabbage      Winter          2\n",
       "4          Carrot      Winter          3\n",
       "5     Cauliflower      Summer          1\n",
       "6     Cauliflower      Winter          2\n",
       "7        Eggplant      Summer          4\n",
       "8        Eggplant      Winter          2\n",
       "9           Gourd  All season          1\n",
       "10          Gourd      Summer          2\n",
       "11          Gourd      Winter          1\n",
       "12  Ladies finger      Winter          1\n",
       "13  Pointed gourd  All season          1\n",
       "14  Pointed gourd      Winter          1\n",
       "15         Radish      Summer          1\n",
       "16         Radish      Winter          2\n",
       "17        Spinach      Summer          1\n",
       "18        Spinach      Winter          3\n",
       "19         Tomato      Summer          1\n",
       "20         Tomato      Winter          4"
      ]
     },
     "execution_count": 257,
     "metadata": {},
     "output_type": "execute_result"
    }
   ],
   "source": [
    "frequency=data.groupby(['Vegetable', 'Season']).size().reset_index(name='Frequency')\n",
    "frequency"
   ]
  },
  {
   "cell_type": "markdown",
   "id": "139f4797",
   "metadata": {},
   "source": [
    "#### Scatter Plot"
   ]
  },
  {
   "cell_type": "code",
   "execution_count": 264,
   "id": "4054df6b",
   "metadata": {},
   "outputs": [
    {
     "data": {
      "image/png": "[encoded data removed]",
      "text/plain": [
       "<Figure size 504x288 with 1 Axes>"
      ]
     },
     "metadata": {
      "needs_background": "light"
     },
     "output_type": "display_data"
    }
   ],
   "source": [
    "import matplotlib.pyplot as plt\n",
    "plt.figure(figsize =(7,4))\n",
    "plt.scatter(data['Price (tk)'], data['Weight (gm)'])\n",
    "plt.xlabel('Price (tk)')\n",
    "plt.ylabel('Weight (gm)')\n",
    "plt.title('Scatter Plot Price vs Weight')\n",
    "plt.show()"
   ]
  },
  {
   "cell_type": "code",
   "execution_count": 9,
   "id": "4f321a55",
   "metadata": {},
   "outputs": [
    {
     "data": {
      "image/png": "[encoded data removed]",
      "text/plain": [
       "<Figure size 432x288 with 1 Axes>"
      ]
     },
     "metadata": {
      "needs_background": "light"
     },
     "output_type": "display_data"
    }
   ],
   "source": [
    "sns.scatterplot(x='Price (tk)',y='Weight (gm)', data=data)\n",
    "plt.show()"
   ]
  },
  {
   "cell_type": "code",
   "execution_count": 17,
   "id": "ce3d0d14",
   "metadata": {},
   "outputs": [
    {
     "ename": "SyntaxError",
     "evalue": "invalid syntax (3009377917.py, line 1)",
     "output_type": "error",
     "traceback": [
      "\u001b[1;36m  Input \u001b[1;32mIn [17]\u001b[1;36m\u001b[0m\n\u001b[1;33m    sns.scatterplot(x='Price (tk)', y='Weight (gm)', data=data, , hue='Season')\u001b[0m\n\u001b[1;37m                                                                ^\u001b[0m\n\u001b[1;31mSyntaxError\u001b[0m\u001b[1;31m:\u001b[0m invalid syntax\n"
     ]
    }
   ],
   "source": [
    "sns.scatterplot(x='Price (tk)', y='Weight (gm)', data=data, , hue='Season')\n",
    "plt.show()"
   ]
  },
  {
   "cell_type": "markdown",
   "id": "044fcc15",
   "metadata": {},
   "source": [
    "#### Line Plot\n",
    "By nature, the line plot is similar to the scatter plot, but the points are connected with continuous lines sequentially. Rather than data distribution, the plot is preferable for finding data flow in a two-dimensional space"
   ]
  },
  {
   "cell_type": "code",
   "execution_count": 266,
   "id": "2f2ec502",
   "metadata": {},
   "outputs": [
    {
     "data": {
      "image/png": "[encoded data removed]",
      "text/plain": [
       "<Figure size 504x360 with 1 Axes>"
      ]
     },
     "metadata": {
      "needs_background": "light"
     },
     "output_type": "display_data"
    }
   ],
   "source": [
    "import matplotlib.pyplot as plt\n",
    "plt.figure(figsize =(7,5))\n",
    "plt.plot(data['Price (tk)'])\n",
    "plt.xlabel('No. of Data Points')\n",
    "plt.ylabel('Weight (gm)')\n",
    "plt.title('Line Plot for Price')\n",
    "plt.show()"
   ]
  },
  {
   "cell_type": "markdown",
   "id": "4d4b1c12",
   "metadata": {},
   "source": [
    "#### Bar Chart\n",
    "The bar chart is mainly used to represent the frequency of categorical variables with bars. Different heights of the bar indicat the frequency"
   ]
  },
  {
   "cell_type": "code",
   "execution_count": 275,
   "id": "25b531f7",
   "metadata": {},
   "outputs": [
    {
     "data": {
      "image/png": "[encoded data removed]",
      "text/plain": [
       "<Figure size 576x360 with 1 Axes>"
      ]
     },
     "metadata": {
      "needs_background": "light"
     },
     "output_type": "display_data"
    }
   ],
   "source": [
    "import matplotlib.pyplot as plt\n",
    "x=data ['Season']. value_counts().index\n",
    "y=data ['Season']. value_counts()\n",
    "plt.figure(figsize =(8,5))\n",
    "plt.bar(x,y, color='#066471', width=0.5)\n",
    "plt.xlabel('Seasons')\n",
    "plt.ylabel('Frequency')\n",
    "plt.title('Bar Plot for Season')\n",
    "plt.show()"
   ]
  },
  {
   "cell_type": "code",
   "execution_count": 8,
   "id": "1c15f35f",
   "metadata": {},
   "outputs": [
    {
     "data": {
      "image/png": "[encoded data removed]",
      "text/plain": [
       "<Figure size 432x288 with 1 Axes>"
      ]
     },
     "metadata": {
      "needs_background": "light"
     },
     "output_type": "display_data"
    }
   ],
   "source": [
    "sns.countplot(x='Season', data=data)\n",
    "plt.show()"
   ]
  },
  {
   "cell_type": "markdown",
   "id": "bf0a73b5",
   "metadata": {},
   "source": [
    "#### Histogram\n",
    "The concept of the histogram is the same as the bar chart. In a bar chart, the frequency is shown in discrete bars of categorical variables; however, a histogram shows the frequency of a continuous interval. Basically, it is used to find the frequency of continuous variables within intervals."
   ]
  },
  {
   "cell_type": "code",
   "execution_count": 276,
   "id": "70994670",
   "metadata": {},
   "outputs": [
    {
     "data": {
      "image/png": "[encoded data removed]",
      "text/plain": [
       "<Figure size 576x360 with 1 Axes>"
      ]
     },
     "metadata": {
      "needs_background": "light"
     },
     "output_type": "display_data"
    }
   ],
   "source": [
    "import matplotlib.pyplot as plt\n",
    "plt.figure(figsize =(8,5))\n",
    "plt.hist(data['Price (tk)'], color='#066471')\n",
    "plt.xlabel('Price Interval')\n",
    "plt.ylabel('Frequency')\n",
    "plt.title('Histogram for Price')\n",
    "plt.show()"
   ]
  },
  {
   "cell_type": "markdown",
   "id": "8265b0f1",
   "metadata": {},
   "source": [
    "#### Pie chart\n",
    "The pie chart shows the frequency in terms of percentage in a circular manner. Each element holds the area of the circle according to its frequency percentage."
   ]
  },
  {
   "cell_type": "code",
   "execution_count": 280,
   "id": "c134cc7b",
   "metadata": {},
   "outputs": [
    {
     "data": {
      "image/png": "[encoded data removed]",
      "text/plain": [
       "<Figure size 432x288 with 1 Axes>"
      ]
     },
     "metadata": {},
     "output_type": "display_data"
    }
   ],
   "source": [
    "import matplotlib.pyplot as plt\n",
    "import seaborn as sns   #For plotting the pie chart, i have used the seaborn libary\n",
    "\n",
    "#define data\n",
    "x = data['Season'].value_counts()\n",
    "labels = data['Season'].value_counts().index\n",
    "\n",
    "#define Seaborn color plette to use\n",
    "colors = sns.color_palette('bright')[0:3]\n",
    "\n",
    "#create pie chart\n",
    "plt.pie(x, labels = labels, colors = colors, autopct= '%.0f%%')\n",
    "plt.title('Pie Chart for Seasonal Vegetable', fontsize=16)\n",
    "plt.show()"
   ]
  },
  {
   "cell_type": "markdown",
   "id": "2ca4d23d",
   "metadata": {},
   "source": [
    "#### Exploded Pie Chart\n",
    "The pie chart and exploded pie chart are the same. In the exploded pie chart, you can segregate a portion of a pie chart to highlight elements."
   ]
  },
  {
   "cell_type": "code",
   "execution_count": 281,
   "id": "61c964c1",
   "metadata": {},
   "outputs": [
    {
     "data": {
      "image/png": "[encoded data removed]",
      "text/plain": [
       "<Figure size 432x288 with 1 Axes>"
      ]
     },
     "metadata": {},
     "output_type": "display_data"
    }
   ],
   "source": [
    "import matplotlib.pyplot as plt\n",
    "import seaborn as sns\n",
    "\n",
    "#define data\n",
    "x = data['Season'].value_counts()\n",
    "labels = data['Season'].value_counts().index\n",
    "myexplode = [0, 0, 0.2]\n",
    "\n",
    "#define Seaborn color plette to use\n",
    "colors = sns.color_palette('bright')[0:3]\n",
    "\n",
    "#create pie chart\n",
    "plt.pie(x, labels = labels, explode=myexplode, colors = colors, autopct= '%.0f%%')\n",
    "plt.title('Exploded Pie Chart for Seasonal Vegetable', fontsize=16)\n",
    "plt.show()"
   ]
  },
  {
   "cell_type": "markdown",
   "id": "95868bd0",
   "metadata": {},
   "source": [
    "#### Distribution Plot\n",
    "We can understand how a continuous variable's values are distributed with the distrution plot"
   ]
  },
  {
   "cell_type": "code",
   "execution_count": 282,
   "id": "c088d376",
   "metadata": {},
   "outputs": [
    {
     "data": {
      "image/png": "[encoded data removed]",
      "text/plain": [
       "<Figure size 360x360 with 1 Axes>"
      ]
     },
     "metadata": {
      "needs_background": "light"
     },
     "output_type": "display_data"
    }
   ],
   "source": [
    "import matplotlib.pyplot as plt\n",
    "import seaborn as sns\n",
    "\n",
    "sns.displot(data, x='Price (tk)', kind='kde')\n",
    "plt.title('Distribution of Price of Vegetables', fontsize=16)\n",
    "plt.show()"
   ]
  },
  {
   "cell_type": "markdown",
   "id": "b323206a",
   "metadata": {},
   "source": [
    "#### Box Plot\n",
    "The following graph is a box plot where the box indicates the range between the 1st(Q1) and 3rd(Q3) quartiles. The vertical line of the left and right sides indicates the outlier fences, values beyoud the lines are considered outliers. The yellow vertical line inside the box indicates the 2nd quartile (Q2)"
   ]
  },
  {
   "cell_type": "code",
   "execution_count": 5,
   "id": "dc9995a1",
   "metadata": {},
   "outputs": [
    {
     "data": {
      "image/png": "[encoded data removed]",
      "text/plain": [
       "<Figure size 432x288 with 1 Axes>"
      ]
     },
     "metadata": {
      "needs_background": "light"
     },
     "output_type": "display_data"
    }
   ],
   "source": [
    "import seaborn as sns\n",
    "# This plot is used to find the central tendency, and dispersion can also be estimated.\n",
    "# A codified example of a box plot is given below\n",
    "\n",
    "sns.boxplot(data=data, x= 'Price (tk)', y='Season', width=0.5)\n",
    "plt.title('Boxplot for Price of Seasonal Vegetable', fontsize=16)\n",
    "plt.show()"
   ]
  },
  {
   "cell_type": "code",
   "execution_count": 6,
   "id": "70e9f22e",
   "metadata": {},
   "outputs": [],
   "source": [
    "import seaborn as sns"
   ]
  },
  {
   "cell_type": "code",
   "execution_count": 7,
   "id": "f4e13b4b",
   "metadata": {},
   "outputs": [
    {
     "data": {
      "text/plain": [
       "Vegetable      11\n",
       "Season          3\n",
       "Weight (gm)    23\n",
       "Price (tk)     11\n",
       "dtype: int64"
      ]
     },
     "execution_count": 7,
     "metadata": {},
     "output_type": "execute_result"
    }
   ],
   "source": [
    "data.nunique()"
   ]
  },
  {
   "cell_type": "code",
   "execution_count": null,
   "id": "ae6f714e",
   "metadata": {},
   "outputs": [],
   "source": []
  }
 ],
 "metadata": {
  "kernelspec": {
   "display_name": "Python 3 (ipykernel)",
   "language": "python",
   "name": "python3"
  },
  "language_info": {
   "codemirror_mode": {
    "name": "ipython",
    "version": 3
   },
   "file_extension": ".py",
   "mimetype": "text/x-python",
   "name": "python",
   "nbconvert_exporter": "python",
   "pygments_lexer": "ipython3",
   "version": "3.9.12"
  }
 },
 "nbformat": 4,
 "nbformat_minor": 5
}
